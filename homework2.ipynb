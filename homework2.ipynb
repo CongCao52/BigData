{
  "nbformat": 4,
  "nbformat_minor": 0,
  "metadata": {
    "colab": {
      "provenance": [],
      "collapsed_sections": [
        "ooVqjTGm9eCA"
      ]
    },
    "kernelspec": {
      "display_name": "Python 3",
      "name": "python3"
    },
    "language_info": {
      "name": "python"
    }
  },
  "cells": [
    {
      "cell_type": "markdown",
      "metadata": {
        "id": "wlv8esDGMj0h"
      },
      "source": [
        "# CIS 5450 Homework 2: SQL\n",
        "## Due: Monday, Oct 11, 2022 by 11:59pm ET \n",
        "### Worth 100 points in total\n",
        "\n",
        "Welcome to Homework 2! By now, you should be familiar with the world of data science and the Pandas library. This assignment will focus on broadening both of these horizons by covering hierarchical data, graphs, and traversing relationships as well as a new tool to add to your data science arsenal: SQL.\n",
        "\n",
        "Through this homework, we will familiarize ourselves with SQL (specifically **pandasql**) and explore a dataset that involves movie statistics and reviews courtesy of Rotten Tomatoes. We will finish off the homework with some text analysis.\n",
        "\n",
        "We are introducing a lot of new things in this homework, and it is often where students start to get lost in the data science sauce, so we **strongly** encourage you to review the slides/material as you work through this assignment and will try to link the most relevant sections!\n",
        "\n",
        "**Before you Begin**\n",
        "- Be sure to click \"Copy to Drive\" to make sure you are working on your own personal version of the homework\n",
        "- Read the Ed Discussion and FAQ for updates! If you have been stuck, chances are other students are too! We don't want you to waste away for two hours trying to get that last point on the autograder so do check Ed Discussion for similar struggles or even homework bugs that will be clarified in the FAQ :) "
      ]
    },
    {
      "cell_type": "markdown",
      "metadata": {
        "id": "W0hcZWDcqCUL"
      },
      "source": [
        "## Part 0: Libraries and Set Up Jargon (The usual wall of imports)"
      ]
    },
    {
      "cell_type": "code",
      "metadata": {
        "id": "ylkUtozb2Oc8",
        "colab": {
          "base_uri": "https://localhost:8080/"
        },
        "outputId": "044b0c6c-13cd-48ad-c90e-597d33d49bcc"
      },
      "source": [
        "!pip3 install penngrader\n",
        "!pip install pandasql"
      ],
      "execution_count": 459,
      "outputs": [
        {
          "output_type": "stream",
          "name": "stdout",
          "text": [
            "Looking in indexes: https://pypi.org/simple, https://us-python.pkg.dev/colab-wheels/public/simple/\n",
            "Requirement already satisfied: penngrader in /usr/local/lib/python3.7/dist-packages (0.4)\n",
            "Looking in indexes: https://pypi.org/simple, https://us-python.pkg.dev/colab-wheels/public/simple/\n",
            "Requirement already satisfied: pandasql in /usr/local/lib/python3.7/dist-packages (0.7.3)\n",
            "Requirement already satisfied: sqlalchemy in /usr/local/lib/python3.7/dist-packages (from pandasql) (1.4.41)\n",
            "Requirement already satisfied: numpy in /usr/local/lib/python3.7/dist-packages (from pandasql) (1.21.6)\n",
            "Requirement already satisfied: pandas in /usr/local/lib/python3.7/dist-packages (from pandasql) (1.1.5)\n",
            "Requirement already satisfied: pytz>=2017.2 in /usr/local/lib/python3.7/dist-packages (from pandas->pandasql) (2022.4)\n",
            "Requirement already satisfied: python-dateutil>=2.7.3 in /usr/local/lib/python3.7/dist-packages (from pandas->pandasql) (2.8.2)\n",
            "Requirement already satisfied: six>=1.5 in /usr/local/lib/python3.7/dist-packages (from python-dateutil>=2.7.3->pandas->pandasql) (1.15.0)\n",
            "Requirement already satisfied: importlib-metadata in /usr/local/lib/python3.7/dist-packages (from sqlalchemy->pandasql) (5.0.0)\n",
            "Requirement already satisfied: greenlet!=0.4.17 in /usr/local/lib/python3.7/dist-packages (from sqlalchemy->pandasql) (1.1.3)\n",
            "Requirement already satisfied: typing-extensions>=3.6.4 in /usr/local/lib/python3.7/dist-packages (from importlib-metadata->sqlalchemy->pandasql) (4.1.1)\n",
            "Requirement already satisfied: zipp>=0.5 in /usr/local/lib/python3.7/dist-packages (from importlib-metadata->sqlalchemy->pandasql) (3.8.1)\n"
          ]
        }
      ]
    },
    {
      "cell_type": "code",
      "source": [
        "!pip install pandas==1.1.5"
      ],
      "metadata": {
        "id": "goglom5eSRPk",
        "colab": {
          "base_uri": "https://localhost:8080/"
        },
        "outputId": "ba1f636d-e6ca-402a-ddbe-8e2947f63970"
      },
      "execution_count": 460,
      "outputs": [
        {
          "output_type": "stream",
          "name": "stdout",
          "text": [
            "Looking in indexes: https://pypi.org/simple, https://us-python.pkg.dev/colab-wheels/public/simple/\n",
            "Requirement already satisfied: pandas==1.1.5 in /usr/local/lib/python3.7/dist-packages (1.1.5)\n",
            "Requirement already satisfied: pytz>=2017.2 in /usr/local/lib/python3.7/dist-packages (from pandas==1.1.5) (2022.4)\n",
            "Requirement already satisfied: numpy>=1.15.4 in /usr/local/lib/python3.7/dist-packages (from pandas==1.1.5) (1.21.6)\n",
            "Requirement already satisfied: python-dateutil>=2.7.3 in /usr/local/lib/python3.7/dist-packages (from pandas==1.1.5) (2.8.2)\n",
            "Requirement already satisfied: six>=1.5 in /usr/local/lib/python3.7/dist-packages (from python-dateutil>=2.7.3->pandas==1.1.5) (1.15.0)\n"
          ]
        }
      ]
    },
    {
      "cell_type": "code",
      "metadata": {
        "id": "LAXVD0Lo454x",
        "colab": {
          "base_uri": "https://localhost:8080/"
        },
        "outputId": "23cfa697-0957-4fa2-d588-11182a3a06dd"
      },
      "source": [
        "from penngrader.grader import *\n",
        "import pandas as pd\n",
        "import datetime as dt\n",
        "import numpy as np\n",
        "import re\n",
        "import pandasql as ps #SQL on Pandas Dataframe\n",
        "import nltk\n",
        "nltk.download('punkt')\n",
        "\n",
        "from wordcloud import WordCloud\n",
        "import matplotlib.pyplot as plt \n",
        "from collections import Counter\n",
        "import random"
      ],
      "execution_count": 461,
      "outputs": [
        {
          "output_type": "stream",
          "name": "stderr",
          "text": [
            "[nltk_data] Downloading package punkt to /root/nltk_data...\n",
            "[nltk_data]   Package punkt is already up-to-date!\n"
          ]
        }
      ]
    },
    {
      "cell_type": "code",
      "metadata": {
        "id": "LyTldwTj4aY9",
        "colab": {
          "base_uri": "https://localhost:8080/"
        },
        "outputId": "5895c189-0e48-4519-e07e-a09ac672d217"
      },
      "source": [
        "# Three datasets we're using\n",
        "! wget -nc https://storage.googleapis.com/penn-cis5450/rotten_tomatoes_movies.csv\n",
        "! wget -nc https://storage.googleapis.com/penn-cis5450/rotten_tomatoes_critic_reviews.csv\n",
        "! wget -nc https://storage.googleapis.com/penn-cis5450/MoviesOnStreamingPlatforms.csv"
      ],
      "execution_count": 462,
      "outputs": [
        {
          "output_type": "stream",
          "name": "stdout",
          "text": [
            "File ‘rotten_tomatoes_movies.csv’ already there; not retrieving.\n",
            "\n",
            "File ‘rotten_tomatoes_critic_reviews.csv’ already there; not retrieving.\n",
            "\n",
            "File ‘MoviesOnStreamingPlatforms.csv’ already there; not retrieving.\n",
            "\n"
          ]
        }
      ]
    },
    {
      "cell_type": "code",
      "metadata": {
        "id": "b5NogkmdhhQ7",
        "colab": {
          "base_uri": "https://localhost:8080/"
        },
        "outputId": "64733c18-7cb2-49a7-ea22-6a4b5a70ecbd"
      },
      "source": [
        "print(pd.__version__)\n",
        "# Make sure it's 1.1.5"
      ],
      "execution_count": 463,
      "outputs": [
        {
          "output_type": "stream",
          "name": "stdout",
          "text": [
            "1.1.5\n"
          ]
        }
      ]
    },
    {
      "cell_type": "markdown",
      "metadata": {
        "id": "TeyWoMn6pxSC"
      },
      "source": [
        "### PennGrader Setup"
      ]
    },
    {
      "cell_type": "code",
      "metadata": {
        "id": "4ds2HHSkpvBO"
      },
      "source": [
        "# PLEASE ENSURE YOUR PENN-ID IS ENTERED CORRECTLY. IF NOT, THE AUTOGRADER WON'T KNOW \n",
        "# TO ASSIGN POINTS TO YOU IN OUR BACKEND\n",
        "STUDENT_ID = 10760059 # YOUR PENN-ID GOES HERE AS AN INTEGER #"
      ],
      "execution_count": 464,
      "outputs": []
    },
    {
      "cell_type": "code",
      "metadata": {
        "id": "vAsLYJGotKbO",
        "colab": {
          "base_uri": "https://localhost:8080/"
        },
        "outputId": "33d8205d-9a60-4a65-99ee-a716ea647589"
      },
      "source": [
        "grader = PennGrader(homework_id = 'CIS_5450O_Fall22_HW2', student_id = STUDENT_ID)"
      ],
      "execution_count": 465,
      "outputs": [
        {
          "output_type": "stream",
          "name": "stdout",
          "text": [
            "PennGrader initialized with Student ID: 10760059\n",
            "\n",
            "Make sure this correct or we will not be able to store your grade\n"
          ]
        }
      ]
    },
    {
      "cell_type": "markdown",
      "metadata": {
        "id": "VzZ6JNnKLplQ"
      },
      "source": [
        "\n",
        "\n",
        "# Section 1: Welcome to the movies!\n",
        "\n",
        "<br>\n",
        "<center><img src = \"https://upload.wikimedia.org/wikipedia/commons/thumb/6/6f/Rotten_Tomatoes_logo.svg/2880px-Rotten_Tomatoes_logo.svg.png\" width= \"500\" align =\"center\"/></center>\n",
        "<br>\n",
        "\n",
        "I'm sure everyone has looked on the internet at some point in their lives for reviews, whether it be for products, locations, or services. Reviews are important because they give us knowledge about how good (or bad) the reviewed item was, at least in the past. Rotten Tomatoes contains one of the most comprehensive databases of movie/TV show reviews. Its name comes from how audience members in the past tended to throw rotten tomatoes when they disliked a stage performance. Formed in 1998 by a bunch of students, it has withstood the test of time, and the rest is history... that you can read about yourself on [Wikipedia](https://en.wikipedia.org/wiki/Rotten_Tomatoes). \n",
        "\n",
        "\n",
        "In this homework, we'll be exploring some data about movies including:\n",
        "\n",
        "*   Movies: data about movies in the Rotten Tomatoes database.\n",
        "\n",
        "*   Reviews: data about each review that was posted on Rotten Tomatoes.\n",
        "\n",
        "*   Streamed movies: data about the movies that are currently available on major streaming platforms. \n",
        "\n",
        "\n",
        "We'll be parsing this data into dataframes and relations, and then exploring how to query and assemble the tables into results. We will primarily be using PandaSQL, but for some of the initial questions, we will ask you to perform the same operations in Pandas as well, so as to familiarize you with the differences and similarities of the two. `"
      ]
    },
    {
      "cell_type": "markdown",
      "metadata": {
        "id": "oENmSeFkFRCo"
      },
      "source": [
        "## Part 1: Load & Process our Datasets [9 points total]\n",
        "\n",
        "Before we get into the data, we first need to load and clean our datasets. \n",
        "\n",
        "**TODO**:\n",
        "* Load and save the `rotten_tomatoes_movies.csv` to a dataframe called `movies_df`.\n",
        "* Load and save the `rotten_tomatoes_critic_reviews.csv` to a dataframe called `reviews_df`.\n",
        "* Load and save the `MoviesOnStreamingPlatforms.csv` to a dataframe called `streaming_df` without the index column being included."
      ]
    },
    {
      "cell_type": "code",
      "metadata": {
        "id": "zfMn38A25Vt8"
      },
      "source": [
        "# TODO: Import the datasets to pandas dataframes -- make sure the dataframes are named correctly! \n",
        "movies_df = pd.read_csv('rotten_tomatoes_movies.csv')\n",
        "reviews_df = pd.read_csv('rotten_tomatoes_critic_reviews.csv')\n",
        "streaming_df = pd.read_csv('MoviesOnStreamingPlatforms.csv')"
      ],
      "execution_count": 466,
      "outputs": []
    },
    {
      "cell_type": "code",
      "metadata": {
        "id": "6LLY5EEmNxnr",
        "colab": {
          "base_uri": "https://localhost:8080/",
          "height": 1000
        },
        "outputId": "bdd3c0a7-f8b9-4924-8729-799f06f5d476"
      },
      "source": [
        "# view movies_df to make sure the import was successful\n",
        "movies_df"
      ],
      "execution_count": 467,
      "outputs": [
        {
          "output_type": "execute_result",
          "data": {
            "text/plain": [
              "                        rotten_tomatoes_link  \\\n",
              "0                                  m/0814255   \n",
              "1                                  m/0878835   \n",
              "2                                       m/10   \n",
              "3                     m/1000013-12_angry_men   \n",
              "4      m/1000079-20000_leagues_under_the_sea   \n",
              "...                                      ...   \n",
              "17707                            m/zoot_suit   \n",
              "17708                             m/zootopia   \n",
              "17709                      m/zorba_the_greek   \n",
              "17710                                 m/zulu   \n",
              "17711                            m/zulu_dawn   \n",
              "\n",
              "                                             movie_title  \\\n",
              "0      Percy Jackson & the Olympians: The Lightning T...   \n",
              "1                                            Please Give   \n",
              "2                                                     10   \n",
              "3                        12 Angry Men (Twelve Angry Men)   \n",
              "4                           20,000 Leagues Under The Sea   \n",
              "...                                                  ...   \n",
              "17707                                          Zoot Suit   \n",
              "17708                                           Zootopia   \n",
              "17709                                    Zorba the Greek   \n",
              "17710                                               Zulu   \n",
              "17711                                          Zulu Dawn   \n",
              "\n",
              "                                              movie_info  \\\n",
              "0      Always trouble-prone, the life of teenager Per...   \n",
              "1      Kate (Catherine Keener) and her husband Alex (...   \n",
              "2      A successful, middle-aged Hollywood songwriter...   \n",
              "3      Following the closing arguments in a murder tr...   \n",
              "4      In 1866, Professor Pierre M. Aronnax (Paul Luk...   \n",
              "...                                                  ...   \n",
              "17707  Mexican-American gangster Henry Reyna (Daniel ...   \n",
              "17708  From the largest elephant to the smallest shre...   \n",
              "17709  Traveling to inspect an abandoned mine his fat...   \n",
              "17710  In 1879, the Zulu nation hands colonial Britis...   \n",
              "17711  Sir Henry Bartle Frere's (John Mills) vastly o...   \n",
              "\n",
              "                                       critics_consensus content_rating  \\\n",
              "0      Though it may seem like just another Harry Pot...             PG   \n",
              "1      Nicole Holofcener's newest might seem slight i...              R   \n",
              "2      Blake Edwards' bawdy comedy may not score a pe...              R   \n",
              "3      Sidney Lumet's feature debut is a superbly wri...             NR   \n",
              "4      One of Disney's finest live-action adventures,...              G   \n",
              "...                                                  ...            ...   \n",
              "17707                                                NaN              R   \n",
              "17708  The brilliantly well-rounded Zootopia offers a...             PG   \n",
              "17709                                                NaN             NR   \n",
              "17710  Zulu patiently establishes a cast of colorful ...             PG   \n",
              "17711                                                NaN             PG   \n",
              "\n",
              "                                                  genres  \\\n",
              "0      Action & Adventure, Comedy, Drama, Science Fic...   \n",
              "1                                                 Comedy   \n",
              "2                                        Comedy, Romance   \n",
              "3                                        Classics, Drama   \n",
              "4               Action & Adventure, Drama, Kids & Family   \n",
              "...                                                  ...   \n",
              "17707                   Drama, Musical & Performing Arts   \n",
              "17708              Action & Adventure, Animation, Comedy   \n",
              "17709  Action & Adventure, Art House & International,...   \n",
              "17710                                    Classics, Drama   \n",
              "17711  Action & Adventure, Art House & International,...   \n",
              "\n",
              "                                  directors  \\\n",
              "0                            Chris Columbus   \n",
              "1                         Nicole Holofcener   \n",
              "2                             Blake Edwards   \n",
              "3                              Sidney Lumet   \n",
              "4                         Richard Fleischer   \n",
              "...                                     ...   \n",
              "17707                           Luis Valdez   \n",
              "17708  Byron Howard, Rich Moore, Jared Bush   \n",
              "17709                                   NaN   \n",
              "17710           Cy Endfield, Cyril Endfield   \n",
              "17711                        Douglas Hickox   \n",
              "\n",
              "                                          authors  \\\n",
              "0      Craig Titley, Chris Columbus, Rick Riordan   \n",
              "1                               Nicole Holofcener   \n",
              "2                                   Blake Edwards   \n",
              "3                                   Reginald Rose   \n",
              "4                                     Earl Felton   \n",
              "...                                           ...   \n",
              "17707                                 Luis Valdez   \n",
              "17708                   Jared Bush, Phil Johnston   \n",
              "17709                                         NaN   \n",
              "17710                   Cy Endfield, John Prebble   \n",
              "17711                 Cy Endfield, Anthony Storey   \n",
              "\n",
              "                                                  actors  \\\n",
              "0      Logan Lerman, Brandon T. Jackson, Alexandra Da...   \n",
              "1      Catherine Keener, Amanda Peet, Oliver Platt, R...   \n",
              "2      Dudley Moore, Bo Derek, Julie Andrews, Robert ...   \n",
              "3      Martin Balsam, John Fiedler, Lee J. Cobb, E.G....   \n",
              "4      James Mason, Kirk Douglas, Paul Lukas, Peter L...   \n",
              "...                                                  ...   \n",
              "17707  Daniel Valdez, Edward James Olmos, Charles Aid...   \n",
              "17708  J.K. Simmons, Kristen Bell, Octavia Spencer, A...   \n",
              "17709  Anthony Quinn, Alan Bates, Irene Papas, Lila K...   \n",
              "17710  Stanley Baker, Jack Hawkins, Ulla Jacobsson, J...   \n",
              "17711  Burt Lancaster, Peter O'Toole, Simon Ward, Joh...   \n",
              "\n",
              "      original_release_date  ... runtime             production_company  \\\n",
              "0                2010-02-12  ...   119.0               20th Century Fox   \n",
              "1                2010-04-30  ...    90.0         Sony Pictures Classics   \n",
              "2                1979-10-05  ...   122.0                    Waner Bros.   \n",
              "3                1957-04-13  ...    95.0           Criterion Collection   \n",
              "4                1954-01-01  ...   127.0                         Disney   \n",
              "...                     ...  ...     ...                            ...   \n",
              "17707            1981-10-02  ...   104.0       MCA Universal Home Video   \n",
              "17708            2016-03-04  ...   108.0  Walt Disney Animation Studios   \n",
              "17709            1964-12-17  ...   142.0                            Fox   \n",
              "17710            1964-06-17  ...   135.0             Paramount Pictures   \n",
              "17711            1979-12-14  ...   121.0            Tango Entertainment   \n",
              "\n",
              "      tomatometer_status tomatometer_rating  tomatometer_count  \\\n",
              "0                 Rotten               49.0              149.0   \n",
              "1        Certified-Fresh               87.0              142.0   \n",
              "2                  Fresh               67.0               24.0   \n",
              "3        Certified-Fresh              100.0               54.0   \n",
              "4                  Fresh               89.0               27.0   \n",
              "...                  ...                ...                ...   \n",
              "17707             Rotten               56.0                9.0   \n",
              "17708    Certified-Fresh               98.0              291.0   \n",
              "17709              Fresh               80.0               10.0   \n",
              "17710              Fresh               96.0               23.0   \n",
              "17711             Rotten               50.0                8.0   \n",
              "\n",
              "       audience_status audience_rating  audience_count  \\\n",
              "0              Spilled            53.0        254421.0   \n",
              "1              Upright            64.0         11574.0   \n",
              "2              Spilled            53.0         14684.0   \n",
              "3              Upright            97.0        105386.0   \n",
              "4              Upright            74.0         68918.0   \n",
              "...                ...             ...             ...   \n",
              "17707          Upright            74.0          1195.0   \n",
              "17708          Upright            92.0        101511.0   \n",
              "17709          Upright            86.0          7146.0   \n",
              "17710          Upright            91.0         30193.0   \n",
              "17711          Upright            62.0          4469.0   \n",
              "\n",
              "       tomatometer_fresh_critics_count  tomatometer_rotten_critics_count  \n",
              "0                                   73                                76  \n",
              "1                                  123                                19  \n",
              "2                                   16                                 8  \n",
              "3                                   54                                 0  \n",
              "4                                   24                                 3  \n",
              "...                                ...                               ...  \n",
              "17707                                5                                 4  \n",
              "17708                              285                                 7  \n",
              "17709                                8                                 2  \n",
              "17710                               22                                 1  \n",
              "17711                                4                                 4  \n",
              "\n",
              "[17712 rows x 21 columns]"
            ],
            "text/html": [
              "\n",
              "  <div id=\"df-a85d451c-66f6-4545-ab92-942ed08b7f6d\">\n",
              "    <div class=\"colab-df-container\">\n",
              "      <div>\n",
              "<style scoped>\n",
              "    .dataframe tbody tr th:only-of-type {\n",
              "        vertical-align: middle;\n",
              "    }\n",
              "\n",
              "    .dataframe tbody tr th {\n",
              "        vertical-align: top;\n",
              "    }\n",
              "\n",
              "    .dataframe thead th {\n",
              "        text-align: right;\n",
              "    }\n",
              "</style>\n",
              "<table border=\"1\" class=\"dataframe\">\n",
              "  <thead>\n",
              "    <tr style=\"text-align: right;\">\n",
              "      <th></th>\n",
              "      <th>rotten_tomatoes_link</th>\n",
              "      <th>movie_title</th>\n",
              "      <th>movie_info</th>\n",
              "      <th>critics_consensus</th>\n",
              "      <th>content_rating</th>\n",
              "      <th>genres</th>\n",
              "      <th>directors</th>\n",
              "      <th>authors</th>\n",
              "      <th>actors</th>\n",
              "      <th>original_release_date</th>\n",
              "      <th>...</th>\n",
              "      <th>runtime</th>\n",
              "      <th>production_company</th>\n",
              "      <th>tomatometer_status</th>\n",
              "      <th>tomatometer_rating</th>\n",
              "      <th>tomatometer_count</th>\n",
              "      <th>audience_status</th>\n",
              "      <th>audience_rating</th>\n",
              "      <th>audience_count</th>\n",
              "      <th>tomatometer_fresh_critics_count</th>\n",
              "      <th>tomatometer_rotten_critics_count</th>\n",
              "    </tr>\n",
              "  </thead>\n",
              "  <tbody>\n",
              "    <tr>\n",
              "      <th>0</th>\n",
              "      <td>m/0814255</td>\n",
              "      <td>Percy Jackson &amp; the Olympians: The Lightning T...</td>\n",
              "      <td>Always trouble-prone, the life of teenager Per...</td>\n",
              "      <td>Though it may seem like just another Harry Pot...</td>\n",
              "      <td>PG</td>\n",
              "      <td>Action &amp; Adventure, Comedy, Drama, Science Fic...</td>\n",
              "      <td>Chris Columbus</td>\n",
              "      <td>Craig Titley, Chris Columbus, Rick Riordan</td>\n",
              "      <td>Logan Lerman, Brandon T. Jackson, Alexandra Da...</td>\n",
              "      <td>2010-02-12</td>\n",
              "      <td>...</td>\n",
              "      <td>119.0</td>\n",
              "      <td>20th Century Fox</td>\n",
              "      <td>Rotten</td>\n",
              "      <td>49.0</td>\n",
              "      <td>149.0</td>\n",
              "      <td>Spilled</td>\n",
              "      <td>53.0</td>\n",
              "      <td>254421.0</td>\n",
              "      <td>73</td>\n",
              "      <td>76</td>\n",
              "    </tr>\n",
              "    <tr>\n",
              "      <th>1</th>\n",
              "      <td>m/0878835</td>\n",
              "      <td>Please Give</td>\n",
              "      <td>Kate (Catherine Keener) and her husband Alex (...</td>\n",
              "      <td>Nicole Holofcener's newest might seem slight i...</td>\n",
              "      <td>R</td>\n",
              "      <td>Comedy</td>\n",
              "      <td>Nicole Holofcener</td>\n",
              "      <td>Nicole Holofcener</td>\n",
              "      <td>Catherine Keener, Amanda Peet, Oliver Platt, R...</td>\n",
              "      <td>2010-04-30</td>\n",
              "      <td>...</td>\n",
              "      <td>90.0</td>\n",
              "      <td>Sony Pictures Classics</td>\n",
              "      <td>Certified-Fresh</td>\n",
              "      <td>87.0</td>\n",
              "      <td>142.0</td>\n",
              "      <td>Upright</td>\n",
              "      <td>64.0</td>\n",
              "      <td>11574.0</td>\n",
              "      <td>123</td>\n",
              "      <td>19</td>\n",
              "    </tr>\n",
              "    <tr>\n",
              "      <th>2</th>\n",
              "      <td>m/10</td>\n",
              "      <td>10</td>\n",
              "      <td>A successful, middle-aged Hollywood songwriter...</td>\n",
              "      <td>Blake Edwards' bawdy comedy may not score a pe...</td>\n",
              "      <td>R</td>\n",
              "      <td>Comedy, Romance</td>\n",
              "      <td>Blake Edwards</td>\n",
              "      <td>Blake Edwards</td>\n",
              "      <td>Dudley Moore, Bo Derek, Julie Andrews, Robert ...</td>\n",
              "      <td>1979-10-05</td>\n",
              "      <td>...</td>\n",
              "      <td>122.0</td>\n",
              "      <td>Waner Bros.</td>\n",
              "      <td>Fresh</td>\n",
              "      <td>67.0</td>\n",
              "      <td>24.0</td>\n",
              "      <td>Spilled</td>\n",
              "      <td>53.0</td>\n",
              "      <td>14684.0</td>\n",
              "      <td>16</td>\n",
              "      <td>8</td>\n",
              "    </tr>\n",
              "    <tr>\n",
              "      <th>3</th>\n",
              "      <td>m/1000013-12_angry_men</td>\n",
              "      <td>12 Angry Men (Twelve Angry Men)</td>\n",
              "      <td>Following the closing arguments in a murder tr...</td>\n",
              "      <td>Sidney Lumet's feature debut is a superbly wri...</td>\n",
              "      <td>NR</td>\n",
              "      <td>Classics, Drama</td>\n",
              "      <td>Sidney Lumet</td>\n",
              "      <td>Reginald Rose</td>\n",
              "      <td>Martin Balsam, John Fiedler, Lee J. Cobb, E.G....</td>\n",
              "      <td>1957-04-13</td>\n",
              "      <td>...</td>\n",
              "      <td>95.0</td>\n",
              "      <td>Criterion Collection</td>\n",
              "      <td>Certified-Fresh</td>\n",
              "      <td>100.0</td>\n",
              "      <td>54.0</td>\n",
              "      <td>Upright</td>\n",
              "      <td>97.0</td>\n",
              "      <td>105386.0</td>\n",
              "      <td>54</td>\n",
              "      <td>0</td>\n",
              "    </tr>\n",
              "    <tr>\n",
              "      <th>4</th>\n",
              "      <td>m/1000079-20000_leagues_under_the_sea</td>\n",
              "      <td>20,000 Leagues Under The Sea</td>\n",
              "      <td>In 1866, Professor Pierre M. Aronnax (Paul Luk...</td>\n",
              "      <td>One of Disney's finest live-action adventures,...</td>\n",
              "      <td>G</td>\n",
              "      <td>Action &amp; Adventure, Drama, Kids &amp; Family</td>\n",
              "      <td>Richard Fleischer</td>\n",
              "      <td>Earl Felton</td>\n",
              "      <td>James Mason, Kirk Douglas, Paul Lukas, Peter L...</td>\n",
              "      <td>1954-01-01</td>\n",
              "      <td>...</td>\n",
              "      <td>127.0</td>\n",
              "      <td>Disney</td>\n",
              "      <td>Fresh</td>\n",
              "      <td>89.0</td>\n",
              "      <td>27.0</td>\n",
              "      <td>Upright</td>\n",
              "      <td>74.0</td>\n",
              "      <td>68918.0</td>\n",
              "      <td>24</td>\n",
              "      <td>3</td>\n",
              "    </tr>\n",
              "    <tr>\n",
              "      <th>...</th>\n",
              "      <td>...</td>\n",
              "      <td>...</td>\n",
              "      <td>...</td>\n",
              "      <td>...</td>\n",
              "      <td>...</td>\n",
              "      <td>...</td>\n",
              "      <td>...</td>\n",
              "      <td>...</td>\n",
              "      <td>...</td>\n",
              "      <td>...</td>\n",
              "      <td>...</td>\n",
              "      <td>...</td>\n",
              "      <td>...</td>\n",
              "      <td>...</td>\n",
              "      <td>...</td>\n",
              "      <td>...</td>\n",
              "      <td>...</td>\n",
              "      <td>...</td>\n",
              "      <td>...</td>\n",
              "      <td>...</td>\n",
              "      <td>...</td>\n",
              "    </tr>\n",
              "    <tr>\n",
              "      <th>17707</th>\n",
              "      <td>m/zoot_suit</td>\n",
              "      <td>Zoot Suit</td>\n",
              "      <td>Mexican-American gangster Henry Reyna (Daniel ...</td>\n",
              "      <td>NaN</td>\n",
              "      <td>R</td>\n",
              "      <td>Drama, Musical &amp; Performing Arts</td>\n",
              "      <td>Luis Valdez</td>\n",
              "      <td>Luis Valdez</td>\n",
              "      <td>Daniel Valdez, Edward James Olmos, Charles Aid...</td>\n",
              "      <td>1981-10-02</td>\n",
              "      <td>...</td>\n",
              "      <td>104.0</td>\n",
              "      <td>MCA Universal Home Video</td>\n",
              "      <td>Rotten</td>\n",
              "      <td>56.0</td>\n",
              "      <td>9.0</td>\n",
              "      <td>Upright</td>\n",
              "      <td>74.0</td>\n",
              "      <td>1195.0</td>\n",
              "      <td>5</td>\n",
              "      <td>4</td>\n",
              "    </tr>\n",
              "    <tr>\n",
              "      <th>17708</th>\n",
              "      <td>m/zootopia</td>\n",
              "      <td>Zootopia</td>\n",
              "      <td>From the largest elephant to the smallest shre...</td>\n",
              "      <td>The brilliantly well-rounded Zootopia offers a...</td>\n",
              "      <td>PG</td>\n",
              "      <td>Action &amp; Adventure, Animation, Comedy</td>\n",
              "      <td>Byron Howard, Rich Moore, Jared Bush</td>\n",
              "      <td>Jared Bush, Phil Johnston</td>\n",
              "      <td>J.K. Simmons, Kristen Bell, Octavia Spencer, A...</td>\n",
              "      <td>2016-03-04</td>\n",
              "      <td>...</td>\n",
              "      <td>108.0</td>\n",
              "      <td>Walt Disney Animation Studios</td>\n",
              "      <td>Certified-Fresh</td>\n",
              "      <td>98.0</td>\n",
              "      <td>291.0</td>\n",
              "      <td>Upright</td>\n",
              "      <td>92.0</td>\n",
              "      <td>101511.0</td>\n",
              "      <td>285</td>\n",
              "      <td>7</td>\n",
              "    </tr>\n",
              "    <tr>\n",
              "      <th>17709</th>\n",
              "      <td>m/zorba_the_greek</td>\n",
              "      <td>Zorba the Greek</td>\n",
              "      <td>Traveling to inspect an abandoned mine his fat...</td>\n",
              "      <td>NaN</td>\n",
              "      <td>NR</td>\n",
              "      <td>Action &amp; Adventure, Art House &amp; International,...</td>\n",
              "      <td>NaN</td>\n",
              "      <td>NaN</td>\n",
              "      <td>Anthony Quinn, Alan Bates, Irene Papas, Lila K...</td>\n",
              "      <td>1964-12-17</td>\n",
              "      <td>...</td>\n",
              "      <td>142.0</td>\n",
              "      <td>Fox</td>\n",
              "      <td>Fresh</td>\n",
              "      <td>80.0</td>\n",
              "      <td>10.0</td>\n",
              "      <td>Upright</td>\n",
              "      <td>86.0</td>\n",
              "      <td>7146.0</td>\n",
              "      <td>8</td>\n",
              "      <td>2</td>\n",
              "    </tr>\n",
              "    <tr>\n",
              "      <th>17710</th>\n",
              "      <td>m/zulu</td>\n",
              "      <td>Zulu</td>\n",
              "      <td>In 1879, the Zulu nation hands colonial Britis...</td>\n",
              "      <td>Zulu patiently establishes a cast of colorful ...</td>\n",
              "      <td>PG</td>\n",
              "      <td>Classics, Drama</td>\n",
              "      <td>Cy Endfield, Cyril Endfield</td>\n",
              "      <td>Cy Endfield, John Prebble</td>\n",
              "      <td>Stanley Baker, Jack Hawkins, Ulla Jacobsson, J...</td>\n",
              "      <td>1964-06-17</td>\n",
              "      <td>...</td>\n",
              "      <td>135.0</td>\n",
              "      <td>Paramount Pictures</td>\n",
              "      <td>Fresh</td>\n",
              "      <td>96.0</td>\n",
              "      <td>23.0</td>\n",
              "      <td>Upright</td>\n",
              "      <td>91.0</td>\n",
              "      <td>30193.0</td>\n",
              "      <td>22</td>\n",
              "      <td>1</td>\n",
              "    </tr>\n",
              "    <tr>\n",
              "      <th>17711</th>\n",
              "      <td>m/zulu_dawn</td>\n",
              "      <td>Zulu Dawn</td>\n",
              "      <td>Sir Henry Bartle Frere's (John Mills) vastly o...</td>\n",
              "      <td>NaN</td>\n",
              "      <td>PG</td>\n",
              "      <td>Action &amp; Adventure, Art House &amp; International,...</td>\n",
              "      <td>Douglas Hickox</td>\n",
              "      <td>Cy Endfield, Anthony Storey</td>\n",
              "      <td>Burt Lancaster, Peter O'Toole, Simon Ward, Joh...</td>\n",
              "      <td>1979-12-14</td>\n",
              "      <td>...</td>\n",
              "      <td>121.0</td>\n",
              "      <td>Tango Entertainment</td>\n",
              "      <td>Rotten</td>\n",
              "      <td>50.0</td>\n",
              "      <td>8.0</td>\n",
              "      <td>Upright</td>\n",
              "      <td>62.0</td>\n",
              "      <td>4469.0</td>\n",
              "      <td>4</td>\n",
              "      <td>4</td>\n",
              "    </tr>\n",
              "  </tbody>\n",
              "</table>\n",
              "<p>17712 rows × 21 columns</p>\n",
              "</div>\n",
              "      <button class=\"colab-df-convert\" onclick=\"convertToInteractive('df-a85d451c-66f6-4545-ab92-942ed08b7f6d')\"\n",
              "              title=\"Convert this dataframe to an interactive table.\"\n",
              "              style=\"display:none;\">\n",
              "        \n",
              "  <svg xmlns=\"http://www.w3.org/2000/svg\" height=\"24px\"viewBox=\"0 0 24 24\"\n",
              "       width=\"24px\">\n",
              "    <path d=\"M0 0h24v24H0V0z\" fill=\"none\"/>\n",
              "    <path d=\"M18.56 5.44l.94 2.06.94-2.06 2.06-.94-2.06-.94-.94-2.06-.94 2.06-2.06.94zm-11 1L8.5 8.5l.94-2.06 2.06-.94-2.06-.94L8.5 2.5l-.94 2.06-2.06.94zm10 10l.94 2.06.94-2.06 2.06-.94-2.06-.94-.94-2.06-.94 2.06-2.06.94z\"/><path d=\"M17.41 7.96l-1.37-1.37c-.4-.4-.92-.59-1.43-.59-.52 0-1.04.2-1.43.59L10.3 9.45l-7.72 7.72c-.78.78-.78 2.05 0 2.83L4 21.41c.39.39.9.59 1.41.59.51 0 1.02-.2 1.41-.59l7.78-7.78 2.81-2.81c.8-.78.8-2.07 0-2.86zM5.41 20L4 18.59l7.72-7.72 1.47 1.35L5.41 20z\"/>\n",
              "  </svg>\n",
              "      </button>\n",
              "      \n",
              "  <style>\n",
              "    .colab-df-container {\n",
              "      display:flex;\n",
              "      flex-wrap:wrap;\n",
              "      gap: 12px;\n",
              "    }\n",
              "\n",
              "    .colab-df-convert {\n",
              "      background-color: #E8F0FE;\n",
              "      border: none;\n",
              "      border-radius: 50%;\n",
              "      cursor: pointer;\n",
              "      display: none;\n",
              "      fill: #1967D2;\n",
              "      height: 32px;\n",
              "      padding: 0 0 0 0;\n",
              "      width: 32px;\n",
              "    }\n",
              "\n",
              "    .colab-df-convert:hover {\n",
              "      background-color: #E2EBFA;\n",
              "      box-shadow: 0px 1px 2px rgba(60, 64, 67, 0.3), 0px 1px 3px 1px rgba(60, 64, 67, 0.15);\n",
              "      fill: #174EA6;\n",
              "    }\n",
              "\n",
              "    [theme=dark] .colab-df-convert {\n",
              "      background-color: #3B4455;\n",
              "      fill: #D2E3FC;\n",
              "    }\n",
              "\n",
              "    [theme=dark] .colab-df-convert:hover {\n",
              "      background-color: #434B5C;\n",
              "      box-shadow: 0px 1px 3px 1px rgba(0, 0, 0, 0.15);\n",
              "      filter: drop-shadow(0px 1px 2px rgba(0, 0, 0, 0.3));\n",
              "      fill: #FFFFFF;\n",
              "    }\n",
              "  </style>\n",
              "\n",
              "      <script>\n",
              "        const buttonEl =\n",
              "          document.querySelector('#df-a85d451c-66f6-4545-ab92-942ed08b7f6d button.colab-df-convert');\n",
              "        buttonEl.style.display =\n",
              "          google.colab.kernel.accessAllowed ? 'block' : 'none';\n",
              "\n",
              "        async function convertToInteractive(key) {\n",
              "          const element = document.querySelector('#df-a85d451c-66f6-4545-ab92-942ed08b7f6d');\n",
              "          const dataTable =\n",
              "            await google.colab.kernel.invokeFunction('convertToInteractive',\n",
              "                                                     [key], {});\n",
              "          if (!dataTable) return;\n",
              "\n",
              "          const docLinkHtml = 'Like what you see? Visit the ' +\n",
              "            '<a target=\"_blank\" href=https://colab.research.google.com/notebooks/data_table.ipynb>data table notebook</a>'\n",
              "            + ' to learn more about interactive tables.';\n",
              "          element.innerHTML = '';\n",
              "          dataTable['output_type'] = 'display_data';\n",
              "          await google.colab.output.renderOutput(dataTable, element);\n",
              "          const docLink = document.createElement('div');\n",
              "          docLink.innerHTML = docLinkHtml;\n",
              "          element.appendChild(docLink);\n",
              "        }\n",
              "      </script>\n",
              "    </div>\n",
              "  </div>\n",
              "  "
            ]
          },
          "metadata": {},
          "execution_count": 467
        }
      ]
    },
    {
      "cell_type": "code",
      "metadata": {
        "id": "Py_XvfZiNzXx",
        "colab": {
          "base_uri": "https://localhost:8080/",
          "height": 424
        },
        "outputId": "4a5011dd-ac6a-449d-c480-3c8898413d48"
      },
      "source": [
        "# view reviews_df to make sure the import was successful\n",
        "reviews_df"
      ],
      "execution_count": 468,
      "outputs": [
        {
          "output_type": "execute_result",
          "data": {
            "text/plain": [
              "        rotten_tomatoes_link        critic_name  top_critic  \\\n",
              "0                  m/0814255    Andrew L. Urban       False   \n",
              "1                  m/0814255      Louise Keller       False   \n",
              "2                  m/0814255                NaN       False   \n",
              "3                  m/0814255       Ben McEachen       False   \n",
              "4                  m/0814255        Ethan Alter        True   \n",
              "...                      ...                ...         ...   \n",
              "1130012          m/zulu_dawn      Chuck O'Leary       False   \n",
              "1130013          m/zulu_dawn          Ken Hanke       False   \n",
              "1130014          m/zulu_dawn    Dennis Schwartz       False   \n",
              "1130015          m/zulu_dawn  Christopher Lloyd       False   \n",
              "1130016          m/zulu_dawn     Brent McKnight       False   \n",
              "\n",
              "                          publisher_name review_type review_score review_date  \\\n",
              "0                         Urban Cinefile       Fresh          NaN  2010-02-06   \n",
              "1                         Urban Cinefile       Fresh          NaN  2010-02-06   \n",
              "2                    FILMINK (Australia)       Fresh          NaN  2010-02-09   \n",
              "3                Sunday Mail (Australia)       Fresh        3.5/5  2010-02-09   \n",
              "4                     Hollywood Reporter      Rotten          NaN  2010-02-10   \n",
              "...                                  ...         ...          ...         ...   \n",
              "1130012                 Fantastica Daily      Rotten          2/5  2005-11-02   \n",
              "1130013  Mountain Xpress (Asheville, NC)       Fresh        3.5/5  2007-03-07   \n",
              "1130014    Dennis Schwartz Movie Reviews       Fresh           B+  2010-09-16   \n",
              "1130015          Sarasota Herald-Tribune      Rotten        3.5/5  2011-02-28   \n",
              "1130016             The Last Thing I See      Rotten            C  2020-07-09   \n",
              "\n",
              "                                            review_content  \n",
              "0        A fantasy adventure that fuses Greek mythology...  \n",
              "1        Uma Thurman as Medusa, the gorgon with a coiff...  \n",
              "2        With a top-notch cast and dazzling special eff...  \n",
              "3        Whether audiences will get behind The Lightnin...  \n",
              "4        What's really lacking in The Lightning Thief i...  \n",
              "...                                                    ...  \n",
              "1130012                                                NaN  \n",
              "1130013  Seen today, it's not only a startling indictme...  \n",
              "1130014  A rousing visual spectacle that's a prequel of...  \n",
              "1130015  A simple two-act story: Prelude to war, and th...  \n",
              "1130016  Rides the line between being a pure artifact o...  \n",
              "\n",
              "[1130017 rows x 8 columns]"
            ],
            "text/html": [
              "\n",
              "  <div id=\"df-fac0c2ac-441a-421f-b05d-db6e62634af0\">\n",
              "    <div class=\"colab-df-container\">\n",
              "      <div>\n",
              "<style scoped>\n",
              "    .dataframe tbody tr th:only-of-type {\n",
              "        vertical-align: middle;\n",
              "    }\n",
              "\n",
              "    .dataframe tbody tr th {\n",
              "        vertical-align: top;\n",
              "    }\n",
              "\n",
              "    .dataframe thead th {\n",
              "        text-align: right;\n",
              "    }\n",
              "</style>\n",
              "<table border=\"1\" class=\"dataframe\">\n",
              "  <thead>\n",
              "    <tr style=\"text-align: right;\">\n",
              "      <th></th>\n",
              "      <th>rotten_tomatoes_link</th>\n",
              "      <th>critic_name</th>\n",
              "      <th>top_critic</th>\n",
              "      <th>publisher_name</th>\n",
              "      <th>review_type</th>\n",
              "      <th>review_score</th>\n",
              "      <th>review_date</th>\n",
              "      <th>review_content</th>\n",
              "    </tr>\n",
              "  </thead>\n",
              "  <tbody>\n",
              "    <tr>\n",
              "      <th>0</th>\n",
              "      <td>m/0814255</td>\n",
              "      <td>Andrew L. Urban</td>\n",
              "      <td>False</td>\n",
              "      <td>Urban Cinefile</td>\n",
              "      <td>Fresh</td>\n",
              "      <td>NaN</td>\n",
              "      <td>2010-02-06</td>\n",
              "      <td>A fantasy adventure that fuses Greek mythology...</td>\n",
              "    </tr>\n",
              "    <tr>\n",
              "      <th>1</th>\n",
              "      <td>m/0814255</td>\n",
              "      <td>Louise Keller</td>\n",
              "      <td>False</td>\n",
              "      <td>Urban Cinefile</td>\n",
              "      <td>Fresh</td>\n",
              "      <td>NaN</td>\n",
              "      <td>2010-02-06</td>\n",
              "      <td>Uma Thurman as Medusa, the gorgon with a coiff...</td>\n",
              "    </tr>\n",
              "    <tr>\n",
              "      <th>2</th>\n",
              "      <td>m/0814255</td>\n",
              "      <td>NaN</td>\n",
              "      <td>False</td>\n",
              "      <td>FILMINK (Australia)</td>\n",
              "      <td>Fresh</td>\n",
              "      <td>NaN</td>\n",
              "      <td>2010-02-09</td>\n",
              "      <td>With a top-notch cast and dazzling special eff...</td>\n",
              "    </tr>\n",
              "    <tr>\n",
              "      <th>3</th>\n",
              "      <td>m/0814255</td>\n",
              "      <td>Ben McEachen</td>\n",
              "      <td>False</td>\n",
              "      <td>Sunday Mail (Australia)</td>\n",
              "      <td>Fresh</td>\n",
              "      <td>3.5/5</td>\n",
              "      <td>2010-02-09</td>\n",
              "      <td>Whether audiences will get behind The Lightnin...</td>\n",
              "    </tr>\n",
              "    <tr>\n",
              "      <th>4</th>\n",
              "      <td>m/0814255</td>\n",
              "      <td>Ethan Alter</td>\n",
              "      <td>True</td>\n",
              "      <td>Hollywood Reporter</td>\n",
              "      <td>Rotten</td>\n",
              "      <td>NaN</td>\n",
              "      <td>2010-02-10</td>\n",
              "      <td>What's really lacking in The Lightning Thief i...</td>\n",
              "    </tr>\n",
              "    <tr>\n",
              "      <th>...</th>\n",
              "      <td>...</td>\n",
              "      <td>...</td>\n",
              "      <td>...</td>\n",
              "      <td>...</td>\n",
              "      <td>...</td>\n",
              "      <td>...</td>\n",
              "      <td>...</td>\n",
              "      <td>...</td>\n",
              "    </tr>\n",
              "    <tr>\n",
              "      <th>1130012</th>\n",
              "      <td>m/zulu_dawn</td>\n",
              "      <td>Chuck O'Leary</td>\n",
              "      <td>False</td>\n",
              "      <td>Fantastica Daily</td>\n",
              "      <td>Rotten</td>\n",
              "      <td>2/5</td>\n",
              "      <td>2005-11-02</td>\n",
              "      <td>NaN</td>\n",
              "    </tr>\n",
              "    <tr>\n",
              "      <th>1130013</th>\n",
              "      <td>m/zulu_dawn</td>\n",
              "      <td>Ken Hanke</td>\n",
              "      <td>False</td>\n",
              "      <td>Mountain Xpress (Asheville, NC)</td>\n",
              "      <td>Fresh</td>\n",
              "      <td>3.5/5</td>\n",
              "      <td>2007-03-07</td>\n",
              "      <td>Seen today, it's not only a startling indictme...</td>\n",
              "    </tr>\n",
              "    <tr>\n",
              "      <th>1130014</th>\n",
              "      <td>m/zulu_dawn</td>\n",
              "      <td>Dennis Schwartz</td>\n",
              "      <td>False</td>\n",
              "      <td>Dennis Schwartz Movie Reviews</td>\n",
              "      <td>Fresh</td>\n",
              "      <td>B+</td>\n",
              "      <td>2010-09-16</td>\n",
              "      <td>A rousing visual spectacle that's a prequel of...</td>\n",
              "    </tr>\n",
              "    <tr>\n",
              "      <th>1130015</th>\n",
              "      <td>m/zulu_dawn</td>\n",
              "      <td>Christopher Lloyd</td>\n",
              "      <td>False</td>\n",
              "      <td>Sarasota Herald-Tribune</td>\n",
              "      <td>Rotten</td>\n",
              "      <td>3.5/5</td>\n",
              "      <td>2011-02-28</td>\n",
              "      <td>A simple two-act story: Prelude to war, and th...</td>\n",
              "    </tr>\n",
              "    <tr>\n",
              "      <th>1130016</th>\n",
              "      <td>m/zulu_dawn</td>\n",
              "      <td>Brent McKnight</td>\n",
              "      <td>False</td>\n",
              "      <td>The Last Thing I See</td>\n",
              "      <td>Rotten</td>\n",
              "      <td>C</td>\n",
              "      <td>2020-07-09</td>\n",
              "      <td>Rides the line between being a pure artifact o...</td>\n",
              "    </tr>\n",
              "  </tbody>\n",
              "</table>\n",
              "<p>1130017 rows × 8 columns</p>\n",
              "</div>\n",
              "      <button class=\"colab-df-convert\" onclick=\"convertToInteractive('df-fac0c2ac-441a-421f-b05d-db6e62634af0')\"\n",
              "              title=\"Convert this dataframe to an interactive table.\"\n",
              "              style=\"display:none;\">\n",
              "        \n",
              "  <svg xmlns=\"http://www.w3.org/2000/svg\" height=\"24px\"viewBox=\"0 0 24 24\"\n",
              "       width=\"24px\">\n",
              "    <path d=\"M0 0h24v24H0V0z\" fill=\"none\"/>\n",
              "    <path d=\"M18.56 5.44l.94 2.06.94-2.06 2.06-.94-2.06-.94-.94-2.06-.94 2.06-2.06.94zm-11 1L8.5 8.5l.94-2.06 2.06-.94-2.06-.94L8.5 2.5l-.94 2.06-2.06.94zm10 10l.94 2.06.94-2.06 2.06-.94-2.06-.94-.94-2.06-.94 2.06-2.06.94z\"/><path d=\"M17.41 7.96l-1.37-1.37c-.4-.4-.92-.59-1.43-.59-.52 0-1.04.2-1.43.59L10.3 9.45l-7.72 7.72c-.78.78-.78 2.05 0 2.83L4 21.41c.39.39.9.59 1.41.59.51 0 1.02-.2 1.41-.59l7.78-7.78 2.81-2.81c.8-.78.8-2.07 0-2.86zM5.41 20L4 18.59l7.72-7.72 1.47 1.35L5.41 20z\"/>\n",
              "  </svg>\n",
              "      </button>\n",
              "      \n",
              "  <style>\n",
              "    .colab-df-container {\n",
              "      display:flex;\n",
              "      flex-wrap:wrap;\n",
              "      gap: 12px;\n",
              "    }\n",
              "\n",
              "    .colab-df-convert {\n",
              "      background-color: #E8F0FE;\n",
              "      border: none;\n",
              "      border-radius: 50%;\n",
              "      cursor: pointer;\n",
              "      display: none;\n",
              "      fill: #1967D2;\n",
              "      height: 32px;\n",
              "      padding: 0 0 0 0;\n",
              "      width: 32px;\n",
              "    }\n",
              "\n",
              "    .colab-df-convert:hover {\n",
              "      background-color: #E2EBFA;\n",
              "      box-shadow: 0px 1px 2px rgba(60, 64, 67, 0.3), 0px 1px 3px 1px rgba(60, 64, 67, 0.15);\n",
              "      fill: #174EA6;\n",
              "    }\n",
              "\n",
              "    [theme=dark] .colab-df-convert {\n",
              "      background-color: #3B4455;\n",
              "      fill: #D2E3FC;\n",
              "    }\n",
              "\n",
              "    [theme=dark] .colab-df-convert:hover {\n",
              "      background-color: #434B5C;\n",
              "      box-shadow: 0px 1px 3px 1px rgba(0, 0, 0, 0.15);\n",
              "      filter: drop-shadow(0px 1px 2px rgba(0, 0, 0, 0.3));\n",
              "      fill: #FFFFFF;\n",
              "    }\n",
              "  </style>\n",
              "\n",
              "      <script>\n",
              "        const buttonEl =\n",
              "          document.querySelector('#df-fac0c2ac-441a-421f-b05d-db6e62634af0 button.colab-df-convert');\n",
              "        buttonEl.style.display =\n",
              "          google.colab.kernel.accessAllowed ? 'block' : 'none';\n",
              "\n",
              "        async function convertToInteractive(key) {\n",
              "          const element = document.querySelector('#df-fac0c2ac-441a-421f-b05d-db6e62634af0');\n",
              "          const dataTable =\n",
              "            await google.colab.kernel.invokeFunction('convertToInteractive',\n",
              "                                                     [key], {});\n",
              "          if (!dataTable) return;\n",
              "\n",
              "          const docLinkHtml = 'Like what you see? Visit the ' +\n",
              "            '<a target=\"_blank\" href=https://colab.research.google.com/notebooks/data_table.ipynb>data table notebook</a>'\n",
              "            + ' to learn more about interactive tables.';\n",
              "          element.innerHTML = '';\n",
              "          dataTable['output_type'] = 'display_data';\n",
              "          await google.colab.output.renderOutput(dataTable, element);\n",
              "          const docLink = document.createElement('div');\n",
              "          docLink.innerHTML = docLinkHtml;\n",
              "          element.appendChild(docLink);\n",
              "        }\n",
              "      </script>\n",
              "    </div>\n",
              "  </div>\n",
              "  "
            ]
          },
          "metadata": {},
          "execution_count": 468
        }
      ]
    },
    {
      "cell_type": "code",
      "source": [
        "# view streaming_df to make sure the import was successful\n",
        "streaming_df"
      ],
      "metadata": {
        "id": "hZJwhz1lx4ZV",
        "colab": {
          "base_uri": "https://localhost:8080/",
          "height": 424
        },
        "outputId": "33fa3205-0619-4274-bf97-b1c4fc67ab5e"
      },
      "execution_count": 469,
      "outputs": [
        {
          "output_type": "execute_result",
          "data": {
            "text/plain": [
              "      Unnamed: 0    ID                                     Title  Year  Age  \\\n",
              "0              0     1                              The Irishman  2019  18+   \n",
              "1              1     2                                    Dangal  2016   7+   \n",
              "2              2     3  David Attenborough: A Life on Our Planet  2020   7+   \n",
              "3              3     4         Lagaan: Once Upon a Time in India  2001   7+   \n",
              "4              4     5                                      Roma  2018  18+   \n",
              "...          ...   ...                                       ...   ...  ...   \n",
              "9510        9510  9511                        Most Wanted Sharks  2020  NaN   \n",
              "9511        9511  9512             Doc McStuffins: The Doc Is In  2020  NaN   \n",
              "9512        9512  9513                     Ultimate Viking Sword  2019  NaN   \n",
              "9513        9513  9514           Hunt for the Abominable Snowman  2011  NaN   \n",
              "9514        9514  9515       Women of Impact: Changing the World  2019   7+   \n",
              "\n",
              "     Rotten Tomatoes  Netflix  Hulu  Prime Video  Disney+  Type  \n",
              "0             98/100        1     0            0        0     0  \n",
              "1             97/100        1     0            0        0     0  \n",
              "2             95/100        1     0            0        0     0  \n",
              "3             94/100        1     0            0        0     0  \n",
              "4             94/100        1     0            0        0     0  \n",
              "...              ...      ...   ...          ...      ...   ...  \n",
              "9510          14/100        0     0            0        1     0  \n",
              "9511          13/100        0     0            0        1     0  \n",
              "9512          13/100        0     0            0        1     0  \n",
              "9513          10/100        0     0            0        1     0  \n",
              "9514          10/100        0     0            0        1     0  \n",
              "\n",
              "[9515 rows x 11 columns]"
            ],
            "text/html": [
              "\n",
              "  <div id=\"df-d40b6454-0a21-4dd3-bfa4-8fb459378ba4\">\n",
              "    <div class=\"colab-df-container\">\n",
              "      <div>\n",
              "<style scoped>\n",
              "    .dataframe tbody tr th:only-of-type {\n",
              "        vertical-align: middle;\n",
              "    }\n",
              "\n",
              "    .dataframe tbody tr th {\n",
              "        vertical-align: top;\n",
              "    }\n",
              "\n",
              "    .dataframe thead th {\n",
              "        text-align: right;\n",
              "    }\n",
              "</style>\n",
              "<table border=\"1\" class=\"dataframe\">\n",
              "  <thead>\n",
              "    <tr style=\"text-align: right;\">\n",
              "      <th></th>\n",
              "      <th>Unnamed: 0</th>\n",
              "      <th>ID</th>\n",
              "      <th>Title</th>\n",
              "      <th>Year</th>\n",
              "      <th>Age</th>\n",
              "      <th>Rotten Tomatoes</th>\n",
              "      <th>Netflix</th>\n",
              "      <th>Hulu</th>\n",
              "      <th>Prime Video</th>\n",
              "      <th>Disney+</th>\n",
              "      <th>Type</th>\n",
              "    </tr>\n",
              "  </thead>\n",
              "  <tbody>\n",
              "    <tr>\n",
              "      <th>0</th>\n",
              "      <td>0</td>\n",
              "      <td>1</td>\n",
              "      <td>The Irishman</td>\n",
              "      <td>2019</td>\n",
              "      <td>18+</td>\n",
              "      <td>98/100</td>\n",
              "      <td>1</td>\n",
              "      <td>0</td>\n",
              "      <td>0</td>\n",
              "      <td>0</td>\n",
              "      <td>0</td>\n",
              "    </tr>\n",
              "    <tr>\n",
              "      <th>1</th>\n",
              "      <td>1</td>\n",
              "      <td>2</td>\n",
              "      <td>Dangal</td>\n",
              "      <td>2016</td>\n",
              "      <td>7+</td>\n",
              "      <td>97/100</td>\n",
              "      <td>1</td>\n",
              "      <td>0</td>\n",
              "      <td>0</td>\n",
              "      <td>0</td>\n",
              "      <td>0</td>\n",
              "    </tr>\n",
              "    <tr>\n",
              "      <th>2</th>\n",
              "      <td>2</td>\n",
              "      <td>3</td>\n",
              "      <td>David Attenborough: A Life on Our Planet</td>\n",
              "      <td>2020</td>\n",
              "      <td>7+</td>\n",
              "      <td>95/100</td>\n",
              "      <td>1</td>\n",
              "      <td>0</td>\n",
              "      <td>0</td>\n",
              "      <td>0</td>\n",
              "      <td>0</td>\n",
              "    </tr>\n",
              "    <tr>\n",
              "      <th>3</th>\n",
              "      <td>3</td>\n",
              "      <td>4</td>\n",
              "      <td>Lagaan: Once Upon a Time in India</td>\n",
              "      <td>2001</td>\n",
              "      <td>7+</td>\n",
              "      <td>94/100</td>\n",
              "      <td>1</td>\n",
              "      <td>0</td>\n",
              "      <td>0</td>\n",
              "      <td>0</td>\n",
              "      <td>0</td>\n",
              "    </tr>\n",
              "    <tr>\n",
              "      <th>4</th>\n",
              "      <td>4</td>\n",
              "      <td>5</td>\n",
              "      <td>Roma</td>\n",
              "      <td>2018</td>\n",
              "      <td>18+</td>\n",
              "      <td>94/100</td>\n",
              "      <td>1</td>\n",
              "      <td>0</td>\n",
              "      <td>0</td>\n",
              "      <td>0</td>\n",
              "      <td>0</td>\n",
              "    </tr>\n",
              "    <tr>\n",
              "      <th>...</th>\n",
              "      <td>...</td>\n",
              "      <td>...</td>\n",
              "      <td>...</td>\n",
              "      <td>...</td>\n",
              "      <td>...</td>\n",
              "      <td>...</td>\n",
              "      <td>...</td>\n",
              "      <td>...</td>\n",
              "      <td>...</td>\n",
              "      <td>...</td>\n",
              "      <td>...</td>\n",
              "    </tr>\n",
              "    <tr>\n",
              "      <th>9510</th>\n",
              "      <td>9510</td>\n",
              "      <td>9511</td>\n",
              "      <td>Most Wanted Sharks</td>\n",
              "      <td>2020</td>\n",
              "      <td>NaN</td>\n",
              "      <td>14/100</td>\n",
              "      <td>0</td>\n",
              "      <td>0</td>\n",
              "      <td>0</td>\n",
              "      <td>1</td>\n",
              "      <td>0</td>\n",
              "    </tr>\n",
              "    <tr>\n",
              "      <th>9511</th>\n",
              "      <td>9511</td>\n",
              "      <td>9512</td>\n",
              "      <td>Doc McStuffins: The Doc Is In</td>\n",
              "      <td>2020</td>\n",
              "      <td>NaN</td>\n",
              "      <td>13/100</td>\n",
              "      <td>0</td>\n",
              "      <td>0</td>\n",
              "      <td>0</td>\n",
              "      <td>1</td>\n",
              "      <td>0</td>\n",
              "    </tr>\n",
              "    <tr>\n",
              "      <th>9512</th>\n",
              "      <td>9512</td>\n",
              "      <td>9513</td>\n",
              "      <td>Ultimate Viking Sword</td>\n",
              "      <td>2019</td>\n",
              "      <td>NaN</td>\n",
              "      <td>13/100</td>\n",
              "      <td>0</td>\n",
              "      <td>0</td>\n",
              "      <td>0</td>\n",
              "      <td>1</td>\n",
              "      <td>0</td>\n",
              "    </tr>\n",
              "    <tr>\n",
              "      <th>9513</th>\n",
              "      <td>9513</td>\n",
              "      <td>9514</td>\n",
              "      <td>Hunt for the Abominable Snowman</td>\n",
              "      <td>2011</td>\n",
              "      <td>NaN</td>\n",
              "      <td>10/100</td>\n",
              "      <td>0</td>\n",
              "      <td>0</td>\n",
              "      <td>0</td>\n",
              "      <td>1</td>\n",
              "      <td>0</td>\n",
              "    </tr>\n",
              "    <tr>\n",
              "      <th>9514</th>\n",
              "      <td>9514</td>\n",
              "      <td>9515</td>\n",
              "      <td>Women of Impact: Changing the World</td>\n",
              "      <td>2019</td>\n",
              "      <td>7+</td>\n",
              "      <td>10/100</td>\n",
              "      <td>0</td>\n",
              "      <td>0</td>\n",
              "      <td>0</td>\n",
              "      <td>1</td>\n",
              "      <td>0</td>\n",
              "    </tr>\n",
              "  </tbody>\n",
              "</table>\n",
              "<p>9515 rows × 11 columns</p>\n",
              "</div>\n",
              "      <button class=\"colab-df-convert\" onclick=\"convertToInteractive('df-d40b6454-0a21-4dd3-bfa4-8fb459378ba4')\"\n",
              "              title=\"Convert this dataframe to an interactive table.\"\n",
              "              style=\"display:none;\">\n",
              "        \n",
              "  <svg xmlns=\"http://www.w3.org/2000/svg\" height=\"24px\"viewBox=\"0 0 24 24\"\n",
              "       width=\"24px\">\n",
              "    <path d=\"M0 0h24v24H0V0z\" fill=\"none\"/>\n",
              "    <path d=\"M18.56 5.44l.94 2.06.94-2.06 2.06-.94-2.06-.94-.94-2.06-.94 2.06-2.06.94zm-11 1L8.5 8.5l.94-2.06 2.06-.94-2.06-.94L8.5 2.5l-.94 2.06-2.06.94zm10 10l.94 2.06.94-2.06 2.06-.94-2.06-.94-.94-2.06-.94 2.06-2.06.94z\"/><path d=\"M17.41 7.96l-1.37-1.37c-.4-.4-.92-.59-1.43-.59-.52 0-1.04.2-1.43.59L10.3 9.45l-7.72 7.72c-.78.78-.78 2.05 0 2.83L4 21.41c.39.39.9.59 1.41.59.51 0 1.02-.2 1.41-.59l7.78-7.78 2.81-2.81c.8-.78.8-2.07 0-2.86zM5.41 20L4 18.59l7.72-7.72 1.47 1.35L5.41 20z\"/>\n",
              "  </svg>\n",
              "      </button>\n",
              "      \n",
              "  <style>\n",
              "    .colab-df-container {\n",
              "      display:flex;\n",
              "      flex-wrap:wrap;\n",
              "      gap: 12px;\n",
              "    }\n",
              "\n",
              "    .colab-df-convert {\n",
              "      background-color: #E8F0FE;\n",
              "      border: none;\n",
              "      border-radius: 50%;\n",
              "      cursor: pointer;\n",
              "      display: none;\n",
              "      fill: #1967D2;\n",
              "      height: 32px;\n",
              "      padding: 0 0 0 0;\n",
              "      width: 32px;\n",
              "    }\n",
              "\n",
              "    .colab-df-convert:hover {\n",
              "      background-color: #E2EBFA;\n",
              "      box-shadow: 0px 1px 2px rgba(60, 64, 67, 0.3), 0px 1px 3px 1px rgba(60, 64, 67, 0.15);\n",
              "      fill: #174EA6;\n",
              "    }\n",
              "\n",
              "    [theme=dark] .colab-df-convert {\n",
              "      background-color: #3B4455;\n",
              "      fill: #D2E3FC;\n",
              "    }\n",
              "\n",
              "    [theme=dark] .colab-df-convert:hover {\n",
              "      background-color: #434B5C;\n",
              "      box-shadow: 0px 1px 3px 1px rgba(0, 0, 0, 0.15);\n",
              "      filter: drop-shadow(0px 1px 2px rgba(0, 0, 0, 0.3));\n",
              "      fill: #FFFFFF;\n",
              "    }\n",
              "  </style>\n",
              "\n",
              "      <script>\n",
              "        const buttonEl =\n",
              "          document.querySelector('#df-d40b6454-0a21-4dd3-bfa4-8fb459378ba4 button.colab-df-convert');\n",
              "        buttonEl.style.display =\n",
              "          google.colab.kernel.accessAllowed ? 'block' : 'none';\n",
              "\n",
              "        async function convertToInteractive(key) {\n",
              "          const element = document.querySelector('#df-d40b6454-0a21-4dd3-bfa4-8fb459378ba4');\n",
              "          const dataTable =\n",
              "            await google.colab.kernel.invokeFunction('convertToInteractive',\n",
              "                                                     [key], {});\n",
              "          if (!dataTable) return;\n",
              "\n",
              "          const docLinkHtml = 'Like what you see? Visit the ' +\n",
              "            '<a target=\"_blank\" href=https://colab.research.google.com/notebooks/data_table.ipynb>data table notebook</a>'\n",
              "            + ' to learn more about interactive tables.';\n",
              "          element.innerHTML = '';\n",
              "          dataTable['output_type'] = 'display_data';\n",
              "          await google.colab.output.renderOutput(dataTable, element);\n",
              "          const docLink = document.createElement('div');\n",
              "          docLink.innerHTML = docLinkHtml;\n",
              "          element.appendChild(docLink);\n",
              "        }\n",
              "      </script>\n",
              "    </div>\n",
              "  </div>\n",
              "  "
            ]
          },
          "metadata": {},
          "execution_count": 469
        }
      ]
    },
    {
      "cell_type": "markdown",
      "metadata": {
        "id": "CPitr7eRJfO0"
      },
      "source": [
        "### 1.1 Data Preprocessing\n",
        "\n",
        "Next, we are going to want to clean up our dataframes, namely `movies_df` and `reviews_df`, by 1) fixing column names, 2) changing datatypes, 3) cleaning text, and 4) handling nulls.\n",
        "\n",
        "First, let us view the first few rows of `movies_df`. You may also call `.info()` to view the specifics of the dataframe. This is a good first step to take for Exploratory Data Analysis (EDA)."
      ]
    },
    {
      "cell_type": "code",
      "source": [
        "# view info information regarding movies_df\n",
        "movies_df.info()"
      ],
      "metadata": {
        "id": "2nCrp9Z2SCRD",
        "colab": {
          "base_uri": "https://localhost:8080/"
        },
        "outputId": "aeda39a1-4163-424d-c412-b899a08b54c3"
      },
      "execution_count": 470,
      "outputs": [
        {
          "output_type": "stream",
          "name": "stdout",
          "text": [
            "<class 'pandas.core.frame.DataFrame'>\n",
            "RangeIndex: 17712 entries, 0 to 17711\n",
            "Data columns (total 21 columns):\n",
            " #   Column                            Non-Null Count  Dtype  \n",
            "---  ------                            --------------  -----  \n",
            " 0   rotten_tomatoes_link              17712 non-null  object \n",
            " 1   movie_title                       17712 non-null  object \n",
            " 2   movie_info                        17391 non-null  object \n",
            " 3   critics_consensus                 9134 non-null   object \n",
            " 4   content_rating                    17712 non-null  object \n",
            " 5   genres                            17693 non-null  object \n",
            " 6   directors                         17518 non-null  object \n",
            " 7   authors                           16170 non-null  object \n",
            " 8   actors                            17360 non-null  object \n",
            " 9   original_release_date             16546 non-null  object \n",
            " 10  streaming_release_date            17328 non-null  object \n",
            " 11  runtime                           17398 non-null  float64\n",
            " 12  production_company                17213 non-null  object \n",
            " 13  tomatometer_status                17668 non-null  object \n",
            " 14  tomatometer_rating                17668 non-null  float64\n",
            " 15  tomatometer_count                 17668 non-null  float64\n",
            " 16  audience_status                   17264 non-null  object \n",
            " 17  audience_rating                   17416 non-null  float64\n",
            " 18  audience_count                    17415 non-null  float64\n",
            " 19  tomatometer_fresh_critics_count   17712 non-null  int64  \n",
            " 20  tomatometer_rotten_critics_count  17712 non-null  int64  \n",
            "dtypes: float64(5), int64(2), object(14)\n",
            "memory usage: 2.8+ MB\n"
          ]
        }
      ]
    },
    {
      "cell_type": "markdown",
      "metadata": {
        "id": "c-ukI21sPkYV"
      },
      "source": [
        "#### 1.1.1 Cleaning `movies_df`\n",
        "\n",
        "`.info()` gives us meaningful information regarding columns, their types, and the amount of nulls, based on which we can now clean our dataframe. \n",
        "\n",
        "**TODO**:\n",
        "* Drop the columns `critics_consensus` and `production_company`.\n",
        "* Replace all nulls in the column `genres` with the string `\"No Genre\"`.\n",
        "* Drop all rows that have at least one null.\n",
        "* Cast columns `original_release_date`,`streaming_release_date` to be type `datetime64[ns]`.\n",
        "* Cast columns `runtime`,`tomatometer_count`, `tomatometer_rating`, `audience_count`, and `audience_rating` to be type `int64`."
      ]
    },
    {
      "cell_type": "code",
      "metadata": {
        "id": "cMmQTXV7P4YK"
      },
      "source": [
        "# TODO: clean movies_df\n",
        "\n",
        "movies_df = movies_df.drop(columns=['critics_consensus', 'production_company'])\n",
        "movies_df['genres'] = movies_df['genres'].fillna('No Genre')\n",
        "\n",
        "movies_df = movies_df.dropna()\n",
        "\n",
        "movies_df['original_release_date'] = pd.to_datetime(movies_df['original_release_date'])\n",
        "movies_df['streaming_release_date'] = pd.to_datetime(movies_df['streaming_release_date'])\n",
        "\n",
        "movies_df['runtime'] = movies_df['runtime'].astype('int64')\n",
        "movies_df['tomatometer_count'] = movies_df['tomatometer_count'].astype('int64')\n",
        "movies_df['tomatometer_rating'] = movies_df['tomatometer_rating'].astype('int64')\n",
        "movies_df['audience_count'] = movies_df['audience_count'].astype('int64')\n",
        "movies_df['audience_rating'] = movies_df['audience_rating'].astype('int64')\n",
        "\n",
        "\n",
        "#movies_df = ..."
      ],
      "execution_count": 471,
      "outputs": []
    },
    {
      "cell_type": "code",
      "metadata": {
        "id": "9SYxGtgOQKLY",
        "colab": {
          "base_uri": "https://localhost:8080/"
        },
        "outputId": "32807b32-fcba-4ef1-d37c-bfb67ae6bc1d"
      },
      "source": [
        "# 3 points\n",
        "grader.grade(test_case_id = 'test_cleaning_movies', answer = movies_df.head(1000))"
      ],
      "execution_count": 472,
      "outputs": [
        {
          "output_type": "stream",
          "name": "stdout",
          "text": [
            "Correct! You earned 3/3 points. You are a star!\n",
            "\n",
            "Your submission has been successfully recorded in the gradebook.\n"
          ]
        }
      ]
    },
    {
      "cell_type": "markdown",
      "source": [
        "#### 1.1.2 Processing Genres\n",
        "\n",
        "`movies_df` also contains a `genres` column that represents an exhaustive list of all the genres a particular movie falls under. The comma-separated string format this column is in isn't too useful to us at the moment...\n",
        "\n",
        "**TODO**:\n",
        "- Copy over `movies_df` into a new dataframe called `exploded_movies_df`. \n",
        "- Split the genres listed such that each row contains only one listed genre (if a particular movie has 2 genres, that row will appear twice for each of the genres) - call this column `genre`\n",
        "- Strip the `genre` column of any leading or trailing whitespaces\n",
        "\n",
        "\n",
        "**Hint**: \n",
        "- See the `.explode()` and `.strip()` functions\n",
        "- Do not overwrite or drop the `genres` column in both the `movies_df` and `exploded_movies_df`."
      ],
      "metadata": {
        "id": "aI_zsI3hNJCf"
      }
    },
    {
      "cell_type": "code",
      "source": [
        "# TODO: create new dataframe and genre column\n",
        "exploded_movies_df = movies_df\n",
        "exploded_movies_df['genre'] = exploded_movies_df['genres'].str.split(',')\n",
        "exploded_movies_df = exploded_movies_df.explode('genre')\n",
        "exploded_movies_df['genre'] = exploded_movies_df['genre'].str.strip()"
      ],
      "metadata": {
        "id": "ZOfBFzD7NK8i"
      },
      "execution_count": 473,
      "outputs": []
    },
    {
      "cell_type": "code",
      "source": [
        "# 3 points\n",
        "grader.grade(test_case_id = 'test_genre_processing', answer = exploded_movies_df.head(1000))\n"
      ],
      "metadata": {
        "id": "sKA2_ScM6nWv",
        "colab": {
          "base_uri": "https://localhost:8080/"
        },
        "outputId": "0ce81f1b-fcdc-4e45-a9a8-89d0f278e84e"
      },
      "execution_count": 474,
      "outputs": [
        {
          "output_type": "stream",
          "name": "stdout",
          "text": [
            "Correct! You earned 3/3 points. You are a star!\n",
            "\n",
            "Your submission has been successfully recorded in the gradebook.\n"
          ]
        }
      ]
    },
    {
      "cell_type": "markdown",
      "metadata": {
        "id": "38JSvyEGCGYN"
      },
      "source": [
        "#### 1.1.3 Cleaning `reviews_df`\n",
        "\n",
        "Then, let's take a look at cleaning `reviews_df`."
      ]
    },
    {
      "cell_type": "code",
      "source": [
        "#view info of reviews_df\n",
        "reviews_df\n"
      ],
      "metadata": {
        "id": "vKv7Gdi_CGYQ",
        "colab": {
          "base_uri": "https://localhost:8080/",
          "height": 424
        },
        "outputId": "aae62e9e-21be-4534-a71f-6fb0b399271c"
      },
      "execution_count": 475,
      "outputs": [
        {
          "output_type": "execute_result",
          "data": {
            "text/plain": [
              "        rotten_tomatoes_link        critic_name  top_critic  \\\n",
              "0                  m/0814255    Andrew L. Urban       False   \n",
              "1                  m/0814255      Louise Keller       False   \n",
              "2                  m/0814255                NaN       False   \n",
              "3                  m/0814255       Ben McEachen       False   \n",
              "4                  m/0814255        Ethan Alter        True   \n",
              "...                      ...                ...         ...   \n",
              "1130012          m/zulu_dawn      Chuck O'Leary       False   \n",
              "1130013          m/zulu_dawn          Ken Hanke       False   \n",
              "1130014          m/zulu_dawn    Dennis Schwartz       False   \n",
              "1130015          m/zulu_dawn  Christopher Lloyd       False   \n",
              "1130016          m/zulu_dawn     Brent McKnight       False   \n",
              "\n",
              "                          publisher_name review_type review_score review_date  \\\n",
              "0                         Urban Cinefile       Fresh          NaN  2010-02-06   \n",
              "1                         Urban Cinefile       Fresh          NaN  2010-02-06   \n",
              "2                    FILMINK (Australia)       Fresh          NaN  2010-02-09   \n",
              "3                Sunday Mail (Australia)       Fresh        3.5/5  2010-02-09   \n",
              "4                     Hollywood Reporter      Rotten          NaN  2010-02-10   \n",
              "...                                  ...         ...          ...         ...   \n",
              "1130012                 Fantastica Daily      Rotten          2/5  2005-11-02   \n",
              "1130013  Mountain Xpress (Asheville, NC)       Fresh        3.5/5  2007-03-07   \n",
              "1130014    Dennis Schwartz Movie Reviews       Fresh           B+  2010-09-16   \n",
              "1130015          Sarasota Herald-Tribune      Rotten        3.5/5  2011-02-28   \n",
              "1130016             The Last Thing I See      Rotten            C  2020-07-09   \n",
              "\n",
              "                                            review_content  \n",
              "0        A fantasy adventure that fuses Greek mythology...  \n",
              "1        Uma Thurman as Medusa, the gorgon with a coiff...  \n",
              "2        With a top-notch cast and dazzling special eff...  \n",
              "3        Whether audiences will get behind The Lightnin...  \n",
              "4        What's really lacking in The Lightning Thief i...  \n",
              "...                                                    ...  \n",
              "1130012                                                NaN  \n",
              "1130013  Seen today, it's not only a startling indictme...  \n",
              "1130014  A rousing visual spectacle that's a prequel of...  \n",
              "1130015  A simple two-act story: Prelude to war, and th...  \n",
              "1130016  Rides the line between being a pure artifact o...  \n",
              "\n",
              "[1130017 rows x 8 columns]"
            ],
            "text/html": [
              "\n",
              "  <div id=\"df-c72f5094-e3ae-4b88-95b1-964c7bb81055\">\n",
              "    <div class=\"colab-df-container\">\n",
              "      <div>\n",
              "<style scoped>\n",
              "    .dataframe tbody tr th:only-of-type {\n",
              "        vertical-align: middle;\n",
              "    }\n",
              "\n",
              "    .dataframe tbody tr th {\n",
              "        vertical-align: top;\n",
              "    }\n",
              "\n",
              "    .dataframe thead th {\n",
              "        text-align: right;\n",
              "    }\n",
              "</style>\n",
              "<table border=\"1\" class=\"dataframe\">\n",
              "  <thead>\n",
              "    <tr style=\"text-align: right;\">\n",
              "      <th></th>\n",
              "      <th>rotten_tomatoes_link</th>\n",
              "      <th>critic_name</th>\n",
              "      <th>top_critic</th>\n",
              "      <th>publisher_name</th>\n",
              "      <th>review_type</th>\n",
              "      <th>review_score</th>\n",
              "      <th>review_date</th>\n",
              "      <th>review_content</th>\n",
              "    </tr>\n",
              "  </thead>\n",
              "  <tbody>\n",
              "    <tr>\n",
              "      <th>0</th>\n",
              "      <td>m/0814255</td>\n",
              "      <td>Andrew L. Urban</td>\n",
              "      <td>False</td>\n",
              "      <td>Urban Cinefile</td>\n",
              "      <td>Fresh</td>\n",
              "      <td>NaN</td>\n",
              "      <td>2010-02-06</td>\n",
              "      <td>A fantasy adventure that fuses Greek mythology...</td>\n",
              "    </tr>\n",
              "    <tr>\n",
              "      <th>1</th>\n",
              "      <td>m/0814255</td>\n",
              "      <td>Louise Keller</td>\n",
              "      <td>False</td>\n",
              "      <td>Urban Cinefile</td>\n",
              "      <td>Fresh</td>\n",
              "      <td>NaN</td>\n",
              "      <td>2010-02-06</td>\n",
              "      <td>Uma Thurman as Medusa, the gorgon with a coiff...</td>\n",
              "    </tr>\n",
              "    <tr>\n",
              "      <th>2</th>\n",
              "      <td>m/0814255</td>\n",
              "      <td>NaN</td>\n",
              "      <td>False</td>\n",
              "      <td>FILMINK (Australia)</td>\n",
              "      <td>Fresh</td>\n",
              "      <td>NaN</td>\n",
              "      <td>2010-02-09</td>\n",
              "      <td>With a top-notch cast and dazzling special eff...</td>\n",
              "    </tr>\n",
              "    <tr>\n",
              "      <th>3</th>\n",
              "      <td>m/0814255</td>\n",
              "      <td>Ben McEachen</td>\n",
              "      <td>False</td>\n",
              "      <td>Sunday Mail (Australia)</td>\n",
              "      <td>Fresh</td>\n",
              "      <td>3.5/5</td>\n",
              "      <td>2010-02-09</td>\n",
              "      <td>Whether audiences will get behind The Lightnin...</td>\n",
              "    </tr>\n",
              "    <tr>\n",
              "      <th>4</th>\n",
              "      <td>m/0814255</td>\n",
              "      <td>Ethan Alter</td>\n",
              "      <td>True</td>\n",
              "      <td>Hollywood Reporter</td>\n",
              "      <td>Rotten</td>\n",
              "      <td>NaN</td>\n",
              "      <td>2010-02-10</td>\n",
              "      <td>What's really lacking in The Lightning Thief i...</td>\n",
              "    </tr>\n",
              "    <tr>\n",
              "      <th>...</th>\n",
              "      <td>...</td>\n",
              "      <td>...</td>\n",
              "      <td>...</td>\n",
              "      <td>...</td>\n",
              "      <td>...</td>\n",
              "      <td>...</td>\n",
              "      <td>...</td>\n",
              "      <td>...</td>\n",
              "    </tr>\n",
              "    <tr>\n",
              "      <th>1130012</th>\n",
              "      <td>m/zulu_dawn</td>\n",
              "      <td>Chuck O'Leary</td>\n",
              "      <td>False</td>\n",
              "      <td>Fantastica Daily</td>\n",
              "      <td>Rotten</td>\n",
              "      <td>2/5</td>\n",
              "      <td>2005-11-02</td>\n",
              "      <td>NaN</td>\n",
              "    </tr>\n",
              "    <tr>\n",
              "      <th>1130013</th>\n",
              "      <td>m/zulu_dawn</td>\n",
              "      <td>Ken Hanke</td>\n",
              "      <td>False</td>\n",
              "      <td>Mountain Xpress (Asheville, NC)</td>\n",
              "      <td>Fresh</td>\n",
              "      <td>3.5/5</td>\n",
              "      <td>2007-03-07</td>\n",
              "      <td>Seen today, it's not only a startling indictme...</td>\n",
              "    </tr>\n",
              "    <tr>\n",
              "      <th>1130014</th>\n",
              "      <td>m/zulu_dawn</td>\n",
              "      <td>Dennis Schwartz</td>\n",
              "      <td>False</td>\n",
              "      <td>Dennis Schwartz Movie Reviews</td>\n",
              "      <td>Fresh</td>\n",
              "      <td>B+</td>\n",
              "      <td>2010-09-16</td>\n",
              "      <td>A rousing visual spectacle that's a prequel of...</td>\n",
              "    </tr>\n",
              "    <tr>\n",
              "      <th>1130015</th>\n",
              "      <td>m/zulu_dawn</td>\n",
              "      <td>Christopher Lloyd</td>\n",
              "      <td>False</td>\n",
              "      <td>Sarasota Herald-Tribune</td>\n",
              "      <td>Rotten</td>\n",
              "      <td>3.5/5</td>\n",
              "      <td>2011-02-28</td>\n",
              "      <td>A simple two-act story: Prelude to war, and th...</td>\n",
              "    </tr>\n",
              "    <tr>\n",
              "      <th>1130016</th>\n",
              "      <td>m/zulu_dawn</td>\n",
              "      <td>Brent McKnight</td>\n",
              "      <td>False</td>\n",
              "      <td>The Last Thing I See</td>\n",
              "      <td>Rotten</td>\n",
              "      <td>C</td>\n",
              "      <td>2020-07-09</td>\n",
              "      <td>Rides the line between being a pure artifact o...</td>\n",
              "    </tr>\n",
              "  </tbody>\n",
              "</table>\n",
              "<p>1130017 rows × 8 columns</p>\n",
              "</div>\n",
              "      <button class=\"colab-df-convert\" onclick=\"convertToInteractive('df-c72f5094-e3ae-4b88-95b1-964c7bb81055')\"\n",
              "              title=\"Convert this dataframe to an interactive table.\"\n",
              "              style=\"display:none;\">\n",
              "        \n",
              "  <svg xmlns=\"http://www.w3.org/2000/svg\" height=\"24px\"viewBox=\"0 0 24 24\"\n",
              "       width=\"24px\">\n",
              "    <path d=\"M0 0h24v24H0V0z\" fill=\"none\"/>\n",
              "    <path d=\"M18.56 5.44l.94 2.06.94-2.06 2.06-.94-2.06-.94-.94-2.06-.94 2.06-2.06.94zm-11 1L8.5 8.5l.94-2.06 2.06-.94-2.06-.94L8.5 2.5l-.94 2.06-2.06.94zm10 10l.94 2.06.94-2.06 2.06-.94-2.06-.94-.94-2.06-.94 2.06-2.06.94z\"/><path d=\"M17.41 7.96l-1.37-1.37c-.4-.4-.92-.59-1.43-.59-.52 0-1.04.2-1.43.59L10.3 9.45l-7.72 7.72c-.78.78-.78 2.05 0 2.83L4 21.41c.39.39.9.59 1.41.59.51 0 1.02-.2 1.41-.59l7.78-7.78 2.81-2.81c.8-.78.8-2.07 0-2.86zM5.41 20L4 18.59l7.72-7.72 1.47 1.35L5.41 20z\"/>\n",
              "  </svg>\n",
              "      </button>\n",
              "      \n",
              "  <style>\n",
              "    .colab-df-container {\n",
              "      display:flex;\n",
              "      flex-wrap:wrap;\n",
              "      gap: 12px;\n",
              "    }\n",
              "\n",
              "    .colab-df-convert {\n",
              "      background-color: #E8F0FE;\n",
              "      border: none;\n",
              "      border-radius: 50%;\n",
              "      cursor: pointer;\n",
              "      display: none;\n",
              "      fill: #1967D2;\n",
              "      height: 32px;\n",
              "      padding: 0 0 0 0;\n",
              "      width: 32px;\n",
              "    }\n",
              "\n",
              "    .colab-df-convert:hover {\n",
              "      background-color: #E2EBFA;\n",
              "      box-shadow: 0px 1px 2px rgba(60, 64, 67, 0.3), 0px 1px 3px 1px rgba(60, 64, 67, 0.15);\n",
              "      fill: #174EA6;\n",
              "    }\n",
              "\n",
              "    [theme=dark] .colab-df-convert {\n",
              "      background-color: #3B4455;\n",
              "      fill: #D2E3FC;\n",
              "    }\n",
              "\n",
              "    [theme=dark] .colab-df-convert:hover {\n",
              "      background-color: #434B5C;\n",
              "      box-shadow: 0px 1px 3px 1px rgba(0, 0, 0, 0.15);\n",
              "      filter: drop-shadow(0px 1px 2px rgba(0, 0, 0, 0.3));\n",
              "      fill: #FFFFFF;\n",
              "    }\n",
              "  </style>\n",
              "\n",
              "      <script>\n",
              "        const buttonEl =\n",
              "          document.querySelector('#df-c72f5094-e3ae-4b88-95b1-964c7bb81055 button.colab-df-convert');\n",
              "        buttonEl.style.display =\n",
              "          google.colab.kernel.accessAllowed ? 'block' : 'none';\n",
              "\n",
              "        async function convertToInteractive(key) {\n",
              "          const element = document.querySelector('#df-c72f5094-e3ae-4b88-95b1-964c7bb81055');\n",
              "          const dataTable =\n",
              "            await google.colab.kernel.invokeFunction('convertToInteractive',\n",
              "                                                     [key], {});\n",
              "          if (!dataTable) return;\n",
              "\n",
              "          const docLinkHtml = 'Like what you see? Visit the ' +\n",
              "            '<a target=\"_blank\" href=https://colab.research.google.com/notebooks/data_table.ipynb>data table notebook</a>'\n",
              "            + ' to learn more about interactive tables.';\n",
              "          element.innerHTML = '';\n",
              "          dataTable['output_type'] = 'display_data';\n",
              "          await google.colab.output.renderOutput(dataTable, element);\n",
              "          const docLink = document.createElement('div');\n",
              "          docLink.innerHTML = docLinkHtml;\n",
              "          element.appendChild(docLink);\n",
              "        }\n",
              "      </script>\n",
              "    </div>\n",
              "  </div>\n",
              "  "
            ]
          },
          "metadata": {},
          "execution_count": 475
        }
      ]
    },
    {
      "cell_type": "markdown",
      "metadata": {
        "id": "Cz3Xx84WCGYU"
      },
      "source": [
        "\n",
        "**TODO**:\n",
        "* Drop all rows that have a null value in the column `review_score` or `review_content`.\n",
        "* Replace each null in the `critic_name` column with the string `\"Anonymous\"`.\n",
        "* Convert column `review_date` into type `datetime64[ns]`.\n"
      ]
    },
    {
      "cell_type": "code",
      "metadata": {
        "id": "GfBTqJs3CGYV",
        "colab": {
          "base_uri": "https://localhost:8080/"
        },
        "outputId": "28fb1c70-272c-474c-be17-487d2e38a1e8"
      },
      "source": [
        "#TODO: Clean reviews_df\n",
        "reviews_df = reviews_df.dropna(subset=['review_score', 'review_content'])\n",
        "reviews_df['critic_name'] = reviews_df['critic_name'].fillna('Anonymous')\n",
        "\n",
        "reviews_df['review_date'] = pd.to_datetime(reviews_df['review_date'])"
      ],
      "execution_count": 476,
      "outputs": [
        {
          "output_type": "stream",
          "name": "stderr",
          "text": [
            "/usr/local/lib/python3.7/dist-packages/ipykernel_launcher.py:3: SettingWithCopyWarning: \n",
            "A value is trying to be set on a copy of a slice from a DataFrame.\n",
            "Try using .loc[row_indexer,col_indexer] = value instead\n",
            "\n",
            "See the caveats in the documentation: https://pandas.pydata.org/pandas-docs/stable/user_guide/indexing.html#returning-a-view-versus-a-copy\n",
            "  This is separate from the ipykernel package so we can avoid doing imports until\n",
            "/usr/local/lib/python3.7/dist-packages/ipykernel_launcher.py:5: SettingWithCopyWarning: \n",
            "A value is trying to be set on a copy of a slice from a DataFrame.\n",
            "Try using .loc[row_indexer,col_indexer] = value instead\n",
            "\n",
            "See the caveats in the documentation: https://pandas.pydata.org/pandas-docs/stable/user_guide/indexing.html#returning-a-view-versus-a-copy\n",
            "  \"\"\"\n"
          ]
        }
      ]
    },
    {
      "cell_type": "code",
      "metadata": {
        "id": "PacFnS9JCGYW",
        "colab": {
          "base_uri": "https://localhost:8080/"
        },
        "outputId": "5fb2e52a-f98d-4a9c-80ac-e604c373491e"
      },
      "source": [
        "# 3 points\n",
        "grader.grade(test_case_id = 'test_cleaning_reviews', answer = reviews_df.head(1000))"
      ],
      "execution_count": 477,
      "outputs": [
        {
          "output_type": "stream",
          "name": "stdout",
          "text": [
            "Correct! You earned 3/3 points. You are a star!\n",
            "\n",
            "Your submission has been successfully recorded in the gradebook.\n"
          ]
        }
      ]
    },
    {
      "cell_type": "markdown",
      "metadata": {
        "id": "kYp9fW_SvG3g"
      },
      "source": [
        "### 1.2 Your Sandbox \n",
        "\n",
        ".info() is just one of many basic tools that you can use for Exploratory Data Analysis (EDA). Instead of throwing you straight into the deep end, we wanted to give you a chance to take some time and explore the data on your own. **This section is not graded**, so for the speedrunners out there feel free to just jump in, but we wanted to at least give you a small space to utilize your EDA toolkit to familiarize yourself with all the data you just downloaded.\n",
        "\n",
        "Some suggestions to get you started:\n",
        "- `df.head()`\n",
        "- `df.describe()`\n",
        "- `Series.unique()`"
      ]
    },
    {
      "cell_type": "code",
      "metadata": {
        "id": "U429NTI5RY4a",
        "colab": {
          "base_uri": "https://localhost:8080/"
        },
        "outputId": "483bfadb-ac6f-4780-f0ee-8f6787efe6e6"
      },
      "source": [
        "# Your EDA here! Feel free to add more cells\n",
        "reviews_df.head()\n",
        "reviews_df.describe()\n",
        "reviews_df['publisher_name'].unique()\n"
      ],
      "execution_count": 478,
      "outputs": [
        {
          "output_type": "stream",
          "name": "stderr",
          "text": [
            "/usr/local/lib/python3.7/dist-packages/ipykernel_launcher.py:3: FutureWarning: Treating datetime data as categorical rather than numeric in `.describe` is deprecated and will be removed in a future version of pandas. Specify `datetime_is_numeric=True` to silence this warning and adopt the future behavior now.\n",
            "  This is separate from the ipykernel package so we can avoid doing imports until\n"
          ]
        },
        {
          "output_type": "execute_result",
          "data": {
            "text/plain": [
              "array(['Sunday Mail (Australia)', 'Slant Magazine', 'Arizona Republic',\n",
              "       ..., 'Awareness Magazine', 'Jamaica Gleaner', 'The GWW'],\n",
              "      dtype=object)"
            ]
          },
          "metadata": {},
          "execution_count": 478
        }
      ]
    },
    {
      "cell_type": "markdown",
      "metadata": {
        "id": "CHFdRtQKLbti"
      },
      "source": [
        "## Part 2: Exploring the Data with PandasSQL (and Pandas) [75 points total]\n",
        "\n",
        "Now that you are familiar (or still unfamiliar) with the dataset, we will now introduce you to SQL, or more specifically **pandasql**: a package created to allow users to query pandas DataFrames with SQL statements.\n",
        "\n",
        "The typical flow to use pandasql (shortened to **ps**) is as follows:\n",
        "1. Write a SQL query in the form of a string (Tip: use triple quotes \"\"\"x\"\"\" to write multi-line strings)\n",
        "2. Run the query using **ps.sqldf(your_query, locals())**\n",
        "\n",
        "Pandasql is convenient in that it allows you to reference the dataframes that are currently defined in your notebook, so you will be able to fully utilize the dataframes `movies_df`, `reviews_df` and `streaming_df` that you have created above!\n",
        "\n",
        "Given that it is a brand new language, we wanted to give you a chance to directly compare the similarities/differences of the pandas that you already know and the SQL that you are about to learn. Thus, for each of the simpler queries, we ask that you **look into the question twice: once with pandas and once with pandasql**. \n",
        "\n",
        "Each answer will thus require both a `pd_` and `sql_` prefixed-dataframe that you will submit seperately to the autograder. **We will be reviewing your code to make sure you wrote the code in the corresponding languages.**\n"
      ]
    },
    {
      "cell_type": "markdown",
      "source": [
        "###2.1 Movie Recommendations"
      ],
      "metadata": {
        "id": "8gIjaNk9BnJ-"
      }
    },
    {
      "cell_type": "markdown",
      "metadata": {
        "id": "geYyH57csade"
      },
      "source": [
        "#### 2.1.1 What movies have good reviews from critics and audience?\n",
        "\n",
        "`movies_df` contains all sorts of movies. We all love good movies, so let's try to separate the good from the bad.\n",
        "\n",
        "Rotten Tomatoes offers two major aggregate ratings: \n",
        "- one by critics, in the column `tomatometer_status`, and has three possible values: `Certified-Fresh`,`Fresh`, and `Rotten`.\n",
        "- the other by audience members, in the column `audience_status`, and has two possible values: `Upright` (good) and `Spilled` (bad).\n",
        "\n",
        "**TODO:** Using **pandas**, filter out movies from `movies_df` that are `Certified-Fresh` or `Fresh` into a new dataframe named `good_critics_df`, which should have the following schema:\n",
        "\n",
        ">rotten_tomatoes_link | movie_title\n",
        ">--- | ---\n",
        "\n"
      ]
    },
    {
      "cell_type": "code",
      "metadata": {
        "id": "8aZCy0IZR7v2"
      },
      "source": [
        "# TODO: Use pandas to obtain good_critics_df\n",
        "#good_critics_df = ...\n",
        "movies_df1 = movies_df[movies_df['tomatometer_status']!='Rotten']\n",
        "good_critics_df =movies_df1[['rotten_tomatoes_link','movie_title']]"
      ],
      "execution_count": 479,
      "outputs": []
    },
    {
      "cell_type": "code",
      "metadata": {
        "id": "gmRuF4phW_CT",
        "colab": {
          "base_uri": "https://localhost:8080/"
        },
        "outputId": "982500fd-3770-41dc-c7dd-efc6f99412dc"
      },
      "source": [
        "# 2 points\n",
        "grader.grade(test_case_id = 'test_good_critics_df', answer = good_critics_df)"
      ],
      "execution_count": 480,
      "outputs": [
        {
          "output_type": "stream",
          "name": "stdout",
          "text": [
            "Correct! You earned 2/2 points. You are a star!\n",
            "\n",
            "Your submission has been successfully recorded in the gradebook.\n"
          ]
        }
      ]
    },
    {
      "cell_type": "markdown",
      "source": [
        "then, let's consider the ratings by movie-goers.\n",
        "\n",
        "**TODO:** Using **pandasql**, filter out movies from `movies_df` that are rated as `Upright` by the audience, into a new dataframe named `good_audience_df`, which should have the following schema:\n",
        "\n",
        ">rotten_tomatoes_link | movie_title\n",
        ">--- | ---"
      ],
      "metadata": {
        "id": "Hj58V6drh88p"
      }
    },
    {
      "cell_type": "code",
      "metadata": {
        "id": "MsjMINr3X1zk"
      },
      "source": [
        "# TODO: Use pandasql to obtain good_audience_df\n",
        "movies_df = pd.read_csv('rotten_tomatoes_movies.csv')\n",
        "movies_df = movies_df.drop(columns=['critics_consensus', 'production_company'])\n",
        "movies_df['genres'] = movies_df['genres'].fillna('No Genre')\n",
        "\n",
        "movies_df = movies_df.dropna()\n",
        "\n",
        "movies_df['original_release_date'] = pd.to_datetime(movies_df['original_release_date'])\n",
        "movies_df['streaming_release_date'] = pd.to_datetime(movies_df['streaming_release_date'])\n",
        "\n",
        "movies_df['runtime'] = movies_df['runtime'].astype('int64')\n",
        "movies_df['tomatometer_count'] = movies_df['tomatometer_count'].astype('int64')\n",
        "movies_df['tomatometer_rating'] = movies_df['tomatometer_rating'].astype('int64')\n",
        "movies_df['audience_count'] = movies_df['audience_count'].astype('int64')\n",
        "movies_df['audience_rating'] = movies_df['audience_rating'].astype('int64')\n",
        "good_audience_query = \"\"\"\n",
        "SELECT rotten_tomatoes_link, movie_title \n",
        "FROM movies_df\n",
        "WHERE movies_df.audience_status == 'Upright';\n",
        "\"\"\"\n",
        "\n",
        "good_audience_df = ps.sqldf(good_audience_query, locals())"
      ],
      "execution_count": 481,
      "outputs": []
    },
    {
      "cell_type": "code",
      "metadata": {
        "id": "XKddWLnIIF7v",
        "colab": {
          "base_uri": "https://localhost:8080/"
        },
        "outputId": "29b6f648-1f1a-4b84-a864-bf267ba4a356"
      },
      "source": [
        "# 2 points\n",
        "grader.grade(test_case_id = 'test_good_audience_df', answer = good_audience_df)"
      ],
      "execution_count": 482,
      "outputs": [
        {
          "output_type": "stream",
          "name": "stdout",
          "text": [
            "Correct! You earned 2/2 points. You are a star!\n",
            "\n",
            "Your submission has been successfully recorded in the gradebook.\n"
          ]
        }
      ]
    },
    {
      "cell_type": "markdown",
      "metadata": {
        "id": "zHzBYzlDYoLx"
      },
      "source": [
        "Now, we can simply join these dataframes to get a table of all the best movies and binge watch one every night! But wait! Sometimes, the opinions of critics and audience may differ, so we need to make sure that the good movies we watch are ones that are viewed positively by both critics and audiences. \n",
        "\n",
        "**TODO**: Using **pandas and pandasql**, filter out movies with **mixed reviews** (ie. audience and critic opinions differ) to a new dataframe `pd/sql_mixed_movies_df`, ordered by lexicographic order of `movie_title`.\n",
        "\n",
        "For this question, you should **NOT** use `movies_df` or `exploded_movies_df`.\n",
        "\n",
        "Some tips:\n",
        "* For pandas, explore the `indicator` parameter within the `merge()` function.\n",
        "* For pandasql, considering using `EXCEPT`."
      ]
    },
    {
      "cell_type": "code",
      "metadata": {
        "id": "m2FvwI2CaA0X"
      },
      "source": [
        "# TODO: Filter out movies with mixed reviews using pandas\n",
        "pd_mixed_movies_df = good_audience_df.merge(good_critics_df,how = 'outer', on = ['rotten_tomatoes_link','movie_title'], indicator = True)\n",
        "\n",
        "pd_mixed_movies_df = pd_mixed_movies_df[(pd_mixed_movies_df['_merge'] =='right_only') | (pd_mixed_movies_df['_merge'] =='left_only')].sort_values('movie_title')\n",
        "pd_mixed_movies_df = pd_mixed_movies_df[['rotten_tomatoes_link', 'movie_title']]"
      ],
      "execution_count": 483,
      "outputs": []
    },
    {
      "cell_type": "code",
      "source": [
        "# 4 points\n",
        "grader.grade(test_case_id = 'test_pd_mixed_movies', answer = pd_mixed_movies_df)"
      ],
      "metadata": {
        "id": "_ZAJ1otoIktJ",
        "colab": {
          "base_uri": "https://localhost:8080/"
        },
        "outputId": "e7123144-c423-4811-b10c-7a37f697f822"
      },
      "execution_count": 484,
      "outputs": [
        {
          "output_type": "stream",
          "name": "stdout",
          "text": [
            "Correct! You earned 4/4 points. You are a star!\n",
            "\n",
            "Your submission has been successfully recorded in the gradebook.\n"
          ]
        }
      ]
    },
    {
      "cell_type": "code",
      "metadata": {
        "id": "08AFCWPEYlKW"
      },
      "source": [
        "# TODO: Filter out movies with mixed reviews from good_critics_df and good_audience_df\n",
        "mixed_query = \"\"\"\n",
        "SELECT good_critics_df.rotten_tomatoes_link, good_critics_df.movie_title\n",
        "From good_critics_df \n",
        "Left JOIN good_audience_df\n",
        "ON (good_critics_df.rotten_tomatoes_link=good_audience_df.rotten_tomatoes_link) and (good_critics_df.movie_title=good_audience_df.movie_title)\n",
        "EXCEPT\n",
        "SELECT good_critics_df.rotten_tomatoes_link, good_critics_df.movie_title\n",
        "From good_critics_df \n",
        "INNER JOIN good_audience_df\n",
        "ON (good_critics_df.rotten_tomatoes_link=good_audience_df.rotten_tomatoes_link) and (good_critics_df.movie_title=good_audience_df.movie_title)\n",
        "\n",
        "\n",
        "UNION\n",
        "\n",
        "SELECT good_audience_df.rotten_tomatoes_link, good_audience_df.movie_title\n",
        "From good_audience_df\n",
        "Left JOIN good_critics_df\n",
        "ON (good_audience_df.rotten_tomatoes_link = good_critics_df.rotten_tomatoes_link) and (good_audience_df.movie_title=good_critics_df.movie_title)\n",
        "EXCEPT\n",
        "SELECT good_audience_df.rotten_tomatoes_link, good_audience_df.movie_title\n",
        "From good_audience_df\n",
        "INNER JOIN good_critics_df\n",
        "ON (good_audience_df.rotten_tomatoes_link = good_critics_df.rotten_tomatoes_link) and (good_audience_df.movie_title=good_critics_df.movie_title)\n",
        "\n",
        "\"\"\"\n",
        "\n",
        "sql_mixed_movies_df =ps.sqldf(mixed_query, locals())\n",
        "sql_mixed_movies_df= sql_mixed_movies_df.sort_values('movie_title')\n",
        "\n"
      ],
      "execution_count": 485,
      "outputs": []
    },
    {
      "cell_type": "code",
      "source": [
        "# 4 points\n",
        "grader.grade(test_case_id = 'test_sql_mixed_movies', answer = (mixed_query,sql_mixed_movies_df))"
      ],
      "metadata": {
        "id": "7CDAyh7F1XiJ",
        "colab": {
          "base_uri": "https://localhost:8080/"
        },
        "outputId": "fa54f4a0-52d0-4832-f5fb-077920c64d17"
      },
      "execution_count": 486,
      "outputs": [
        {
          "output_type": "stream",
          "name": "stdout",
          "text": [
            "Correct! You earned 4/4 points. You are a star!\n",
            "\n",
            "Your submission has been successfully recorded in the gradebook.\n"
          ]
        }
      ]
    },
    {
      "cell_type": "markdown",
      "source": [
        "**TODO:**\n",
        "\n",
        "Using **pandas/pandasql**, `pd/sql_mixed_movies_df` and `movies_df`, find the top 10 mixed movies with the **largest absolute difference** in critic review score and audience review score. You should calculate this as the absolute difference between `tomatometer_rating` and `audience_rating`, and store this in a column named `diff`. If multiple movies have the same `diff` value, order their rows in lexicographic order.\n",
        "\n",
        "Format the output as a dataframe called `pd/sql_top_10_mixed_movies_df` that has the following schema:\n",
        "\n",
        ">movie_title | diff\n",
        ">--- | ---\n"
      ],
      "metadata": {
        "id": "8xcASc2QFZaV"
      }
    },
    {
      "cell_type": "code",
      "source": [
        "# TODO: pandas\n",
        "#pd_top_10_mixed_movies_df = ...\n",
        "\n",
        "movies_df['diff'] = abs(movies_df['tomatometer_rating'] - movies_df['audience_rating'])\n",
        "\n",
        "pd_top_10_mixed_movies_df = pd_mixed_movies_df.merge(movies_df, on = 'rotten_tomatoes_link', how ='left')\n",
        "pd_top_10_mixed_movies_df = pd_top_10_mixed_movies_df[['movie_title_x', 'diff']].sort_values('movie_title_x').sort_values(['diff','movie_title_x'],ascending=[False,True]).head(10)\n",
        "pd_top_10_mixed_movies_df = pd_top_10_mixed_movies_df.rename(columns={'movie_title_x': 'movie_title'}) "
      ],
      "metadata": {
        "id": "bH8hYj3iHGxz"
      },
      "execution_count": 487,
      "outputs": []
    },
    {
      "cell_type": "code",
      "source": [
        "#TODO: pandasql\n",
        "top_10_mixed_query = \"\"\"\n",
        "SELECT movie_title, diff\n",
        "FROM( \n",
        "  SELECT movie_title, ABS(tomatometer_rating-audience_rating) as diff\n",
        "  FROM movies_df\n",
        "  INNER JOIN (\n",
        "    SELECT movie_title AS title\n",
        "    FROM pd_mixed_movies_df\n",
        "  )\n",
        "  ON movie_title = title \n",
        "  ORDER BY movie_title\n",
        ")\n",
        "ORDER BY diff DESC \n",
        "LIMIT 10\n",
        "\"\"\"\n",
        "\n",
        "sql_top_10_mixed_movies_df = ps.sqldf(top_10_mixed_query, locals()) "
      ],
      "metadata": {
        "id": "5fuKqn8YLnOD"
      },
      "execution_count": 488,
      "outputs": []
    },
    {
      "cell_type": "code",
      "source": [
        "# 6 points\n",
        "grader.grade(test_case_id = 'test_top_10_mixed', answer = (top_10_mixed_query,pd_top_10_mixed_movies_df,sql_top_10_mixed_movies_df))"
      ],
      "metadata": {
        "id": "IR5WxqBK70Q3",
        "colab": {
          "base_uri": "https://localhost:8080/"
        },
        "outputId": "477f70aa-c7aa-4cd9-df34-d8c522d917f1"
      },
      "execution_count": 489,
      "outputs": [
        {
          "output_type": "stream",
          "name": "stdout",
          "text": [
            "Correct! You earned 6/6 points. You are a star!\n",
            "\n",
            "Your submission has been successfully recorded in the gradebook.\n"
          ]
        }
      ]
    },
    {
      "cell_type": "markdown",
      "metadata": {
        "id": "ooVqjTGm9eCA"
      },
      "source": [
        "#### 2.1.2 What movies can we recommend to Professor Davidson?\n",
        "\n",
        "Professor Davidson wants to take a break from teaching CIS 545. She is considering watching a movie on her Netflix account, and is gathering movie recommendations from you.\n",
        "\n",
        "Because her favourite holiday is halloween, Professor Davidson is looking to watch a horror movie. But first, she wants to answer a long-standing question in her mind: are there more horror movies during October? \n",
        "\n",
        "**TODO**: \n",
        "- add a column `month` to movies_df that contains the month of the movie's original date of release.\n",
        "- Using **pandas and pandasql**, find the number of movies classified as `Horror`, grouped by month. Store this number in a column `num_movies` in descending order, and store the results in `pd/sql_horror_df` which should have the following format:\n",
        "\n",
        ">month | num_movies\n",
        ">--- | ---\n",
        "\n",
        "HINT: Recall that the `genres` column in `movies_df` is not exploded and thus contains a string of (possibly multiple) genres. Therefore, to get the movies that are classified as `Horror`, we will need to check for string similarity.\n",
        "- for Pandas, you can use str.contains()\n",
        "- for Pandasql, you may take a look at `LIKE()` and the wildcards `_` and/or `%`.\n",
        "\n"
      ]
    },
    {
      "cell_type": "code",
      "metadata": {
        "id": "djfer4T0uFa4"
      },
      "source": [
        "# TODO: pandas version\n",
        "#pd_horror_df = ...\n",
        "movies_df['month'] = movies_df['original_release_date'].dt.month\n",
        "horror_df = movies_df[movies_df['genres'].str.contains('Horror')][['month']]\n",
        "pd_horror_df = horror_df.groupby(['month'])['month'].agg(num_movies = ('count')).reset_index()"
      ],
      "execution_count": 490,
      "outputs": []
    },
    {
      "cell_type": "code",
      "metadata": {
        "id": "GRewUlHAvGnR"
      },
      "source": [
        "# TODO: pandasql version\n",
        "\n",
        "horror_query = \"\"\"\n",
        "SELECT month, COUNT(*) as num_movies\n",
        "FROM movies_df\n",
        "WHERE movies_df.genres LIKE '%Horror%'\n",
        "GROUP BY month;\n",
        "\"\"\"\n",
        "\n",
        "sql_horror_df = ps.sqldf(horror_query, locals())"
      ],
      "execution_count": 491,
      "outputs": []
    },
    {
      "cell_type": "code",
      "metadata": {
        "id": "EdqFmCL6xBPv",
        "colab": {
          "base_uri": "https://localhost:8080/"
        },
        "outputId": "b359cf25-0176-46d8-87ca-edca3600dbd9"
      },
      "source": [
        "# 4 points\n",
        "grader.grade(test_case_id = 'test_horror_month', answer = (horror_query, pd_horror_df, sql_horror_df))"
      ],
      "execution_count": 492,
      "outputs": [
        {
          "output_type": "stream",
          "name": "stdout",
          "text": [
            "Correct! You earned 4/4 points. You are a star!\n",
            "\n",
            "Your submission has been successfully recorded in the gradebook.\n"
          ]
        }
      ]
    },
    {
      "cell_type": "markdown",
      "metadata": {
        "id": "uW4VQc6BgD-6"
      },
      "source": [
        "It seems like October is not the most popular month in which horror movies are released. \n",
        "\n",
        "**TODO:**\n",
        "Using **pandas and pandasql**, find the movies classified as `Horror` that were originally released in **January**. Store the results in `pd/sql_jan_df` which should have the following format, sorted in descending order of `audience_count`:\n",
        "\n",
        ">rotten_tomatoes_link | movie_title | audience_count\n",
        ">--- | --- | ---"
      ]
    },
    {
      "cell_type": "code",
      "metadata": {
        "id": "JULj_WXFPIuQ"
      },
      "source": [
        "# TODO: pandas version\n",
        "horror_df = movies_df[movies_df['genres'].str.contains('Horror')][['month', 'rotten_tomatoes_link',\t'movie_title', 'audience_count']]\n",
        "pd_jan_df = horror_df[horror_df['month']==1][['rotten_tomatoes_link',\t'movie_title', 'audience_count']]\n",
        "pd_jan_df = pd_jan_df.sort_values('audience_count', ascending = False)"
      ],
      "execution_count": 493,
      "outputs": []
    },
    {
      "cell_type": "code",
      "metadata": {
        "id": "_EMJdmivPIuR"
      },
      "source": [
        "# TODO: pandasql version\n",
        "jan_query = \"\"\"\n",
        "SELECT rotten_tomatoes_link,movie_title,audience_count\n",
        "FROM movies_df\n",
        "WHERE month =1 and genres LIKE '%Horror%'\n",
        "ORDER BY audience_count DESC\n",
        "\"\"\"\n",
        "\n",
        "sql_jan_df = ps.sqldf(jan_query, locals())"
      ],
      "execution_count": 494,
      "outputs": []
    },
    {
      "cell_type": "code",
      "metadata": {
        "id": "JdUsAosuSq1Z",
        "colab": {
          "base_uri": "https://localhost:8080/"
        },
        "outputId": "358ba5e4-54a4-4f49-979d-e0add9416321"
      },
      "source": [
        "# 4 points\n",
        "grader.grade(test_case_id = 'test_horror_jan', answer = (jan_query, pd_jan_df, sql_jan_df))"
      ],
      "execution_count": 495,
      "outputs": [
        {
          "output_type": "stream",
          "name": "stdout",
          "text": [
            "Correct! You earned 4/4 points. You are a star!\n",
            "\n",
            "Your submission has been successfully recorded in the gradebook.\n"
          ]
        }
      ]
    },
    {
      "cell_type": "markdown",
      "metadata": {
        "id": "KqlpHrijkIEY"
      },
      "source": [
        "With all the information about these movies, we are ready to help Professor Davidson find her dream movie. In particular, she wants a movie that: \n",
        "- is a horror movie\n",
        "- was originally released in January \n",
        "- has been watched by at least 50000 audience members, with an overall `audience_rating` of `Upright`.  \n",
        "\n",
        "**TODO**:\n",
        "* Using the information provided above, and using **pandasql**, find the top 10 movies that fit her criteria, sorted by descending order of `audience_count`. Store this in a dataframe called `movie_recs_df`, that has the following schema:\n",
        "\n",
        ">rotten_tomatoes_link | movie_title | audience_count\n",
        ">--- | --- | ---\n",
        "\n",
        "**Hint**: you may find it helpful to leverage `good_audience_df` and `pd_jan_df`."
      ]
    },
    {
      "cell_type": "code",
      "metadata": {
        "id": "UHqwEGTCkDU1"
      },
      "source": [
        "# TODO: use pandasql to find top 10 movies that fit criteria\n",
        "recs_query = \"\"\"\n",
        "SELECT rotten_tomatoes_link,movie_title,audience_count\n",
        "FROM movies_df\n",
        "WHERE (month =1) and (genres LIKE '%Horror%') and (audience_status\t= 'Upright')\n",
        "ORDER BY audience_count DESC\n",
        "LIMIT 10;\n",
        "\"\"\"\n",
        "\n",
        "movie_recs_df = ps.sqldf(recs_query, locals())"
      ],
      "execution_count": 496,
      "outputs": []
    },
    {
      "cell_type": "code",
      "metadata": {
        "id": "c1wy0ftelRit",
        "colab": {
          "base_uri": "https://localhost:8080/"
        },
        "outputId": "5114de27-e3db-4481-e1ea-e0c11b300aa0"
      },
      "source": [
        "# 6 points\n",
        "grader.grade(test_case_id = 'test_recs', answer = (recs_query, movie_recs_df))"
      ],
      "execution_count": 497,
      "outputs": [
        {
          "output_type": "stream",
          "name": "stdout",
          "text": [
            "Correct! You earned 6/6 points. You are a star!\n",
            "\n",
            "Your submission has been successfully recorded in the gradebook.\n"
          ]
        }
      ]
    },
    {
      "cell_type": "markdown",
      "source": [
        "### 2.2 Good Critic Reviews \n",
        "\n",
        "Now let us switch gears and examine `reviews_df`. In particular, we want to find the critics who are good at writing reviews.\n",
        "\n",
        "The first criteria that defines a good reviewer is balance and objectivity. Just like people (other than me), no movie is perfect, and so we probably want reviews to cover both the good and the bad. \n",
        "\n",
        "**TODO**: Using `reviews_df` and **pandasql**, find the reviews that contain both the word `\"good\"` and the word `\"bad\"` (case-insensitive). Include substrings (ie. it can be part of a word, such as '**good**-natured' or 'for**bad**e').\n",
        "\n",
        "Store the results in `balanced_df`, ordered by lexicographical order of `review_content`, with the following schema:\n",
        "\n",
        ">critic_name | review_content | \n",
        ">--- | --- | \n",
        "\n",
        "HINT: This involves checking for string similarity.\n",
        "- for Pandas, you can use str.contains()\n",
        "- for Pandasql, you may take a look at `LIKE()` and the wildcards `_` and/or `%`.\n",
        "\n"
      ],
      "metadata": {
        "id": "RAGGwxXzUvqE"
      }
    },
    {
      "cell_type": "code",
      "source": [
        "# TODO: use pandasql to find reviews with both words \"good\" and \"bad\"\n",
        "balanced_query = \"\"\"\n",
        "SELECT critic_name, review_content \n",
        "FROM reviews_df\n",
        "WHERE review_content LIKE '%good%' and review_content LIKE '%bad%' \n",
        "\n",
        "\"\"\"\n",
        "balanced_df = ps.sqldf(balanced_query, locals())\n"
      ],
      "metadata": {
        "id": "089mErwoUvqE"
      },
      "execution_count": 498,
      "outputs": []
    },
    {
      "cell_type": "code",
      "source": [
        "# 2 points\n",
        "grader.grade(test_case_id = 'test_balanced_df', answer = (balanced_df, balanced_query))"
      ],
      "metadata": {
        "id": "X0m5C19CUvqF",
        "colab": {
          "base_uri": "https://localhost:8080/"
        },
        "outputId": "053175e9-6f7b-4e5d-ff9e-1151878203e9"
      },
      "execution_count": 499,
      "outputs": [
        {
          "output_type": "stream",
          "name": "stdout",
          "text": [
            "Correct! You earned 2/2 points. You are a star!\n",
            "\n",
            "Your submission has been successfully recorded in the gradebook.\n"
          ]
        }
      ]
    },
    {
      "cell_type": "markdown",
      "source": [
        "*Good cause, bad movie.* One of my favourite quotes.\n",
        "\n",
        "The second criteria we have for good critics is tenure. Let us find the \"seasoned\" reviewers, ie. those who have been writing reviews for a long period of time.\n",
        "\n",
        "**TODO**: Using `reviews_df` and **pandasql**:\n",
        "- Create a column `date_diff` which contains the difference (in number of days) between each critic's first review and most recent review\n",
        "- Only include reviews from the 21st Century (ie. published from 2000 onward)\n",
        "- Only include critics whose first and most recent reviews are at least 10 years **(3652 days)** apart\n",
        "- Do not include reviews by `'Anonymous'`\n",
        "- Make sure your `date_diff` column contains integer values (HINT: see `CAST()`).\n",
        "\n",
        "You may consider casting the dates into a [format](https://www.sqlite.org/lang_datefunc.html) that will help produce the difference in days. \n",
        "\n",
        "Store the results in `critics_time_df`, ordered by descending order of `date_diff`, with the following schema:\n",
        "\n",
        ">critic_name | date_diff | \n",
        ">--- | --- | \n",
        "\n",
        "HINT: \n",
        "- You may either include only reviews that are in the 21st Century, or include critics whose first review is in the 21st Century.\n",
        "- For datetime manipulation, you may take a look at `JULIANDAY()` or `strftime()`. But be consistent with your approach throughout your query. In other words, do not mix and match `JULIANDAY()` and `strftime()` within the same query as you will not get consistent results."
      ],
      "metadata": {
        "id": "-SfmLpQWOtS3"
      }
    },
    {
      "cell_type": "code",
      "source": [
        "# TODO: use pandasql to find seasoned reviewers\n",
        "time_query = \"\"\"\n",
        "\n",
        "WITH t1 as (SELECT critic_name,MIN(review_date) as min_date, CAST(julianday(strftime('%Y-%m-%d',MAX(review_date)))-julianday(strftime('%Y-%m-%d',MIN(review_date))) AS INT) as date_diff\n",
        "FROM reviews_df\n",
        "WHERE (publisher_name != 'Anonymous')\n",
        "GROUP BY critic_name)\n",
        "SELECT t1.critic_name, t1.date_diff\n",
        "FROM t1\n",
        "WHERE date_diff >= 3652 AND min_date >= '2000-01-01'\n",
        "ORDER BY date_diff DESC\n",
        "\"\"\"\n",
        "\n",
        "critics_time_df = ps.sqldf(time_query, locals())"
      ],
      "metadata": {
        "id": "SiYCPV3KXO3J"
      },
      "execution_count": 500,
      "outputs": []
    },
    {
      "cell_type": "code",
      "source": [
        "# 6 points\n",
        "grader.grade(test_case_id = 'test_critic_review_time', answer = (critics_time_df, time_query))"
      ],
      "metadata": {
        "id": "iMQicmZgB8Xc",
        "colab": {
          "base_uri": "https://localhost:8080/"
        },
        "outputId": "60c25c49-d39a-408a-a2a7-590b52660def"
      },
      "execution_count": 501,
      "outputs": [
        {
          "output_type": "stream",
          "name": "stdout",
          "text": [
            "Correct! You earned 6/6 points. You are a star!\n",
            "\n",
            "Your submission has been successfully recorded in the gradebook.\n"
          ]
        }
      ]
    },
    {
      "cell_type": "markdown",
      "source": [
        "### 2.3 What do we watch on Netflix tonight?\n",
        "\n",
        "Now let's run a tougher analysis. I'm sure we've all experienced the aimless scrolling through the Netflix homepage, trying (and sometimes failing) to find a movie that interests us. It's painful to manually search up the reviews of each movie we see, so why don't we try to automate this process? Let's determine the best on Netflix for each genre using both critics' and audiences' opinions on Rotten Tomatoes.\n",
        "\n",
        "This (and the next 2 questions) will require you to write a [nested SQL query](https://learnsql.com/blog/sql-nested-select/). That is, there will be at least one SELECT statement inside of another SELECT statement. This means that you should **NOT** write two separate SQL commands and call ps.sqldf() twice. \n",
        "\n",
        "**TODO**: Using `exploded_movies_df` and `streaming_df`:\n",
        "- Find all movies on Netflix, then **for each genre,** identify the ones with the highest combined RT tomatometer and audience rating (include all ties). Call this new column `combined_rt_rating`.\n",
        "- Rename the key `genre_category`, and sort your final result by this column in ascending order.\n",
        "\n",
        "Though it could be helpful, **you do NOT have to implement this in pandas**. Store the results in `netflix_best_df`, which should have the following format:\n",
        "\n",
        ">movie_title | genres | genre_category | combined_rt_rating\n",
        ">--- | --- | --- | ---\n",
        "\n",
        "where `genres` represents all the genres of the movie, and `genre_category` represents the genre that the movie's RT ratings are compared to.\n",
        "\n",
        "HINT: Consider the case when there may be ties between multiple movies that have the same highest combined_rt_rating for a particular genre."
      ],
      "metadata": {
        "id": "b_D-YM4gWLdi"
      }
    },
    {
      "cell_type": "code",
      "source": [
        "# TODO: use pandasql to find the best on Netflix\n",
        "netflix_best_query = \"\"\"\n",
        "WITH t1 as (SELECT movie_title, genres, genre as genre1, tomatometer_rating+audience_rating as rating1\n",
        "FROM exploded_movies_df \n",
        "JOIN (\n",
        "  Select Title\n",
        "  FROM streaming_df\n",
        "  WHERE  Netflix=1)\n",
        "ON movie_title = Title\n",
        "),\n",
        "t2 as (SELECT movie_title, genres, genre as genre2, max(tomatometer_rating+audience_rating) as rating2\n",
        "FROM exploded_movies_df \n",
        "JOIN (\n",
        "  Select Title\n",
        "  FROM streaming_df\n",
        "  WHERE  Netflix=1)\n",
        "ON movie_title = Title\n",
        "GROUP BY genre\n",
        ")\n",
        "SELECT movie_title, genres, genre1 as genre_category, rating1 as combined_rt_rating\n",
        "FROM t1\n",
        "JOIN(\n",
        "  SELECT genre2, rating2\n",
        "  FROM t2) \n",
        "ON genre1 = genre2 AND rating1 =rating2 \n",
        "ORDER BY genre_category\n",
        "\"\"\"\n",
        "\n",
        "netflix_best_df = ps.sqldf(netflix_best_query, locals())"
      ],
      "metadata": {
        "id": "nrsP2KQkOviH"
      },
      "execution_count": 502,
      "outputs": []
    },
    {
      "cell_type": "code",
      "source": [
        "# 10 points\n",
        "grader.grade(test_case_id = 'test_netflix_best', answer = (netflix_best_query, netflix_best_df))"
      ],
      "metadata": {
        "id": "Vyj46kAZ2MQA",
        "colab": {
          "base_uri": "https://localhost:8080/"
        },
        "outputId": "98c61c5a-f639-4160-d505-8134f879ae31"
      },
      "execution_count": 503,
      "outputs": [
        {
          "output_type": "stream",
          "name": "stdout",
          "text": [
            "Correct! You earned 10/10 points. You are a star!\n",
            "\n",
            "Your submission has been successfully recorded in the gradebook.\n"
          ]
        }
      ]
    },
    {
      "cell_type": "markdown",
      "source": [
        "### 2.4 Which months of the year does each streaming service have the most number of movies available?\n",
        "\n",
        "Maybe you don't care about picking out the \"good\" movies from the \"bad\" ones. Maybe you just want to watch as many movies as possible each month. Still, paying those monthly bills for all these streaming services (which seem to be increasing in number every day) doesn't seem to be a sustainable strategy. It would be much easier to pay for certain streaming services in the month they have the most movies.\n",
        "\n",
        "**TODO**: Using `movies_df` and `streaming_df`,\n",
        "- Count the number of movies for each streaming service per month using the `month` column in `movies_df` you created earlier.\n",
        "- For each streaming service, find the month in which they have the most movies available and how many movies are available in that month. Include ties, if there are any.\n",
        "\n",
        "Store the results in `best_streaming_df`, which should have the following format:\n",
        "\n",
        ">streaming_service | max_month | num_movies\n",
        ">--- | --- | --- |\n",
        "\n",
        "For example, if Netflix has the most movies (100) in October and Hulu has the most movies (90) in January, your query should output:\n",
        "\n",
        "streaming_service  | max_month        | num_movies\n",
        "-------------------|------------------|--------------\n",
        "Netflix    | 10                       | 100\n",
        "Hulu       | 1                        | 90\n",
        "\n",
        "and so on, for all four streaming services.\n",
        "\n",
        "**Hints:**\n",
        "- Make use of `UNION ALL` to stack tables with the same column names."
      ],
      "metadata": {
        "id": "6NJEomBiFNB_"
      }
    },
    {
      "cell_type": "code",
      "source": [
        "# TODO: use pandasql to find the month where each streaming service has the most movies\n",
        "best_streaming_query = \"\"\"\n",
        "WITH t1 as (SELECT Title, SUM(Netflix) as num, Month\n",
        "FROM streaming_df\n",
        "JOIN (\n",
        "  SELECT movie_title, month as Month\n",
        "  FROM movies_df\n",
        " )\n",
        " ON Title = movie_title\n",
        " GROUP BY Month\n",
        " ),t2 as (SELECT Title, SUM(Hulu) as num, Month\n",
        "FROM streaming_df\n",
        "JOIN (\n",
        "  SELECT movie_title, month as Month\n",
        "  FROM movies_df\n",
        " )\n",
        " ON Title = movie_title\n",
        " GROUP BY Month\n",
        " ), t3 as (SELECT Title, SUM(\"Prime Video\") as num, Month\n",
        "FROM streaming_df\n",
        "JOIN (\n",
        "  SELECT movie_title, month as Month\n",
        "  FROM movies_df\n",
        " )\n",
        " ON Title = movie_title\n",
        " GROUP BY Month\n",
        " ),t4 as (SELECT Title, SUM(\"Disney+\") as num, Month\n",
        "FROM streaming_df\n",
        "JOIN (\n",
        "  SELECT movie_title, month as Month\n",
        "  FROM movies_df\n",
        " )\n",
        " ON Title = movie_title\n",
        " GROUP BY Month\n",
        " )\n",
        "SELECT 'Netflix' as streaming_service, Month as max_month, max(num) as num_movies \n",
        "FROM t1 \n",
        "UNION ALL \n",
        "SELECT 'Hulu' as streaming_service, Month as max_month, max(num) as num_movies \n",
        "FROM t2 \n",
        "UNION ALL \n",
        "SELECT \"Prime Video\" as streaming_service, Month as max_month, max(num) as num_movies \n",
        "FROM t3 \n",
        "UNION ALL \n",
        "SELECT \"Disney+\" as streaming_service, Month as max_month, max(num) as num_movies \n",
        "FROM t4 \n",
        "ORDER BY num_movies\n",
        "\"\"\"\n",
        "\n",
        "best_streaming_df =ps.sqldf(best_streaming_query, locals())\n"
      ],
      "metadata": {
        "id": "Cinik7rVbeJk"
      },
      "execution_count": 504,
      "outputs": []
    },
    {
      "cell_type": "code",
      "source": [
        "# 10 points\n",
        "\n",
        "grader.grade(test_case_id = 'test_best_streaming', answer = (best_streaming_query, best_streaming_df))"
      ],
      "metadata": {
        "id": "B6INUivb2Khz",
        "colab": {
          "base_uri": "https://localhost:8080/"
        },
        "outputId": "cbe7ac0c-6889-440f-dacc-63d9ff75cd1d"
      },
      "execution_count": 505,
      "outputs": [
        {
          "output_type": "stream",
          "name": "stdout",
          "text": [
            "Correct! You earned 10/10 points. You are a star!\n",
            "\n",
            "Your submission has been successfully recorded in the gradebook.\n"
          ]
        }
      ]
    },
    {
      "cell_type": "markdown",
      "source": [
        "### 2.5 What movies are underrated by critics (ft. top critics)?\n",
        "\n",
        "[According to the Rotten Tomatoes website](https://www.rottentomatoes.com/critics/top_critics), \"Top Critic is a designation created to distinguish Tomatometer-approved critics who excel at their craft. Critics selected are well-established, influential, and prolific...\" Although all critics on RT are officially approved, we want to establish a top-critic-only score that only includes the opinions of the \"cream of the crop\". Certain films could be poorly received by regular critics, but top critics see something special in them. Let's try and find these underappreciated movies!\n",
        "\n",
        "**TODO**: Using `reviews_df` and `movies_df`:\n",
        "- Filter out all non-top critics, then compute a new Tomatometer rating for each movie based on its proportion of Fresh reviews to total reviews (*both statistics among top critics only*). Call this new column `top_critic_tomatometer`, and **round this percentage to the nearest integer.**\n",
        "- Constrain the movie pool to **only ones that have more than 5 top critic reviews** to mitigate outlier impact.\n",
        "- Retrieve the top 10 movies with the highest difference between `top_critic_tomatometer` and its provided Tomatometer rating (`tomatometer_rating`) - name this difference `score_diff`. \n",
        "  - `top_critic_tomatometer` - `tomatometer_rating`. Not the absolute value of the difference.\n",
        "\n",
        "Store the results in `underrated_movies_df`, which should have the following format:\n",
        "\n",
        ">movie_title | top_critic_tomatometer | tomatometer_rating | score_diff\n",
        ">--- | --- | --- | ---\n",
        "\n",
        "**Hints:**\n",
        "- SQLite stores booleans as integers 1 (True) and 0 (False), respectively.\n",
        "- Tomatometer ratings are provided as percentages (i.e. 84 not 0.84), so make sure your top critic scores are as well.\n",
        "- Since there are numerous remakes included in the dataset with the same name as the original/multiple other versions, make sure you conduct aggregate/join operations on `rotten_tomatoes_link` to ensure uniqueness.\n",
        "- Dividing two integers in SQL yields a rounded integer. Try casting values to float instead of decimal to avoid rounding issue."
      ],
      "metadata": {
        "id": "t3mlQcJhtlgz"
      }
    },
    {
      "cell_type": "code",
      "source": [
        "# TODO: use pandasql to find the regular critics' underrated movies\n",
        "underrated_movies_query = \"\"\"\n",
        "WITH t1 as (\n",
        "SELECT movie_title, rotten_tomatoes_link, tomatometer_rating\n",
        "FROM movies_df\n",
        "),\n",
        "t2 as (\n",
        "SELECT rotten_tomatoes_link, ROUND(AVG(replace(replace(review_type, 'Rotten', 0), 'Fresh',100))) as rate, count(critic_name) as num \n",
        "FROM reviews_df\n",
        "WHERE top_critic = 1\n",
        "GROUP BY rotten_tomatoes_link\n",
        ")\n",
        "SELECT movie_title, rate as top_critic_tomatometer, tomatometer_rating, (rate-tomatometer_rating) as score_diff\n",
        "FROM (\n",
        "Select * FROM t2\n",
        "JOIN t1\n",
        "ON t2.rotten_tomatoes_link = t1.rotten_tomatoes_link\n",
        "Where num>5\n",
        "\n",
        ")\n",
        "Order By score_diff DESC\n",
        "Limit 10\n",
        "\n",
        "\"\"\""
      ],
      "metadata": {
        "id": "x2V5Lnk9toNi"
      },
      "execution_count": 506,
      "outputs": []
    },
    {
      "cell_type": "markdown",
      "source": [
        "**Note:** This query should take no more than a minute to run. If yours has been running for longer than a few minutes, then you're probably on the wrong track."
      ],
      "metadata": {
        "id": "ui1DHXOxLN7X"
      }
    },
    {
      "cell_type": "code",
      "source": [
        "underrated_movies_df = ps.sqldf(underrated_movies_query, locals())"
      ],
      "metadata": {
        "id": "6zkhy0-qVQBG"
      },
      "execution_count": 507,
      "outputs": []
    },
    {
      "cell_type": "code",
      "metadata": {
        "id": "l3P9WxuSU_Yc",
        "colab": {
          "base_uri": "https://localhost:8080/"
        },
        "outputId": "6ce23476-954b-46e0-a1eb-9c95d56c0af6"
      },
      "source": [
        "# 15 points\n",
        "grader.grade(test_case_id = 'test_underrated_movies', answer = (underrated_movies_query, underrated_movies_df))"
      ],
      "execution_count": 508,
      "outputs": [
        {
          "output_type": "stream",
          "name": "stdout",
          "text": [
            "Correct! You earned 15/15 points. You are a star!\n",
            "\n",
            "Your submission has been successfully recorded in the gradebook.\n"
          ]
        }
      ]
    },
    {
      "cell_type": "markdown",
      "metadata": {
        "id": "QbNUhlz9ftHI"
      },
      "source": [
        "## Part 3: Working with Text Data [16 points]\n",
        "\n",
        "Shifting gears, let's now try to do some text-based analysis. Text data is complex, but can also be used to generate extremely interpretable results, making it valuable and interesting. \n",
        "\n",
        "Throughout this section, we will attempt to answer the following question:\n",
        "\n",
        "**How do reviews by top critics differ from reviews made by non-top critics?**\n"
      ]
    },
    {
      "cell_type": "markdown",
      "metadata": {
        "id": "p9bd5kwIENXe"
      },
      "source": [
        "###3.1 Extract Data\n",
        "**TODO**: Using `reviews_df`, create two dataframes:\n",
        "* `top_critics_df`: where `top_critic` is True\n",
        "* `regular_critics_df`: where `top_critic` is False.\n",
        "\n",
        "Then, for each dataframe, convert the `review_content` column into two lists called `top_content` and `regular_content`, respectively."
      ]
    },
    {
      "cell_type": "code",
      "metadata": {
        "id": "flAxhXQUpFDo"
      },
      "source": [
        "top_critics_df = reviews_df[reviews_df['top_critic']==True]\n",
        "regular_critics_df = reviews_df[reviews_df['top_critic']==False] \n",
        "top_content = list(top_critics_df['review_content'])\n",
        "regular_content = list(regular_critics_df['review_content']) "
      ],
      "execution_count": 509,
      "outputs": []
    },
    {
      "cell_type": "code",
      "metadata": {
        "id": "AQhF6QxnFAx7",
        "colab": {
          "base_uri": "https://localhost:8080/"
        },
        "outputId": "bfaea04f-3f92-47d4-81e9-ad61025dc87a"
      },
      "source": [
        "# 1 point\n",
        "grader.grade(test_case_id = 'test_top_content_df', answer = len(top_content))"
      ],
      "execution_count": 510,
      "outputs": [
        {
          "output_type": "stream",
          "name": "stdout",
          "text": [
            "Correct! You earned 1/1 points. You are a star!\n",
            "\n",
            "Your submission has been successfully recorded in the gradebook.\n"
          ]
        }
      ]
    },
    {
      "cell_type": "code",
      "metadata": {
        "id": "Gj9v2Gq2FNfm",
        "colab": {
          "base_uri": "https://localhost:8080/"
        },
        "outputId": "34ae00db-8f05-49ea-94f6-3e15e5e5a209"
      },
      "source": [
        "# 1 point\n",
        "grader.grade(test_case_id = 'test_regular_content_df', answer = len(regular_content))"
      ],
      "execution_count": 511,
      "outputs": [
        {
          "output_type": "stream",
          "name": "stdout",
          "text": [
            "Correct! You earned 1/1 points. You are a star!\n",
            "\n",
            "Your submission has been successfully recorded in the gradebook.\n"
          ]
        }
      ]
    },
    {
      "cell_type": "markdown",
      "metadata": {
        "id": "RNwLCBeTOLy3"
      },
      "source": [
        "###3.2 Tokenize the Text\n",
        "\n",
        "Here, we are going to split up the content into a list of words. We will use the **nltk** package, which contains an extensive set of tools to process text. Of course, like regex, this homework would be miles long if we really went into detail, so we are only going to utilize the following components:\n",
        "- `nltk.word_tokenize()`: a function used to tokenize our text\n",
        "- `nltk.corpus.stopwords`: a list of commonly used words such as \"a\",\"an\",\"in\" that are often ignored in text-related analysis\n",
        "\n",
        "Note that prior to this step for text analysis, we would typically clean the text first using regex. We didn't have to do that because the dataset was already well-cleaned, bt keep that in mind.\n",
        "\n",
        "**TODO:** First, use **stopwords** to create a set of the most common english stopwords. Then, implement **tokenized_content(content)** that takes in a content string and:\n",
        "1. tokenizes the text\n",
        "2. lowercases the token\n",
        "3. removes stop words (commonly used words such as \"a\",\"an\", \"in\")\n",
        "4. keeps words with only alphabet characters (no punctuation)"
      ]
    },
    {
      "cell_type": "code",
      "metadata": {
        "id": "AnFn2xJY5YK_",
        "colab": {
          "base_uri": "https://localhost:8080/",
          "height": 35
        },
        "outputId": "872adc40-6e18-4c06-8935-969204aed380"
      },
      "source": [
        "import nltk\n",
        "nltk.__version__"
      ],
      "execution_count": 512,
      "outputs": [
        {
          "output_type": "execute_result",
          "data": {
            "text/plain": [
              "'3.7'"
            ],
            "application/vnd.google.colaboratory.intrinsic+json": {
              "type": "string"
            }
          },
          "metadata": {},
          "execution_count": 512
        }
      ]
    },
    {
      "cell_type": "code",
      "metadata": {
        "id": "mUDt0d68oCfu",
        "colab": {
          "base_uri": "https://localhost:8080/"
        },
        "outputId": "03284e1d-674f-45d2-961f-d29cc498953d"
      },
      "source": [
        "from nltk.corpus import stopwords\n",
        "nltk.download('stopwords')\n",
        "stopwords = set(stopwords.words('english'))\n",
        "# Note that stopwords are all in lowercase format"
      ],
      "execution_count": 513,
      "outputs": [
        {
          "output_type": "stream",
          "name": "stderr",
          "text": [
            "[nltk_data] Downloading package stopwords to /root/nltk_data...\n",
            "[nltk_data]   Package stopwords is already up-to-date!\n"
          ]
        }
      ]
    },
    {
      "cell_type": "code",
      "metadata": {
        "id": "3bLwPIx2nPy-"
      },
      "source": [
        "# TODO: Create tokenized_content(content) function\n",
        "def tokenized_content(content): \n",
        "  r = []\n",
        "  for t in content:\n",
        "    tokens = nltk.word_tokenize(t)\n",
        "    tokens = [token.lower() for token in tokens if (token.lower() not in stopwords) and (token.isalpha())]\n",
        "    r.extend(tokens)\n",
        "  return r"
      ],
      "execution_count": 514,
      "outputs": []
    },
    {
      "cell_type": "markdown",
      "metadata": {
        "id": "Es5zPleHSROw"
      },
      "source": [
        "Now, apply your `tokenize_content()` function to each piece of content in **top_content** and **regular_content** and flatten both of the lists to create **top_tokens** and **regular_tokens**\n"
      ]
    },
    {
      "cell_type": "code",
      "metadata": {
        "id": "3F5mW4qoq2n8"
      },
      "source": [
        "# TODO: tokenize and flatten\n",
        "top_tokens = tokenized_content(top_content)\n",
        "regular_tokens = tokenized_content(regular_content)"
      ],
      "execution_count": 515,
      "outputs": []
    },
    {
      "cell_type": "code",
      "metadata": {
        "id": "A7PcX0mtG40R",
        "colab": {
          "base_uri": "https://localhost:8080/"
        },
        "outputId": "60bc319e-31c0-4d75-ef33-90b54c9ee525"
      },
      "source": [
        "# 1 point\n",
        "grader.grade(test_case_id = 'test_top_tokens', answer = len(top_tokens))"
      ],
      "execution_count": 516,
      "outputs": [
        {
          "output_type": "stream",
          "name": "stdout",
          "text": [
            "Correct! You earned 1/1 points. You are a star!\n",
            "\n",
            "Your submission has been successfully recorded in the gradebook.\n"
          ]
        }
      ]
    },
    {
      "cell_type": "code",
      "metadata": {
        "id": "mVQN15_bG5Af",
        "colab": {
          "base_uri": "https://localhost:8080/"
        },
        "outputId": "944833a4-ceb4-43f6-9a0a-068640bc1c85"
      },
      "source": [
        "# 1 point\n",
        "grader.grade(test_case_id = 'test_regular_tokens', answer = len(regular_tokens))"
      ],
      "execution_count": 517,
      "outputs": [
        {
          "output_type": "stream",
          "name": "stdout",
          "text": [
            "Correct! You earned 1/1 points. You are a star!\n",
            "\n",
            "Your submission has been successfully recorded in the gradebook.\n"
          ]
        }
      ]
    },
    {
      "cell_type": "markdown",
      "metadata": {
        "id": "JT0sTQHvp5E6"
      },
      "source": [
        "### 3.3 Most Frequent Words\n",
        "**TODO**: Now, find the 20 most common words amongst the content of `top_tokens` and `regular_tokens`. Return this as a list of `(word, count)` tuples, in descending order of `count`.\n",
        "\n",
        "**Hint**: You can use `Counter` in this question: https://docs.python.org/2/library/collections.html#counter-objects"
      ]
    },
    {
      "cell_type": "code",
      "metadata": {
        "id": "SB-DiBperGEU"
      },
      "source": [
        "# TODO: Find 20 most common words amongst the content of the top and regular critic reviews\n",
        "#top_most_common = ...\n",
        "#regular_most_common = ...\n",
        "top_common = Counter(top_tokens).most_common()\n",
        "top_most_common = top_common[0:20]\n",
        "\n",
        "regular_common = Counter(regular_tokens).most_common()\n",
        "regular_most_common = regular_common[0:20]\n"
      ],
      "execution_count": 518,
      "outputs": []
    },
    {
      "cell_type": "code",
      "metadata": {
        "id": "4VPDgzbuIyKO",
        "colab": {
          "base_uri": "https://localhost:8080/"
        },
        "outputId": "737d5ff9-953c-4dc8-a00b-bfbf91e3df7f"
      },
      "source": [
        "# 2 points\n",
        "grader.grade(test_case_id = 'test_top_most_common', answer = top_most_common)"
      ],
      "execution_count": 519,
      "outputs": [
        {
          "output_type": "stream",
          "name": "stdout",
          "text": [
            "Correct! You earned 2/2 points. You are a star!\n",
            "\n",
            "Your submission has been successfully recorded in the gradebook.\n"
          ]
        }
      ]
    },
    {
      "cell_type": "code",
      "metadata": {
        "id": "PmPqBlD_I0Og",
        "colab": {
          "base_uri": "https://localhost:8080/"
        },
        "outputId": "51c7d3b9-674c-4c45-c82d-e183b83588b4"
      },
      "source": [
        "# 2 points\n",
        "grader.grade(test_case_id = 'test_regular_most_common', answer = regular_most_common)"
      ],
      "execution_count": 520,
      "outputs": [
        {
          "output_type": "stream",
          "name": "stdout",
          "text": [
            "Correct! You earned 2/2 points. You are a star!\n",
            "\n",
            "Your submission has been successfully recorded in the gradebook.\n"
          ]
        }
      ]
    },
    {
      "cell_type": "markdown",
      "metadata": {
        "id": "pvwIdmhNZmhY"
      },
      "source": [
        "###3.4 Refining our Lists\n",
        "\n",
        "Hmmm...both of these lists seem to display similar words. Let's try to tease out words that distinguish the high from the low scoring questions. \n",
        "\n",
        "One approach would be to find words in one list that are not in the other. This, however, may be too naive, as even if a word is extremely common in our high list, if it appears only once in our low list, it would get removed from consideration.\n",
        "\n",
        "Let's instead find the difference between the counts within our two lists. Thus, if a word is really common in one, but not the other, the count would only decrease slightly. Alternatively, if a word is common in both lists, it would effectively zero out. \n",
        "\n",
        "However, given that the number of regular tokens is about three times that of top tokens, we need to make sure both lists are of equal length before applying the difference method. \n",
        "\n",
        "**TODO:** Randomly sample 1 million (1000000) tokens from `top_tokens` and `regular_tokens`, and place them in lists `top_sample` and `regular_sample` respectively.\n",
        "-Then, using the difference method, create **distinct_top_counter** and **distinct_regular_counter** to find the top 20 counts of words within each group. Pass this into two lists, `distinct_top_most_common` and `distinct_regular_most_common` respectively. These should be lists of `(word, count)` tuples (`.most_common()` should help!)\n",
        "\n",
        "Be careful on which list you are subtracting!\n"
      ]
    },
    {
      "cell_type": "code",
      "metadata": {
        "id": "uyjdbIgmrQ--"
      },
      "source": [
        "# TODO: randomly sample 1 million tokens from top_tokens and regular_tokens\n",
        "top_sample = random.sample(top_tokens, 1000000)\n",
        "regular_sample = random.sample(regular_tokens, 1000000)\n"
      ],
      "execution_count": 521,
      "outputs": []
    },
    {
      "cell_type": "code",
      "metadata": {
        "id": "lxDn4bzPLd2L"
      },
      "source": [
        "# TODO: use difference to find the top 20 counts of words within each group\n",
        "distinct_top_counter = Counter(top_sample)-Counter(regular_sample)\n",
        "distinct_regular_counter = Counter(regular_sample)-Counter(top_sample)\n",
        "\n",
        "distinct_top_most_common =distinct_top_counter.most_common()[0:20]\n",
        "distinct_regular_most_common = distinct_regular_counter.most_common()[0:20]"
      ],
      "execution_count": 522,
      "outputs": []
    },
    {
      "cell_type": "code",
      "metadata": {
        "id": "279IYd6jL12_",
        "colab": {
          "base_uri": "https://localhost:8080/"
        },
        "outputId": "e63df1a5-d887-46b6-8dd9-fd7ed4f2b482"
      },
      "source": [
        "# 2 points\n",
        "grader.grade(test_case_id = 'test_distinct_top_most_common', answer = distinct_top_most_common)"
      ],
      "execution_count": 523,
      "outputs": [
        {
          "output_type": "stream",
          "name": "stdout",
          "text": [
            "Correct! You earned 2/2 points. You are a star!\n",
            "\n",
            "Your submission has been successfully recorded in the gradebook.\n"
          ]
        }
      ]
    },
    {
      "cell_type": "code",
      "metadata": {
        "id": "byiqTRGuL2E3",
        "colab": {
          "base_uri": "https://localhost:8080/"
        },
        "outputId": "7e725dc2-259e-4248-8eb8-eaec68a7639d"
      },
      "source": [
        "# 2 points\n",
        "grader.grade(test_case_id = 'test_distinct_regular_most_common', answer = distinct_regular_most_common)"
      ],
      "execution_count": 524,
      "outputs": [
        {
          "output_type": "stream",
          "name": "stdout",
          "text": [
            "Correct! You earned 2/2 points. You are a star!\n",
            "\n",
            "Your submission has been successfully recorded in the gradebook.\n"
          ]
        }
      ]
    },
    {
      "cell_type": "markdown",
      "metadata": {
        "id": "HEAi4a6OcjE4"
      },
      "source": [
        "### 3.5 Word Clouds\n",
        "\n",
        "Before we move on from this dataset, let's do one final step and visualize our results with wordclouds.\n",
        "\n",
        "**TODO**: Take a look at [this documentation](https://amueller.github.io/word_cloud/generated/wordcloud.WordCloud.html) and create two word clouds for our two groups of distinct tokens.\n",
        "\n",
        "Be sure to create these on the list of distinct tokens that you randomly sampled, and not just the top 20. We will be going through your notebooks and manually grading your world clouds (worth 4 points combined). \n"
      ]
    },
    {
      "cell_type": "code",
      "metadata": {
        "id": "1Yt7PRqUrb8Z",
        "colab": {
          "base_uri": "https://localhost:8080/",
          "height": 248
        },
        "outputId": "f0e80b00-540d-46d1-d611-3373f09cf2d8"
      },
      "source": [
        "# TODO: make a word cloud for top tokens\n",
        "#distinct_top_counter\n",
        "wc1 = WordCloud(background_color = 'white', width=1000, height = 860, margin =2).generate(' '.join(distinct_top_counter))\n",
        "plt.imshow(wc1)\n",
        "plt.axis('off')\n",
        "plt.show()"
      ],
      "execution_count": 525,
      "outputs": [
        {
          "output_type": "display_data",
          "data": {
            "text/plain": [
              "<Figure size 432x288 with 1 Axes>"
            ],
            "image/png": "[encoded data removed]"
          },
          "metadata": {
            "needs_background": "light"
          }
        }
      ]
    },
    {
      "cell_type": "code",
      "metadata": {
        "id": "OMfxDjbRreF1",
        "colab": {
          "base_uri": "https://localhost:8080/",
          "height": 248
        },
        "outputId": "049479e2-81f7-4c55-8284-c77e5190b234"
      },
      "source": [
        "# TODO: make a word cloud for regular tokens\n",
        "wc2 = WordCloud(background_color = 'white', width=1000, height = 860, margin =2).generate(' '.join(distinct_regular_counter))\n",
        "plt.imshow(wc1)\n",
        "plt.axis('off')\n",
        "plt.show()"
      ],
      "execution_count": 526,
      "outputs": [
        {
          "output_type": "display_data",
          "data": {
            "text/plain": [
              "<Figure size 432x288 with 1 Axes>"
            ],
            "image/png": "[encoded data removed]"
          },
          "metadata": {
            "needs_background": "light"
          }
        }
      ]
    },
    {
      "cell_type": "markdown",
      "source": [
        "# HW Submission\n",
        "\n",
        "<br>\n",
        "<center><img src = \"https://memegenerator.net/img/instances/73124265/good-job.jpg\" width= \"500\" align =\"center\"/></center>\n",
        "<br>\n",
        "\n",
        "Big congratulations for getting this far! The piece of good news is that similar to HW1, you basically know the score you have when you submit to Gradescope. However, this time, we will be manually grading your wordclouds, so the autograder score is not final! Remember also that since we'll be checking for plagiarism, make sure to cite your sources (if any) using simple urls / links.\n",
        "\n",
        "Before you submit on Gradescope (you must submit your notebook to receive credit):\n",
        "\n",
        "1.   Restart and Run-All to make sure there's nothing wrong with your notebook\n",
        "2.   **Double check that you have the correct PennID (all numbers) in the autograder**. \n",
        "3. Make sure you've run all the PennGrader cells (and gotten the score that you want and deserve)\n",
        "4. Go to the \"File\" tab at the top left, and click \"Download .ipynb\" + \"Download .py\" and upload both the Python file and ipnyb notebook to Gradescope directly, naming the files **\"homework2.ipynb\"** and **\"homework2.py\"** respectively!\n",
        "\n",
        "###Be sure to name your files correctly!!!\n",
        "\n",
        "**Let the course staff know ASAP if you have any issues submitting.**"
      ],
      "metadata": {
        "id": "1L2nBxkcOnma"
      }
    }
  ]
}