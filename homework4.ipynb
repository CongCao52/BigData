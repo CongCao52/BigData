{
  "cells": [
    {
      "cell_type": "markdown",
      "source": [
        "# CIS 5450 Homework 4: Machine Learning\n",
        "\n",
        "*Due Date: **7th November 2022 at 11:59PM EST**, 100 points total (= 87 autograded + 13 manually graded).*\n"
      ],
      "metadata": {
        "id": "ynuCWzxwQvfz"
      }
    },
    {
      "cell_type": "markdown",
      "metadata": {
        "id": "ETZ9CDIDLYHp"
      },
      "source": [
        "# Libraries and Setup Jargon\n",
        "Run the following cells to set up the notebook.\n",
        "\n",
        "When prompted for a selection, select the number that is associated with java 8 (this should be option 2)"
      ]
    },
    {
      "cell_type": "code",
      "metadata": {
        "id": "KLatjcDhLUIy",
        "outputId": "e800a0a2-3f62-4d75-a710-122551340263",
        "colab": {
          "base_uri": "https://localhost:8080/"
        }
      },
      "source": [
        "! sudo apt install openjdk-8-jdk\n",
        "! sudo update-alternatives --config java"
      ],
      "execution_count": 1,
      "outputs": [
        {
          "output_type": "stream",
          "name": "stdout",
          "text": [
            "Reading package lists... Done\n",
            "Building dependency tree       \n",
            "Reading state information... Done\n",
            "The following package was automatically installed and is no longer required:\n",
            "  libnvidia-common-460\n",
            "Use 'sudo apt autoremove' to remove it.\n",
            "The following additional packages will be installed:\n",
            "  fonts-dejavu-core fonts-dejavu-extra libatk-wrapper-java\n",
            "  libatk-wrapper-java-jni libgail-common libgail18 libgtk2.0-0 libgtk2.0-bin\n",
            "  libgtk2.0-common libxxf86dga1 openjdk-8-jdk-headless openjdk-8-jre\n",
            "  openjdk-8-jre-headless x11-utils\n",
            "Suggested packages:\n",
            "  gvfs openjdk-8-demo openjdk-8-source visualvm libnss-mdns\n",
            "  fonts-ipafont-gothic fonts-ipafont-mincho fonts-wqy-microhei\n",
            "  fonts-wqy-zenhei fonts-indic mesa-utils\n",
            "The following NEW packages will be installed:\n",
            "  fonts-dejavu-core fonts-dejavu-extra libatk-wrapper-java\n",
            "  libatk-wrapper-java-jni libgail-common libgail18 libgtk2.0-0 libgtk2.0-bin\n",
            "  libgtk2.0-common libxxf86dga1 openjdk-8-jdk openjdk-8-jdk-headless\n",
            "  openjdk-8-jre openjdk-8-jre-headless x11-utils\n",
            "0 upgraded, 15 newly installed, 0 to remove and 4 not upgraded.\n",
            "Need to get 46.0 MB of archives.\n",
            "After this operation, 166 MB of additional disk space will be used.\n",
            "Get:1 http://archive.ubuntu.com/ubuntu bionic/main amd64 libxxf86dga1 amd64 2:1.1.4-1 [13.7 kB]\n",
            "Get:2 http://archive.ubuntu.com/ubuntu bionic/main amd64 fonts-dejavu-core all 2.37-1 [1,041 kB]\n",
            "Get:3 http://archive.ubuntu.com/ubuntu bionic/main amd64 fonts-dejavu-extra all 2.37-1 [1,953 kB]\n",
            "Get:4 http://archive.ubuntu.com/ubuntu bionic/main amd64 x11-utils amd64 7.7+3build1 [196 kB]\n",
            "Get:5 http://archive.ubuntu.com/ubuntu bionic/main amd64 libatk-wrapper-java all 0.33.3-20ubuntu0.1 [34.7 kB]\n",
            "Get:6 http://archive.ubuntu.com/ubuntu bionic/main amd64 libatk-wrapper-java-jni amd64 0.33.3-20ubuntu0.1 [28.3 kB]\n",
            "Get:7 http://archive.ubuntu.com/ubuntu bionic/main amd64 libgtk2.0-common all 2.24.32-1ubuntu1 [125 kB]\n",
            "Get:8 http://archive.ubuntu.com/ubuntu bionic/main amd64 libgtk2.0-0 amd64 2.24.32-1ubuntu1 [1,769 kB]\n",
            "Get:9 http://archive.ubuntu.com/ubuntu bionic/main amd64 libgail18 amd64 2.24.32-1ubuntu1 [14.2 kB]\n",
            "Get:10 http://archive.ubuntu.com/ubuntu bionic/main amd64 libgail-common amd64 2.24.32-1ubuntu1 [112 kB]\n",
            "Get:11 http://archive.ubuntu.com/ubuntu bionic/main amd64 libgtk2.0-bin amd64 2.24.32-1ubuntu1 [7,536 B]\n",
            "Get:12 http://archive.ubuntu.com/ubuntu bionic-updates/universe amd64 openjdk-8-jre-headless amd64 8u342-b07-0ubuntu1~18.04 [28.3 MB]\n",
            "Get:13 http://archive.ubuntu.com/ubuntu bionic-updates/universe amd64 openjdk-8-jre amd64 8u342-b07-0ubuntu1~18.04 [69.6 kB]\n",
            "Get:14 http://archive.ubuntu.com/ubuntu bionic-updates/universe amd64 openjdk-8-jdk-headless amd64 8u342-b07-0ubuntu1~18.04 [8,300 kB]\n",
            "Get:15 http://archive.ubuntu.com/ubuntu bionic-updates/universe amd64 openjdk-8-jdk amd64 8u342-b07-0ubuntu1~18.04 [4,032 kB]\n",
            "Fetched 46.0 MB in 3s (15.0 MB/s)\n",
            "debconf: unable to initialize frontend: Dialog\n",
            "debconf: (No usable dialog-like program is installed, so the dialog based frontend cannot be used. at /usr/share/perl5/Debconf/FrontEnd/Dialog.pm line 76, <> line 15.)\n",
            "debconf: falling back to frontend: Readline\n",
            "debconf: unable to initialize frontend: Readline\n",
            "debconf: (This frontend requires a controlling tty.)\n",
            "debconf: falling back to frontend: Teletype\n",
            "dpkg-preconfigure: unable to re-open stdin: \n",
            "Selecting previously unselected package libxxf86dga1:amd64.\n",
            "(Reading database ... 123942 files and directories currently installed.)\n",
            "Preparing to unpack .../00-libxxf86dga1_2%3a1.1.4-1_amd64.deb ...\n",
            "Unpacking libxxf86dga1:amd64 (2:1.1.4-1) ...\n",
            "Selecting previously unselected package fonts-dejavu-core.\n",
            "Preparing to unpack .../01-fonts-dejavu-core_2.37-1_all.deb ...\n",
            "Unpacking fonts-dejavu-core (2.37-1) ...\n",
            "Selecting previously unselected package fonts-dejavu-extra.\n",
            "Preparing to unpack .../02-fonts-dejavu-extra_2.37-1_all.deb ...\n",
            "Unpacking fonts-dejavu-extra (2.37-1) ...\n",
            "Selecting previously unselected package x11-utils.\n",
            "Preparing to unpack .../03-x11-utils_7.7+3build1_amd64.deb ...\n",
            "Unpacking x11-utils (7.7+3build1) ...\n",
            "Selecting previously unselected package libatk-wrapper-java.\n",
            "Preparing to unpack .../04-libatk-wrapper-java_0.33.3-20ubuntu0.1_all.deb ...\n",
            "Unpacking libatk-wrapper-java (0.33.3-20ubuntu0.1) ...\n",
            "Selecting previously unselected package libatk-wrapper-java-jni:amd64.\n",
            "Preparing to unpack .../05-libatk-wrapper-java-jni_0.33.3-20ubuntu0.1_amd64.deb ...\n",
            "Unpacking libatk-wrapper-java-jni:amd64 (0.33.3-20ubuntu0.1) ...\n",
            "Selecting previously unselected package libgtk2.0-common.\n",
            "Preparing to unpack .../06-libgtk2.0-common_2.24.32-1ubuntu1_all.deb ...\n",
            "Unpacking libgtk2.0-common (2.24.32-1ubuntu1) ...\n",
            "Selecting previously unselected package libgtk2.0-0:amd64.\n",
            "Preparing to unpack .../07-libgtk2.0-0_2.24.32-1ubuntu1_amd64.deb ...\n",
            "Unpacking libgtk2.0-0:amd64 (2.24.32-1ubuntu1) ...\n",
            "Selecting previously unselected package libgail18:amd64.\n",
            "Preparing to unpack .../08-libgail18_2.24.32-1ubuntu1_amd64.deb ...\n",
            "Unpacking libgail18:amd64 (2.24.32-1ubuntu1) ...\n",
            "Selecting previously unselected package libgail-common:amd64.\n",
            "Preparing to unpack .../09-libgail-common_2.24.32-1ubuntu1_amd64.deb ...\n",
            "Unpacking libgail-common:amd64 (2.24.32-1ubuntu1) ...\n",
            "Selecting previously unselected package libgtk2.0-bin.\n",
            "Preparing to unpack .../10-libgtk2.0-bin_2.24.32-1ubuntu1_amd64.deb ...\n",
            "Unpacking libgtk2.0-bin (2.24.32-1ubuntu1) ...\n",
            "Selecting previously unselected package openjdk-8-jre-headless:amd64.\n",
            "Preparing to unpack .../11-openjdk-8-jre-headless_8u342-b07-0ubuntu1~18.04_amd64.deb ...\n",
            "Unpacking openjdk-8-jre-headless:amd64 (8u342-b07-0ubuntu1~18.04) ...\n",
            "Selecting previously unselected package openjdk-8-jre:amd64.\n",
            "Preparing to unpack .../12-openjdk-8-jre_8u342-b07-0ubuntu1~18.04_amd64.deb ...\n",
            "Unpacking openjdk-8-jre:amd64 (8u342-b07-0ubuntu1~18.04) ...\n",
            "Selecting previously unselected package openjdk-8-jdk-headless:amd64.\n",
            "Preparing to unpack .../13-openjdk-8-jdk-headless_8u342-b07-0ubuntu1~18.04_amd64.deb ...\n",
            "Unpacking openjdk-8-jdk-headless:amd64 (8u342-b07-0ubuntu1~18.04) ...\n",
            "Selecting previously unselected package openjdk-8-jdk:amd64.\n",
            "Preparing to unpack .../14-openjdk-8-jdk_8u342-b07-0ubuntu1~18.04_amd64.deb ...\n",
            "Unpacking openjdk-8-jdk:amd64 (8u342-b07-0ubuntu1~18.04) ...\n",
            "Setting up libgtk2.0-common (2.24.32-1ubuntu1) ...\n",
            "Setting up fonts-dejavu-core (2.37-1) ...\n",
            "Setting up libxxf86dga1:amd64 (2:1.1.4-1) ...\n",
            "Setting up fonts-dejavu-extra (2.37-1) ...\n",
            "Setting up openjdk-8-jre-headless:amd64 (8u342-b07-0ubuntu1~18.04) ...\n",
            "update-alternatives: using /usr/lib/jvm/java-8-openjdk-amd64/jre/bin/orbd to provide /usr/bin/orbd (orbd) in auto mode\n",
            "update-alternatives: using /usr/lib/jvm/java-8-openjdk-amd64/jre/bin/servertool to provide /usr/bin/servertool (servertool) in auto mode\n",
            "update-alternatives: using /usr/lib/jvm/java-8-openjdk-amd64/jre/bin/tnameserv to provide /usr/bin/tnameserv (tnameserv) in auto mode\n",
            "Setting up libgtk2.0-0:amd64 (2.24.32-1ubuntu1) ...\n",
            "Setting up libgail18:amd64 (2.24.32-1ubuntu1) ...\n",
            "Setting up openjdk-8-jdk-headless:amd64 (8u342-b07-0ubuntu1~18.04) ...\n",
            "update-alternatives: using /usr/lib/jvm/java-8-openjdk-amd64/bin/idlj to provide /usr/bin/idlj (idlj) in auto mode\n",
            "update-alternatives: using /usr/lib/jvm/java-8-openjdk-amd64/bin/wsimport to provide /usr/bin/wsimport (wsimport) in auto mode\n",
            "update-alternatives: using /usr/lib/jvm/java-8-openjdk-amd64/bin/jsadebugd to provide /usr/bin/jsadebugd (jsadebugd) in auto mode\n",
            "update-alternatives: using /usr/lib/jvm/java-8-openjdk-amd64/bin/native2ascii to provide /usr/bin/native2ascii (native2ascii) in auto mode\n",
            "update-alternatives: using /usr/lib/jvm/java-8-openjdk-amd64/bin/javah to provide /usr/bin/javah (javah) in auto mode\n",
            "update-alternatives: using /usr/lib/jvm/java-8-openjdk-amd64/bin/clhsdb to provide /usr/bin/clhsdb (clhsdb) in auto mode\n",
            "update-alternatives: using /usr/lib/jvm/java-8-openjdk-amd64/bin/xjc to provide /usr/bin/xjc (xjc) in auto mode\n",
            "update-alternatives: using /usr/lib/jvm/java-8-openjdk-amd64/bin/hsdb to provide /usr/bin/hsdb (hsdb) in auto mode\n",
            "update-alternatives: using /usr/lib/jvm/java-8-openjdk-amd64/bin/schemagen to provide /usr/bin/schemagen (schemagen) in auto mode\n",
            "update-alternatives: using /usr/lib/jvm/java-8-openjdk-amd64/bin/extcheck to provide /usr/bin/extcheck (extcheck) in auto mode\n",
            "update-alternatives: using /usr/lib/jvm/java-8-openjdk-amd64/bin/jhat to provide /usr/bin/jhat (jhat) in auto mode\n",
            "update-alternatives: using /usr/lib/jvm/java-8-openjdk-amd64/bin/wsgen to provide /usr/bin/wsgen (wsgen) in auto mode\n",
            "Setting up x11-utils (7.7+3build1) ...\n",
            "Setting up libgail-common:amd64 (2.24.32-1ubuntu1) ...\n",
            "Setting up libatk-wrapper-java (0.33.3-20ubuntu0.1) ...\n",
            "Setting up libgtk2.0-bin (2.24.32-1ubuntu1) ...\n",
            "Setting up libatk-wrapper-java-jni:amd64 (0.33.3-20ubuntu0.1) ...\n",
            "Setting up openjdk-8-jre:amd64 (8u342-b07-0ubuntu1~18.04) ...\n",
            "update-alternatives: using /usr/lib/jvm/java-8-openjdk-amd64/jre/bin/policytool to provide /usr/bin/policytool (policytool) in auto mode\n",
            "Setting up openjdk-8-jdk:amd64 (8u342-b07-0ubuntu1~18.04) ...\n",
            "update-alternatives: using /usr/lib/jvm/java-8-openjdk-amd64/bin/appletviewer to provide /usr/bin/appletviewer (appletviewer) in auto mode\n",
            "update-alternatives: using /usr/lib/jvm/java-8-openjdk-amd64/bin/jconsole to provide /usr/bin/jconsole (jconsole) in auto mode\n",
            "Processing triggers for man-db (2.8.3-2ubuntu0.1) ...\n",
            "Processing triggers for hicolor-icon-theme (0.17-2) ...\n",
            "Processing triggers for fontconfig (2.12.6-0ubuntu2) ...\n",
            "Processing triggers for mime-support (3.60ubuntu1) ...\n",
            "Processing triggers for libc-bin (2.27-3ubuntu1.6) ...\n",
            "There are 2 choices for the alternative java (providing /usr/bin/java).\n",
            "\n",
            "  Selection    Path                                            Priority   Status\n",
            "------------------------------------------------------------\n",
            "* 0            /usr/lib/jvm/java-11-openjdk-amd64/bin/java      1111      auto mode\n",
            "  1            /usr/lib/jvm/java-11-openjdk-amd64/bin/java      1111      manual mode\n",
            "  2            /usr/lib/jvm/java-8-openjdk-amd64/jre/bin/java   1081      manual mode\n",
            "\n",
            "Press <enter> to keep the current choice[*], or type selection number: 2\n",
            "update-alternatives: using /usr/lib/jvm/java-8-openjdk-amd64/jre/bin/java to provide /usr/bin/java (java) in manual mode\n"
          ]
        }
      ]
    },
    {
      "cell_type": "markdown",
      "metadata": {
        "id": "eEUIzvEuMdGQ"
      },
      "source": [
        "Please make sure you enter your **8 digit Penn ID** in the student ID field below."
      ]
    },
    {
      "cell_type": "code",
      "metadata": {
        "id": "adECTPlZLtVi"
      },
      "source": [
        "%%capture\n",
        "!pip install penngrader\n",
        "from penngrader.grader import *\n",
        "\n",
        "#PLEASE ENSURE YOUR PENN-ID IS ENTERED CORRECTLY. IF NOT, THE AUTOGRADER WON'T KNOW WHO \n",
        "#TO ASSIGN POINTS TO YOU IN OUR BACKEND\n",
        "STUDENT_ID = 10760059 # YOUR PENN-ID GOES HERE AS AN INTEGER\n",
        "\n",
        "grader = PennGrader(homework_id = 'CIS_5450O_Fall22_HW4', student_id = STUDENT_ID)"
      ],
      "execution_count": 2,
      "outputs": []
    },
    {
      "cell_type": "code",
      "source": [
        "# Versioning again\n",
        "!pip install pandas==1.1.5"
      ],
      "metadata": {
        "id": "miNed7QP9op_",
        "outputId": "270dd3d4-245b-436f-9f2e-a99766ae895d",
        "colab": {
          "base_uri": "https://localhost:8080/"
        }
      },
      "execution_count": 3,
      "outputs": [
        {
          "output_type": "stream",
          "name": "stdout",
          "text": [
            "Looking in indexes: https://pypi.org/simple, https://us-python.pkg.dev/colab-wheels/public/simple/\n",
            "Collecting pandas==1.1.5\n",
            "  Downloading pandas-1.1.5-cp37-cp37m-manylinux1_x86_64.whl (9.5 MB)\n",
            "\u001b[K     |████████████████████████████████| 9.5 MB 4.8 MB/s \n",
            "\u001b[?25hRequirement already satisfied: numpy>=1.15.4 in /usr/local/lib/python3.7/dist-packages (from pandas==1.1.5) (1.21.6)\n",
            "Requirement already satisfied: pytz>=2017.2 in /usr/local/lib/python3.7/dist-packages (from pandas==1.1.5) (2022.5)\n",
            "Requirement already satisfied: python-dateutil>=2.7.3 in /usr/local/lib/python3.7/dist-packages (from pandas==1.1.5) (2.8.2)\n",
            "Requirement already satisfied: six>=1.5 in /usr/local/lib/python3.7/dist-packages (from python-dateutil>=2.7.3->pandas==1.1.5) (1.15.0)\n",
            "Installing collected packages: pandas\n",
            "  Attempting uninstall: pandas\n",
            "    Found existing installation: pandas 1.3.5\n",
            "    Uninstalling pandas-1.3.5:\n",
            "      Successfully uninstalled pandas-1.3.5\n",
            "Successfully installed pandas-1.1.5\n"
          ]
        }
      ]
    },
    {
      "cell_type": "code",
      "metadata": {
        "id": "TBTaESEdMmiU"
      },
      "source": [
        "# Sklearn and Pandas Setup\n",
        "import json\n",
        "import glob\n",
        "import pandas as pd\n",
        "import numpy as np\n",
        "import datetime as dt\n",
        "import re\n",
        "import os\n",
        "import matplotlib.pyplot as plt\n",
        "import seaborn as sns\n",
        "from matplotlib import cm\n",
        "from google.colab import drive"
      ],
      "execution_count": 4,
      "outputs": []
    },
    {
      "cell_type": "code",
      "metadata": {
        "id": "tA6oTIZtRjf7",
        "outputId": "4c73508b-a527-4b9a-8d63-c7954f9a1678",
        "colab": {
          "base_uri": "https://localhost:8080/"
        }
      },
      "source": [
        "!apt update\n",
        "!apt install gcc python-dev libkrb5-dev"
      ],
      "execution_count": 5,
      "outputs": [
        {
          "output_type": "stream",
          "name": "stdout",
          "text": [
            "\u001b[33m\r0% [Working]\u001b[0m\r            \rHit:1 http://archive.ubuntu.com/ubuntu bionic InRelease\n",
            "\u001b[33m\r0% [Waiting for headers] [Connecting to security.ubuntu.com (185.125.190.39)] [\u001b[0m\r                                                                               \rGet:2 http://archive.ubuntu.com/ubuntu bionic-updates InRelease [88.7 kB]\n",
            "Get:3 https://cloud.r-project.org/bin/linux/ubuntu bionic-cran40/ InRelease [3,626 B]\n",
            "Get:4 http://security.ubuntu.com/ubuntu bionic-security InRelease [88.7 kB]\n",
            "Ign:5 https://developer.download.nvidia.com/compute/machine-learning/repos/ubuntu1804/x86_64  InRelease\n",
            "Get:6 https://developer.download.nvidia.com/compute/cuda/repos/ubuntu1804/x86_64  InRelease [1,581 B]\n",
            "Get:7 http://archive.ubuntu.com/ubuntu bionic-backports InRelease [83.3 kB]\n",
            "Hit:8 https://developer.download.nvidia.com/compute/machine-learning/repos/ubuntu1804/x86_64  Release\n",
            "Get:9 http://ppa.launchpad.net/c2d4u.team/c2d4u4.0+/ubuntu bionic InRelease [15.9 kB]\n",
            "Hit:10 http://ppa.launchpad.net/cran/libgit2/ubuntu bionic InRelease\n",
            "Get:11 http://ppa.launchpad.net/deadsnakes/ppa/ubuntu bionic InRelease [15.9 kB]\n",
            "Hit:12 http://ppa.launchpad.net/graphics-drivers/ppa/ubuntu bionic InRelease\n",
            "Get:13 https://cloud.r-project.org/bin/linux/ubuntu bionic-cran40/ Packages [98.9 kB]\n",
            "Get:14 http://archive.ubuntu.com/ubuntu bionic-updates/restricted amd64 Packages [1,267 kB]\n",
            "Get:15 http://archive.ubuntu.com/ubuntu bionic-updates/universe amd64 Packages [2,332 kB]\n",
            "Get:16 http://archive.ubuntu.com/ubuntu bionic-updates/main amd64 Packages [3,472 kB]\n",
            "Get:17 https://developer.download.nvidia.com/compute/cuda/repos/ubuntu1804/x86_64  Packages [992 kB]\n",
            "Get:19 http://ppa.launchpad.net/c2d4u.team/c2d4u4.0+/ubuntu bionic/main Sources [2,216 kB]\n",
            "Get:20 http://security.ubuntu.com/ubuntu bionic-security/main amd64 Packages [3,040 kB]\n",
            "Get:21 http://ppa.launchpad.net/c2d4u.team/c2d4u4.0+/ubuntu bionic/main amd64 Packages [1,133 kB]\n",
            "Get:22 http://security.ubuntu.com/ubuntu bionic-security/restricted amd64 Packages [1,226 kB]\n",
            "Get:23 http://security.ubuntu.com/ubuntu bionic-security/universe amd64 Packages [1,554 kB]\n",
            "Fetched 17.6 MB in 7s (2,408 kB/s)\n",
            "Reading package lists... Done\n",
            "Building dependency tree       \n",
            "Reading state information... Done\n",
            "30 packages can be upgraded. Run 'apt list --upgradable' to see them.\n",
            "Reading package lists... Done\n",
            "Building dependency tree       \n",
            "Reading state information... Done\n",
            "python-dev is already the newest version (2.7.15~rc1-1).\n",
            "gcc is already the newest version (4:7.4.0-1ubuntu2.3).\n",
            "gcc set to manually installed.\n",
            "The following package was automatically installed and is no longer required:\n",
            "  libnvidia-common-460\n",
            "Use 'apt autoremove' to remove it.\n",
            "The following additional packages will be installed:\n",
            "  comerr-dev krb5-multidev libgssrpc4 libkadm5clnt-mit11 libkadm5srv-mit11\n",
            "  libkdb5-9\n",
            "Suggested packages:\n",
            "  doc-base krb5-doc krb5-user\n",
            "The following NEW packages will be installed:\n",
            "  comerr-dev krb5-multidev libgssrpc4 libkadm5clnt-mit11 libkadm5srv-mit11\n",
            "  libkdb5-9 libkrb5-dev\n",
            "0 upgraded, 7 newly installed, 0 to remove and 30 not upgraded.\n",
            "Need to get 349 kB of archives.\n",
            "After this operation, 1,992 kB of additional disk space will be used.\n",
            "Get:1 http://archive.ubuntu.com/ubuntu bionic-updates/main amd64 libgssrpc4 amd64 1.16-2ubuntu0.2 [54.4 kB]\n",
            "Get:2 http://archive.ubuntu.com/ubuntu bionic-updates/main amd64 libkdb5-9 amd64 1.16-2ubuntu0.2 [37.3 kB]\n",
            "Get:3 http://archive.ubuntu.com/ubuntu bionic-updates/main amd64 libkadm5srv-mit11 amd64 1.16-2ubuntu0.2 [49.7 kB]\n",
            "Get:4 http://archive.ubuntu.com/ubuntu bionic-updates/main amd64 libkadm5clnt-mit11 amd64 1.16-2ubuntu0.2 [38.0 kB]\n",
            "Get:5 http://archive.ubuntu.com/ubuntu bionic-updates/main amd64 comerr-dev amd64 2.1-1.44.1-1ubuntu1.4 [38.5 kB]\n",
            "Get:6 http://archive.ubuntu.com/ubuntu bionic-updates/main amd64 krb5-multidev amd64 1.16-2ubuntu0.2 [120 kB]\n",
            "Get:7 http://archive.ubuntu.com/ubuntu bionic-updates/main amd64 libkrb5-dev amd64 1.16-2ubuntu0.2 [11.7 kB]\n",
            "Fetched 349 kB in 0s (1,429 kB/s)\n",
            "Selecting previously unselected package libgssrpc4:amd64.\n",
            "(Reading database ... 124521 files and directories currently installed.)\n",
            "Preparing to unpack .../0-libgssrpc4_1.16-2ubuntu0.2_amd64.deb ...\n",
            "Unpacking libgssrpc4:amd64 (1.16-2ubuntu0.2) ...\n",
            "Selecting previously unselected package libkdb5-9:amd64.\n",
            "Preparing to unpack .../1-libkdb5-9_1.16-2ubuntu0.2_amd64.deb ...\n",
            "Unpacking libkdb5-9:amd64 (1.16-2ubuntu0.2) ...\n",
            "Selecting previously unselected package libkadm5srv-mit11:amd64.\n",
            "Preparing to unpack .../2-libkadm5srv-mit11_1.16-2ubuntu0.2_amd64.deb ...\n",
            "Unpacking libkadm5srv-mit11:amd64 (1.16-2ubuntu0.2) ...\n",
            "Selecting previously unselected package libkadm5clnt-mit11:amd64.\n",
            "Preparing to unpack .../3-libkadm5clnt-mit11_1.16-2ubuntu0.2_amd64.deb ...\n",
            "Unpacking libkadm5clnt-mit11:amd64 (1.16-2ubuntu0.2) ...\n",
            "Selecting previously unselected package comerr-dev:amd64.\n",
            "Preparing to unpack .../4-comerr-dev_2.1-1.44.1-1ubuntu1.4_amd64.deb ...\n",
            "Unpacking comerr-dev:amd64 (2.1-1.44.1-1ubuntu1.4) ...\n",
            "Selecting previously unselected package krb5-multidev:amd64.\n",
            "Preparing to unpack .../5-krb5-multidev_1.16-2ubuntu0.2_amd64.deb ...\n",
            "Unpacking krb5-multidev:amd64 (1.16-2ubuntu0.2) ...\n",
            "Selecting previously unselected package libkrb5-dev:amd64.\n",
            "Preparing to unpack .../6-libkrb5-dev_1.16-2ubuntu0.2_amd64.deb ...\n",
            "Unpacking libkrb5-dev:amd64 (1.16-2ubuntu0.2) ...\n",
            "Setting up libgssrpc4:amd64 (1.16-2ubuntu0.2) ...\n",
            "Setting up comerr-dev:amd64 (2.1-1.44.1-1ubuntu1.4) ...\n",
            "Setting up libkdb5-9:amd64 (1.16-2ubuntu0.2) ...\n",
            "Setting up libkadm5srv-mit11:amd64 (1.16-2ubuntu0.2) ...\n",
            "Setting up libkadm5clnt-mit11:amd64 (1.16-2ubuntu0.2) ...\n",
            "Setting up krb5-multidev:amd64 (1.16-2ubuntu0.2) ...\n",
            "Setting up libkrb5-dev:amd64 (1.16-2ubuntu0.2) ...\n",
            "Processing triggers for man-db (2.8.3-2ubuntu0.1) ...\n",
            "Processing triggers for libc-bin (2.27-3ubuntu1.6) ...\n"
          ]
        }
      ]
    },
    {
      "cell_type": "markdown",
      "source": [
        "# **Part I:** Preprocessing and Modeling in `scikit-learn` (65 points)"
      ],
      "metadata": {
        "id": "dfjGBhj2nqdx"
      }
    },
    {
      "cell_type": "markdown",
      "metadata": {
        "id": "8NK8KtAccKOr"
      },
      "source": [
        "## **1.1** Data Loading and Preprocessing\n"
      ]
    },
    {
      "cell_type": "markdown",
      "metadata": {
        "id": "1Sw7LCAacKOu"
      },
      "source": [
        "### **1.1.1** Read\n",
        "\n",
        "We are using one CSV for this homework, `rideshare_kaggle.csv` from [this Kaggle](https://www.kaggle.com/brllrb/uber-and-lyft-dataset-boston-ma) dataset. The price corresponds to the prices of each ride. Go to the Kaggle link and create an account, go to Account, click on Create New API Token to get the API key in the form of a json file ```kaggle.json```! This can be helpful for your project if you decide to use Kaggle. \n",
        "\n",
        "Load `rideshare_kaggle.csv` as `rides_df`."
      ]
    },
    {
      "cell_type": "code",
      "source": [
        "!pip install kaggle"
      ],
      "metadata": {
        "id": "29JnUuqzfu5R",
        "outputId": "1ed466e9-93f8-48ec-cfdd-7db40a43b075",
        "colab": {
          "base_uri": "https://localhost:8080/"
        }
      },
      "execution_count": 6,
      "outputs": [
        {
          "output_type": "stream",
          "name": "stdout",
          "text": [
            "Looking in indexes: https://pypi.org/simple, https://us-python.pkg.dev/colab-wheels/public/simple/\n",
            "Requirement already satisfied: kaggle in /usr/local/lib/python3.7/dist-packages (1.5.12)\n",
            "Requirement already satisfied: python-slugify in /usr/local/lib/python3.7/dist-packages (from kaggle) (6.1.2)\n",
            "Requirement already satisfied: tqdm in /usr/local/lib/python3.7/dist-packages (from kaggle) (4.64.1)\n",
            "Requirement already satisfied: requests in /usr/local/lib/python3.7/dist-packages (from kaggle) (2.23.0)\n",
            "Requirement already satisfied: six>=1.10 in /usr/local/lib/python3.7/dist-packages (from kaggle) (1.15.0)\n",
            "Requirement already satisfied: certifi in /usr/local/lib/python3.7/dist-packages (from kaggle) (2022.9.24)\n",
            "Requirement already satisfied: urllib3 in /usr/local/lib/python3.7/dist-packages (from kaggle) (1.24.3)\n",
            "Requirement already satisfied: python-dateutil in /usr/local/lib/python3.7/dist-packages (from kaggle) (2.8.2)\n",
            "Requirement already satisfied: text-unidecode>=1.3 in /usr/local/lib/python3.7/dist-packages (from python-slugify->kaggle) (1.3)\n",
            "Requirement already satisfied: idna<3,>=2.5 in /usr/local/lib/python3.7/dist-packages (from requests->kaggle) (2.10)\n",
            "Requirement already satisfied: chardet<4,>=3.0.2 in /usr/local/lib/python3.7/dist-packages (from requests->kaggle) (3.0.4)\n"
          ]
        }
      ]
    },
    {
      "cell_type": "markdown",
      "source": [
        "Click on the folder button on the left panel, then upload the ```kaggle.json``` file to content! Use the ![image.png](data:image/png;base64,iVBORw0KGgoAAAANSUhEUgAAACIAAAAcCAYAAAAEN20fAAAAAXNSR0IArs4c6QAAAARnQU1BAACxjwv8YQUAAAAJcEhZcwAADsMAAA7DAcdvqGQAAAFESURBVEhL7ZZBjkRAFIbfzNqePXtbN7B0Aw5gR+IQEu5A4gCWDuAA9uwdgPVM/kpVwqRnVFdV90wm/SXyeBa+lP8Vb0EQfNAf4J3XX+cl8hWpjCRJQnEc86vbbNtGeZ7TPM+8cx+XIpZlUd/3tO/7tw9xHIds29aSuRTxfZ/quqZpmijLMt49c1wxVRnjGcEKVlVFnufxjhwPCauKzMOmRsggPzIYEVnXlWXoeCDckEGIZTAiMgwDC/LxeHpYZZf+Ci2RMAyp6zpWdVEWwcOLomDnqLoySiJHCYGuzN0imIQ0Tdn5siynij7uq3C3CLZwMRnjOLIealmWrIf7Kii9Gowm9oojGGGVj51AOaym0RIRGxmqLpe/AdiwsFfg3YtQyuC6LgtuFEVSuTH2h3aLtm2paRp+9TNSIs/gf4TVJC+RM0SfnIKZRHxHcTIAAAAASUVORK5CYII=) button on the left panel.\n",
        "\n",
        "Once done, simply run the following commands!"
      ],
      "metadata": {
        "id": "MhBHR4XNjxes"
      }
    },
    {
      "cell_type": "code",
      "source": [
        "# Create the kaggle directory and read the uploaded kaggle.json file\n",
        "!mkdir ~/.kaggle\n",
        "!cp kaggle.json ~/.kaggle/"
      ],
      "metadata": {
        "id": "lQUgnXKvg95m"
      },
      "execution_count": 7,
      "outputs": []
    },
    {
      "cell_type": "code",
      "source": [
        "# Download dataset\n",
        "!kaggle datasets download -d brllrb/uber-and-lyft-dataset-boston-ma"
      ],
      "metadata": {
        "id": "njhDTXTEf-TJ",
        "outputId": "c42f1d35-51ab-44b7-cfea-a04b5c4229d5",
        "colab": {
          "base_uri": "https://localhost:8080/"
        }
      },
      "execution_count": 8,
      "outputs": [
        {
          "output_type": "stream",
          "name": "stdout",
          "text": [
            "Warning: Your Kaggle API key is readable by other users on this system! To fix this, you can run 'chmod 600 /root/.kaggle/kaggle.json'\n",
            "Downloading uber-and-lyft-dataset-boston-ma.zip to /content\n",
            " 79% 35.0M/44.5M [00:00<00:00, 134MB/s] \n",
            "100% 44.5M/44.5M [00:00<00:00, 130MB/s]\n"
          ]
        }
      ]
    },
    {
      "cell_type": "code",
      "source": [
        "# Unzip folder in Colab content folder\n",
        "!unzip /content/uber-and-lyft-dataset-boston-ma.zip"
      ],
      "metadata": {
        "id": "MxrxHX05hcNs",
        "outputId": "d4c6469b-879d-4f65-eff5-bdfe7ba7b765",
        "colab": {
          "base_uri": "https://localhost:8080/"
        }
      },
      "execution_count": 9,
      "outputs": [
        {
          "output_type": "stream",
          "name": "stdout",
          "text": [
            "Archive:  /content/uber-and-lyft-dataset-boston-ma.zip\n",
            "  inflating: rideshare_kaggle.csv    \n"
          ]
        }
      ]
    },
    {
      "cell_type": "code",
      "execution_count": 10,
      "metadata": {
        "id": "PB4RPNywcKOv"
      },
      "outputs": [],
      "source": [
        "# TO-DO: Read the csv file and save it to a dataframe called \"rides_df\"\n",
        "rides_df =pd.read_csv(\"rideshare_kaggle.csv\") "
      ]
    },
    {
      "cell_type": "code",
      "source": [],
      "metadata": {
        "id": "EZ6iWzbNifjM"
      },
      "execution_count": null,
      "outputs": []
    },
    {
      "cell_type": "markdown",
      "metadata": {
        "id": "P6uMmFxacKOv"
      },
      "source": [
        "### **1.1.2** Check Nulls\n",
        "\n",
        "Remove all the rows that have NaN in price. Store this into `rides_df`."
      ]
    },
    {
      "cell_type": "code",
      "execution_count": 11,
      "metadata": {
        "id": "NEirwemqcKOw"
      },
      "outputs": [],
      "source": [
        "# TO-DO: Remove NaN in the price column\n",
        "rides_df= rides_df.dropna(subset = ['price'])"
      ]
    },
    {
      "cell_type": "code",
      "source": [
        "# 2 points\n",
        "grader.grade(test_case_id = 'check_remove_nans', answer = rides_df.shape)"
      ],
      "metadata": {
        "id": "cqk_Gns0RXND",
        "colab": {
          "base_uri": "https://localhost:8080/"
        },
        "outputId": "b474382e-0bd8-4113-c1b2-17990133d74c"
      },
      "execution_count": 12,
      "outputs": [
        {
          "output_type": "stream",
          "name": "stdout",
          "text": [
            "Correct! You earned 2/2 points. You are a star!\n",
            "\n",
            "Your submission has been successfully recorded in the gradebook.\n"
          ]
        }
      ]
    },
    {
      "cell_type": "markdown",
      "metadata": {
        "id": "pysFrZsLcKOx"
      },
      "source": [
        "## **1.2** EDA\n",
        "\n",
        "Exploratory Data Analysis (EDA) is an approach to analyzing data sets to summarize their main characteristics, often with visual methods. A statistical model can be used or not, but primarily EDA is for seeing what the data can tell us beyond the formal modeling or hypothesis testing task.\n"
      ]
    },
    {
      "cell_type": "markdown",
      "source": [
        "### 1.2.0 Tidying Up\n",
        "\n",
        "Upon inspection, we can see that the `product_id` column isn't going to be useful since `name` already contains the information that we need. Likewise, we won't need to use `timestamp` since `datetime` gives us more interpretable information."
      ],
      "metadata": {
        "id": "udDV2IEs_HkX"
      }
    },
    {
      "cell_type": "code",
      "source": [
        "# TO-DO: Drop the \"product_id\" and \"timestamp\" columns, but keep everything else for now\n",
        "rides_df = rides_df.drop(columns=[\"product_id\", \"timestamp\"])"
      ],
      "metadata": {
        "id": "CWRe5oyyeueR"
      },
      "execution_count": 13,
      "outputs": []
    },
    {
      "cell_type": "markdown",
      "source": [
        "The `name` column isn't a very self-explanatory column title though, so let's rename it `fare_type`."
      ],
      "metadata": {
        "id": "7aABEKRa-1py"
      }
    },
    {
      "cell_type": "code",
      "source": [
        "# TO-DO: Rename the \"name\" column so that the new name is \"fare_type\"\n",
        "rides_df.rename(columns = {'name':'fare_type'}, inplace = True)"
      ],
      "metadata": {
        "id": "-VellYsmz1uJ"
      },
      "execution_count": 14,
      "outputs": []
    },
    {
      "cell_type": "code",
      "source": [],
      "metadata": {
        "id": "rasMI654mo7s"
      },
      "execution_count": null,
      "outputs": []
    },
    {
      "cell_type": "markdown",
      "source": [
        "As you might suspect, there is not necessarily a single recipe for conducting EDA that works for all datasets. We are guiding you through a few standard EDA tasks, but in order to build a good model, you will need to do some more EDA on your own.\n"
      ],
      "metadata": {
        "id": "SrzD6cT4ug06"
      }
    },
    {
      "cell_type": "markdown",
      "source": [
        "### 1.2.1 Distribution of Fare Types by Carrier\n",
        "\n",
        "Create a Pandas series that shows the number of rides (i.e. number of rows) for each fare type for Uber rides. Call this series `uber_type_counts`, which has been sorted in **descending order** (highest to lowest counts)\n",
        "\n",
        "Repeat this exercise to get the number of rides for each fare_type for Lyft rides and call it `lyft_type_counts`.\n",
        "\n",
        "**Hint**: \n",
        "- There should be a column that tells you whether a ride was facilitated by Uber or Lyft. You should not need to do any string manipulation on the `fare_type` column)\n",
        "- See the `value_counts()` function"
      ],
      "metadata": {
        "id": "PZSihyFkDR_C"
      }
    },
    {
      "cell_type": "code",
      "execution_count": 15,
      "metadata": {
        "id": "DY_8G5akcKOz"
      },
      "outputs": [],
      "source": [
        "# TO-DO: Create uber_type_counts\n",
        "#rides_df[rides_df['cab_type'== 'Uber']]['fare_type'].value_counts()\n",
        "\n",
        "uber_type_counts = rides_df[rides_df['cab_type'] == 'Uber']['fare_type'].value_counts()"
      ]
    },
    {
      "cell_type": "code",
      "source": [
        "# TO-DO: Create lyft_type_counts\n",
        "lyft_type_counts = rides_df[rides_df['cab_type'] == 'Lyft']['fare_type'].value_counts()"
      ],
      "metadata": {
        "id": "HL3fcg66C66x"
      },
      "execution_count": 16,
      "outputs": []
    },
    {
      "cell_type": "code",
      "source": [
        "# 5 points\n",
        "grader.grade(test_case_id = 'carrier_type_counts', answer = (uber_type_counts, lyft_type_counts))"
      ],
      "metadata": {
        "id": "iiIAzVCDEVX9",
        "colab": {
          "base_uri": "https://localhost:8080/"
        },
        "outputId": "f2e588f1-ae39-40da-c563-8b876e58649f"
      },
      "execution_count": 17,
      "outputs": [
        {
          "output_type": "stream",
          "name": "stdout",
          "text": [
            "Correct! You earned 5/5 points. You are a star!\n",
            "\n",
            "Your submission has been successfully recorded in the gradebook.\n"
          ]
        }
      ]
    },
    {
      "cell_type": "markdown",
      "source": [
        "Now let's visualize this! This is going to be a bit more involved than the plots you've made in HW #1 since we want to help you develop your attention to detail. Most importantly, you always want your plots to be clear and interpretable to your reader.\n",
        "\n",
        "**TO-DO:** Plot a bar chart showing the frequency distribution of all fare types for both Uber and Lyft rides on a _single_ set of axes. Make sure that:\n",
        "- The graph has an appropriate title and axes labels\n",
        "- The $y$-axis has been truncated to show a range between 50,000 to 56,000\n",
        "- Bars are color coded by `cab_type` (carrier):\n",
        "  - All Uber fare type bars are colored _**black**_\n",
        "  - All Lyft fare type bars are colored _**magenta**_.\n",
        "  - You must include the corresponding legend/color key for each platform/carrier (`cab_type`)\n",
        "- Your graph is clearly legible _(e.g. there should not be overlapping text)_\n",
        "\n",
        "**REMINDER:** Do NOT save the plot as a separate image file! You must ensure that the plot is displayed in your Colab notebook before submission. If you do not hit \"Restart and Run All\" to ensure this before your final submission, we _**will deduct -3 points from your final score.**_"
      ],
      "metadata": {
        "id": "AR0QLW81SCAi"
      }
    },
    {
      "cell_type": "code",
      "source": [
        "# TO-DO: Plot the chart using seaborn's countplot function. \n",
        "#        Please make sure to address all bullet points noted above!\n",
        "#        This will be manually graded and worth 5 points.\n",
        "\n",
        "sns.countplot(x = 'fare_type',hue = 'cab_type',data = rides_df[['cab_type', 'fare_type']], palette=[\"#FF00FF\",'#000000'])\n",
        "plt.ylim(50000, 56000)\n",
        "plt.xticks(rotation=90)"
      ],
      "metadata": {
        "id": "AYcRRDxLCUUZ",
        "colab": {
          "base_uri": "https://localhost:8080/",
          "height": 375
        },
        "outputId": "bc984f3a-f8d5-45ca-a956-2bb31df69bf6"
      },
      "execution_count": 18,
      "outputs": [
        {
          "output_type": "execute_result",
          "data": {
            "text/plain": [
              "(array([ 0,  1,  2,  3,  4,  5,  6,  7,  8,  9, 10, 11]),\n",
              " <a list of 12 Text major ticklabel objects>)"
            ]
          },
          "metadata": {},
          "execution_count": 18
        },
        {
          "output_type": "display_data",
          "data": {
            "text/plain": [
              "<Figure size 432x288 with 1 Axes>"
            ],
            "image/png": "[encoded data removed]"
          },
          "metadata": {
            "needs_background": "light"
          }
        }
      ]
    },
    {
      "cell_type": "code",
      "source": [],
      "metadata": {
        "id": "f8rZ7nVy6xvv"
      },
      "execution_count": null,
      "outputs": []
    },
    {
      "cell_type": "markdown",
      "metadata": {
        "id": "UkyfCIICcKO0"
      },
      "source": [
        "### **1.2.2** Use the `datetime` column to extract the calendar date, minutes, and seconds\n",
        "\n",
        "Notice that while this dataset has already extracted the day of the month, the month, and hour of the day from the `'datetime'` column as separate features already, this may not be entirely useful to us. We may prefer to keep this as an actual date, but more importantly, the time components are of interest to us since we don't actually have the minutes and seconds from the timestamp yet."
      ]
    },
    {
      "cell_type": "markdown",
      "source": [
        "_**Converting to `datetime` Object**_\n",
        "\n",
        "First, use the `strptime` function from the `datetime` package to convert the \"datetime\" string into a datettime object."
      ],
      "metadata": {
        "id": "sinwM5ybYIJs"
      }
    },
    {
      "cell_type": "code",
      "execution_count": 19,
      "metadata": {
        "id": "gSpDnQZGcKO1"
      },
      "outputs": [],
      "source": [
        "# TO-DO: Convert this into a datetime object \n",
        "from datetime import datetime\n",
        "\n",
        "rides_df['datetime'] = rides_df['datetime'].apply(lambda val: datetime.strptime(val, \"%Y-%m-%d %H:%M:%S\"))\n"
      ]
    },
    {
      "cell_type": "markdown",
      "source": [
        "_**Extracting Time Components**_\n",
        "\n",
        "Now extract the date (`YYYY-mm-dd` format), minutes, and seconds from it to be stored in columns called \"date\", \"min\" and \"sec\" respectively in the `rides_df` dataframe. Make sure to double-check that the dtypes of these columns are what you would expect!\n",
        "\n",
        "_(Note: the `hour` column already exists in the original dataframe so we don't need to extract it)_"
      ],
      "metadata": {
        "id": "Lwy6TwskRUpu"
      }
    },
    {
      "cell_type": "code",
      "execution_count": 20,
      "metadata": {
        "id": "4VSNeUCdcKO2"
      },
      "outputs": [],
      "source": [
        "# TO-DO: Extract the calendar date (YYYY-mm-dd format), the minutes, and seconds to separate columns\n",
        "rides_df['date'] = rides_df['datetime'].dt.date\n",
        "rides_df['min'] = rides_df['datetime'].dt.minute\n",
        "rides_df['sec'] = rides_df['datetime'].dt.second"
      ]
    },
    {
      "cell_type": "code",
      "source": [
        "# 4 points\n",
        "grader.grade(test_case_id = 'check_date_minute_second', answer = [rides_df['date'].unique(),\n",
        "                                                                  rides_df[['date', 'min', 'sec']].head()])"
      ],
      "metadata": {
        "id": "6tf-J63nbnSy",
        "colab": {
          "base_uri": "https://localhost:8080/"
        },
        "outputId": "222cc38d-4a5a-418a-871b-ee5a7d51871d"
      },
      "execution_count": 21,
      "outputs": [
        {
          "output_type": "stream",
          "name": "stdout",
          "text": [
            "Correct! You earned 4/4 points. You are a star!\n",
            "\n",
            "Your submission has been successfully recorded in the gradebook.\n"
          ]
        }
      ]
    },
    {
      "cell_type": "markdown",
      "source": [
        "With that, we have no more use for the original `datetime` column so we can drop it. There are also some other columns that are useless to use so we'll drop them all at once:"
      ],
      "metadata": {
        "id": "a4VT5NJeVr_6"
      }
    },
    {
      "cell_type": "code",
      "source": [
        "# TO-DO: Drop the 'id', 'datetime' 'timezone', 'long_summary', and 'icon' columns from rides_df\n",
        "rides_df = rides_df.drop(columns=['id', 'datetime','timezone','long_summary','icon'])"
      ],
      "metadata": {
        "id": "lvc95e9_Vrij"
      },
      "execution_count": 22,
      "outputs": []
    },
    {
      "cell_type": "markdown",
      "source": [
        "### **1.2.3** Mean, Standard Deviation, Min, and Max\n",
        "\n",
        "There are certain numeric features of interest to us that we want to examine sample statistics for.\n",
        "\n",
        "Compute simple statistics - specifically the mean, standard deviation, min, and max - for each of the following numerical features and store them into lists in this order: `[distance, price, longitude, latitude]`\n",
        "\n",
        "In other words, create 4 lists:\n",
        "- **means** = `[distance_mean, price_mean, longitude_mean, latitude_mean]`\n",
        "- **stdevs** = `[distance_sd, price_sd, longitude_sd, latitude_sd]`\n",
        "- **mins** = `[distance_min, price_min, longitude_min, latitude_min]`\n",
        "- **maxes** = `[distance_max, price_max, longitude_max, latitude_max]`"
      ],
      "metadata": {
        "id": "ypxtTw1ykY7o"
      }
    },
    {
      "cell_type": "code",
      "source": [
        "# TO-DO: Create \"means\" list for distance, price, longitude, and latitude\n",
        "means = [rides_df['distance'].mean(),rides_df['price'].mean(),rides_df['longitude'].mean(),rides_df['latitude'].mean()]\n",
        "\n",
        "# TO-DO: Create \"stdevs\" list for distance, price, longitude, and latitude\n",
        "stdevs = [rides_df['distance'].std(),rides_df['price'].std(),rides_df['longitude'].std(),rides_df['latitude'].std()]\n",
        "\n",
        "# TO-DO: Create \"mins\" list for distance, price, longitude, and latitude\n",
        "mins = [rides_df['distance'].min(),rides_df['price'].min(),rides_df['longitude'].min(),rides_df['latitude'].min()]\n",
        "\n",
        "# TO-DO: Create \"max\" list for distance, price, longitude, and latitude\n",
        "\n",
        "maxes = [rides_df['distance'].max(),rides_df['price'].max(),rides_df['longitude'].max(),rides_df['latitude'].max()]"
      ],
      "metadata": {
        "id": "DwxMReqAkYHs"
      },
      "execution_count": 23,
      "outputs": []
    },
    {
      "cell_type": "code",
      "source": [
        "# 4 points\n",
        "grader.grade(test_case_id = 'check_min_max_means_std', answer = (maxes, mins, stdevs, means))"
      ],
      "metadata": {
        "id": "1ZT5RTScnW4L",
        "colab": {
          "base_uri": "https://localhost:8080/"
        },
        "outputId": "bd9fb4a6-3d48-4d5a-85e9-ca1d76a3fa0f"
      },
      "execution_count": 24,
      "outputs": [
        {
          "output_type": "stream",
          "name": "stdout",
          "text": [
            "Correct! You earned 4/4 points. You are a star!\n",
            "\n",
            "Your submission has been successfully recorded in the gradebook.\n"
          ]
        }
      ]
    },
    {
      "cell_type": "markdown",
      "source": [
        "### **1.2.4** Correlation of Feature Variables\n",
        "\n",
        "With such an overwhelming number of features, it can be somewhat exhausting to do bivariate analysis on every possible pair of features. While you certainly should, your first instinct should be to check for the correlation between features since certain models (e.g. Linear Regression) won't work well if we have strong multicollinearity."
      ],
      "metadata": {
        "id": "K-JkIcQclNbj"
      }
    },
    {
      "cell_type": "markdown",
      "source": [
        "_**Isolating Numerics from Categorical Features**_\n",
        "\n",
        "Before anything else, it may help to create groups of the numeric vs. categorical variables"
      ],
      "metadata": {
        "id": "7GjB8dGT_UEv"
      }
    },
    {
      "cell_type": "code",
      "source": [
        "# TO-DO: create a dataframe called numerics_df to keep the subset of numeric variables columns\n",
        "numerics_df = rides_df.select_dtypes(include=np.number)"
      ],
      "metadata": {
        "id": "yo4JmHYrufrC"
      },
      "execution_count": 25,
      "outputs": []
    },
    {
      "cell_type": "code",
      "source": [
        "# TO-DO: create a dataframe called categorical_df to keep the subset of non-numeric columns\n",
        "categorical_df = rides_df.drop(columns=rides_df.select_dtypes(include=np.number).columns.tolist())"
      ],
      "metadata": {
        "id": "GEzChi3afQOU"
      },
      "execution_count": 26,
      "outputs": []
    },
    {
      "cell_type": "code",
      "source": [
        "# 2 points\n",
        "grader.grade(test_case_id = 'check_typed_subsets', answer = [numerics_df.columns, categorical_df.columns])"
      ],
      "metadata": {
        "id": "ATqiI-elSIcC",
        "colab": {
          "base_uri": "https://localhost:8080/"
        },
        "outputId": "a7c0209c-c1f2-47b9-c489-c0e7e90e7ec3"
      },
      "execution_count": 27,
      "outputs": [
        {
          "output_type": "stream",
          "name": "stdout",
          "text": [
            "Correct! You earned 2/2 points. You are a star!\n",
            "\n",
            "Your submission has been successfully recorded in the gradebook.\n"
          ]
        }
      ]
    },
    {
      "cell_type": "markdown",
      "source": [
        "_**Correlation Heatmap**_\n",
        "\n",
        "Next, create a correlation matrix using `numerics_df` and call it `corr_matrix`. Using that, generate a correlation heatmap for these numeric features. Look into how to use the `seaborn` library to do this _(imported as `sns` above)_.\n",
        "\n",
        "Like the plot in 1.2.1, we are going to be rather strict about the details and presentability when we manually grade this (out of **4 points**). Make sure your correlation heatmap meets the following criteria:\n",
        "- Ensure that your heatmap is appropriately sized: all feature labels should be visible on both the $x$-axis and $y$-axis\n",
        "- Use the `RdBu` color map to ensure that negative correlations are red and positive correlations are blue\n",
        "- Standardize the color scale so that -1 takes the darkest red color, 0 is totally white, and +1 takes the darkest blue color "
      ],
      "metadata": {
        "id": "6RNUI0QhL59O"
      }
    },
    {
      "cell_type": "code",
      "source": [
        "# TO-DO: Get the correlation matrix\n",
        "corr_matrix = numerics_df.corr()\n",
        "\n",
        "# TO-DO: Plot correlation heatmap (4 points)\n",
        "sns.heatmap(corr_matrix,vmin=-1, vmax=1, cmap='RdBu')"
      ],
      "metadata": {
        "id": "K2erlmdclW0B",
        "colab": {
          "base_uri": "https://localhost:8080/",
          "height": 433
        },
        "outputId": "3bd1409f-06ba-4747-9b5d-e1e8d438571b"
      },
      "execution_count": 28,
      "outputs": [
        {
          "output_type": "execute_result",
          "data": {
            "text/plain": [
              "<matplotlib.axes._subplots.AxesSubplot at 0x7f63dd4eee90>"
            ]
          },
          "metadata": {},
          "execution_count": 28
        },
        {
          "output_type": "display_data",
          "data": {
            "text/plain": [
              "<Figure size 432x288 with 2 Axes>"
            ],
            "image/png": "[encoded data removed]"
          },
          "metadata": {
            "needs_background": "light"
          }
        }
      ]
    },
    {
      "cell_type": "markdown",
      "metadata": {
        "id": "QZ1Rkcb_cKO7"
      },
      "source": [
        "## **1.3** Feature Engineering\n",
        "\n",
        "Feature engineering is the process of applying domain knowledge to extract features from raw data via data mining techniques. These features can be used to improve the performance of machine learning algorithms."
      ]
    },
    {
      "cell_type": "markdown",
      "metadata": {
        "id": "rkh1k-V6cKO7"
      },
      "source": [
        "### **1.3.1** Proposed Ranking System for Ordinal Encoding\n",
        "\n",
        "The `short_summary` column contains information on the weather at the timestamp for a particular ride. As such, in order to make the data useful as feature variables, we encode these weathers using _Ordinal Encoding_. If a certain type of weather makes it more difficult for drivers to drive, we want it to have a higher ranked value. Create a new column called `\"weather_factor\"` that contains these ordinal encodings (ranks).\n",
        "\n",
        "**Clarifications**:\n",
        "- To eliminate ambiguity, please rank the weather according to: `Clear < Partly Cloudy < Mostly Cloudy < Overcast < Possible Drizzle < Drizzle < Light Rain < Rain < Foggy`\n",
        "- If the weather is Clear, assign the lowest rank of 0 to it."
      ]
    },
    {
      "cell_type": "code",
      "source": [
        "# TO-DO: Create a new column called \"weather_factor\" that takes a ranked integer value between 0 and 8.\n",
        "\n",
        "rides_df['weather_factor'] = rides_df['short_summary'].map({' Clear ': 0, ' Partly Cloudy ': 1, ' Mostly Cloudy ': 2, ' Overcast ': 3, ' Possible Drizzle ': 4, ' Drizzle ': 5, ' Light Rain ':6, ' Rain ': 7, ' Foggy ': 8})\n"
      ],
      "metadata": {
        "id": "RREImdfcpbYV"
      },
      "execution_count": 29,
      "outputs": []
    },
    {
      "cell_type": "code",
      "source": [
        "# 2 points\n",
        "grader.grade(test_case_id = 'check_short_summary', answer = rides_df['weather_factor'][:10000])"
      ],
      "metadata": {
        "id": "pSCmdBFznzCE",
        "colab": {
          "base_uri": "https://localhost:8080/"
        },
        "outputId": "80c83706-8796-4dd9-e3ad-65d0af7ce45f"
      },
      "execution_count": 30,
      "outputs": [
        {
          "output_type": "stream",
          "name": "stdout",
          "text": [
            "Correct! You earned 2/2 points. You are a star!\n",
            "\n",
            "Your submission has been successfully recorded in the gradebook.\n"
          ]
        }
      ]
    },
    {
      "cell_type": "markdown",
      "metadata": {
        "id": "Fe3ZsHohcKO8"
      },
      "source": [
        "### **1.3.2** Creating Target Variable - whether price exceeds mean threshold for the carrier\n",
        "\n",
        "While this is an ideal dataset for regression modeling, there aren't any obvious choices for meaningful binary target variables for the purpose of classification modeling, which we will get to in Section 1.4. Thus, for the purpose of the exercise, we will need to design a binary target variable to work with: whether the price for a given ride is above the average price.\n",
        "\n",
        "However, recall that this dataset combines data from both Lyft and Uber. While both carriers are competitors in the ridesharing industry, they are each different in their own way. As a result, it won't be meaningful to use a single mean price as a benchmark for our target variable; we will need to consider **each carrier's respective mean** price when comparing rides to that mean."
      ]
    },
    {
      "cell_type": "code",
      "source": [
        "# Consider the following features from the original rides_df dataframe\n",
        "# NOTE: we will use this for the rest of Part I, so no more calling `ride_df`\n",
        "new_df = rides_df[['date', 'hour', 'min', 'sec', 'price', 'weather_factor', \n",
        "                   'source', 'destination', 'cab_type', 'fare_type',\n",
        "                   'distance', 'surge_multiplier', 'latitude', 'longitude',\n",
        "                   'temperature', 'humidity', 'windGust', 'visibility',\n",
        "                   'uvIndex', 'precipIntensity', 'precipProbability']]"
      ],
      "metadata": {
        "id": "fHZ-z-GGUqOx"
      },
      "execution_count": 31,
      "outputs": []
    },
    {
      "cell_type": "code",
      "source": [],
      "metadata": {
        "id": "vwWX4ZKL7EfT"
      },
      "execution_count": null,
      "outputs": []
    },
    {
      "cell_type": "code",
      "source": [
        "# TO-DO: Get mean price for Uber and Lyft in new_df\n",
        "mean_uber = new_df[new_df['cab_type']=='Uber']['price'].mean()\n",
        "mean_lyft = new_df[new_df['cab_type']=='Lyft']['price'].mean()\n",
        "\n"
      ],
      "metadata": {
        "id": "usNxeIe4pc8C"
      },
      "execution_count": 32,
      "outputs": []
    },
    {
      "cell_type": "code",
      "source": [
        "# TO-DO: Create the \"above_average\" target variable as a new column in new_df\n",
        "#        where 1: above average score, 0: equal to or below average score for that carrier\n",
        "#rides_df = rides_df.reset_index()\n",
        "\n",
        "d = []\n",
        "for i in range(len(new_df)):\n",
        "  if new_df['cab_type'].iloc[i]=='Uber' and new_df['price'].iloc[i]>mean_uber:\n",
        "    d.append(1)\n",
        "  elif new_df['cab_type'].iloc[i]=='Uber' and new_df['price'].iloc[i]<=mean_uber:\n",
        "    d.append(0)\n",
        "  elif new_df['cab_type'].iloc[i]=='Lyft' and new_df['price'].iloc[i]>mean_lyft:\n",
        "    d.append(1)\n",
        "  elif new_df['cab_type'].iloc[i]=='Lyft' and new_df['price'].iloc[i]<=mean_lyft:\n",
        "    d.append(0)  \n",
        "\n",
        "new_df['above_average'] = d "
      ],
      "metadata": {
        "id": "1GyHOr963YCr",
        "colab": {
          "base_uri": "https://localhost:8080/"
        },
        "outputId": "a6f7c71d-0c23-4652-bcb7-310a7de60553"
      },
      "execution_count": 33,
      "outputs": [
        {
          "output_type": "stream",
          "name": "stderr",
          "text": [
            "/usr/local/lib/python3.7/dist-packages/ipykernel_launcher.py:16: SettingWithCopyWarning: \n",
            "A value is trying to be set on a copy of a slice from a DataFrame.\n",
            "Try using .loc[row_indexer,col_indexer] = value instead\n",
            "\n",
            "See the caveats in the documentation: https://pandas.pydata.org/pandas-docs/stable/user_guide/indexing.html#returning-a-view-versus-a-copy\n",
            "  app.launch_new_instance()\n"
          ]
        }
      ]
    },
    {
      "cell_type": "code",
      "source": [
        "# 3 points\n",
        "grader.grade(test_case_id = 'check_average_threshold', answer = (new_df[:1000]['above_average'].sum(),\n",
        "                                                                 mean_uber,\n",
        "                                                               mean_lyft))"
      ],
      "metadata": {
        "id": "vmzWSnt85lVJ",
        "colab": {
          "base_uri": "https://localhost:8080/"
        },
        "outputId": "216e7209-7fb5-40ae-af22-b63556222e10"
      },
      "execution_count": 34,
      "outputs": [
        {
          "output_type": "stream",
          "name": "stdout",
          "text": [
            "Correct! You earned 3/3 points. You are a star!\n",
            "\n",
            "Your submission has been successfully recorded in the gradebook.\n"
          ]
        }
      ]
    },
    {
      "cell_type": "markdown",
      "metadata": {
        "id": "5jp0gOf-cKO8"
      },
      "source": [
        "### **1.3.3** Label-Encode the Product Types\n",
        "\n",
        "Identify the remaining categorical features and convert them into label-encoded vectors. There are **2 categorical variables that need to be encoded**, `cab_type`, `fare_type`.\n",
        "\n",
        "To do this, we use the [LabelEncoder](https://scikit-learn.org/stable/modules/generated/sklearn.preprocessing.LabelEncoder.html) in the sklearn package. Make sure you keep track of the mappings for reference.\n",
        "\n",
        "Assign all labels to `new_df` as `cab_type_label` and `fare_type_label`."
      ]
    },
    {
      "cell_type": "code",
      "execution_count": 35,
      "metadata": {
        "id": "nNeNnR6XcKO9"
      },
      "outputs": [],
      "source": [
        "from sklearn.preprocessing import LabelEncoder\n",
        "\n",
        "# TO-DO: Create label encoders for cab_type and fare_type\n",
        "le = LabelEncoder()\n",
        "le.fit(new_df['cab_type'])\n",
        "cab_type_label = le.transform(new_df['cab_type'])\n",
        "le.fit(new_df['fare_type'])\n",
        "fare_type_label = le.transform(new_df['fare_type'])"
      ]
    },
    {
      "cell_type": "code",
      "source": [
        "# TO-DO: add as new columns to new_df (do not drop any columns yet)\n",
        "new_df['cab_type_label'] = cab_type_label\n",
        "new_df['fare_type_label'] = fare_type_label"
      ],
      "metadata": {
        "id": "qB5dkv5UbS4o",
        "colab": {
          "base_uri": "https://localhost:8080/"
        },
        "outputId": "3902bbdf-dd3d-464c-c7d5-ba9dc5b1ec93"
      },
      "execution_count": 36,
      "outputs": [
        {
          "output_type": "stream",
          "name": "stderr",
          "text": [
            "/usr/local/lib/python3.7/dist-packages/ipykernel_launcher.py:2: SettingWithCopyWarning: \n",
            "A value is trying to be set on a copy of a slice from a DataFrame.\n",
            "Try using .loc[row_indexer,col_indexer] = value instead\n",
            "\n",
            "See the caveats in the documentation: https://pandas.pydata.org/pandas-docs/stable/user_guide/indexing.html#returning-a-view-versus-a-copy\n",
            "  \n",
            "/usr/local/lib/python3.7/dist-packages/ipykernel_launcher.py:3: SettingWithCopyWarning: \n",
            "A value is trying to be set on a copy of a slice from a DataFrame.\n",
            "Try using .loc[row_indexer,col_indexer] = value instead\n",
            "\n",
            "See the caveats in the documentation: https://pandas.pydata.org/pandas-docs/stable/user_guide/indexing.html#returning-a-view-versus-a-copy\n",
            "  This is separate from the ipykernel package so we can avoid doing imports until\n"
          ]
        }
      ]
    },
    {
      "cell_type": "code",
      "source": [
        "# 3 points\n",
        "grader.grade(test_case_id = 'check_encoding_var', answer = [new_df['cab_type_label'][0],\n",
        "                                                            new_df.shape,\n",
        "                                                            new_df['fare_type_label'][0]])"
      ],
      "metadata": {
        "id": "zFVpDv-D6rYI",
        "colab": {
          "base_uri": "https://localhost:8080/"
        },
        "outputId": "54c5c02e-cee0-4b9f-a5a4-197966f7c9d7"
      },
      "execution_count": 37,
      "outputs": [
        {
          "output_type": "stream",
          "name": "stdout",
          "text": [
            "Correct! You earned 3/3 points. You are a star!\n",
            "\n",
            "Your submission has been successfully recorded in the gradebook.\n"
          ]
        }
      ]
    },
    {
      "cell_type": "markdown",
      "source": [
        "Let's write out the modified data we created to a file so that we can reuse it in Part II when we deal with Spark."
      ],
      "metadata": {
        "id": "IqJTjqUQh5pZ"
      }
    },
    {
      "cell_type": "code",
      "source": [
        "combined_data_sec_2 = new_df.copy()\n",
        "combined_data_sec_2.to_csv('/content/combined.csv')"
      ],
      "metadata": {
        "id": "eSRBQcn5hV6X"
      },
      "execution_count": 38,
      "outputs": []
    },
    {
      "cell_type": "markdown",
      "source": [
        "### **1.3.4** Preprocessing: Split into Features and Label\n",
        "\n",
        "Now that we have explored and cleaned our dataset, let's prepare it for a machine learning task. In this homework, you will work with various models and attempt to predict the price of ride. Since we converted the prices to binary labels above, you will actually predict whether the ride has high price (`above_average = 1`) or low price (`above_average = 0`) for classification and actual price for regression.\n",
        "\n",
        "The features will be the encoded variables together with some other attributes: `weather_factor`, `fare_type_label`, `cab_type_label`, `distance`, `surge_multiplier`, `hour`, `temperature`, `precipIntensity` and `precipProbability`. The label will be the binary indicator created in 1.3.2, indicating if the price is above average. Store these two as `features` and `labels`, respectively."
      ],
      "metadata": {
        "id": "U5ieCGnN_VQJ"
      }
    },
    {
      "cell_type": "code",
      "source": [
        "# TO-DO: stores features dataframe into variable called \"features\"\n",
        "features = combined_data_sec_2[['weather_factor', 'fare_type_label', 'cab_type_label','distance', 'surge_multiplier', 'hour', 'temperature', 'precipIntensity', 'precipProbability']]\n",
        "\n",
        "# TO-DO: store the binary classification target variable into \"labels\"\n",
        "labels = combined_data_sec_2['above_average']\n",
        "\n",
        "# TO-DO: store the regression target variable into \"prices\"\n",
        "prices = combined_data_sec_2['price']"
      ],
      "metadata": {
        "id": "36JiZOTHcJRj"
      },
      "execution_count": 39,
      "outputs": []
    },
    {
      "cell_type": "code",
      "source": [
        "# 3 points\n",
        "grader.grade(test_case_id = 'check_features_labels', answer = (features.columns, labels.name, prices.name))"
      ],
      "metadata": {
        "id": "Kkg5_-ZP8FT4",
        "colab": {
          "base_uri": "https://localhost:8080/"
        },
        "outputId": "322de8a8-fc25-4072-937f-61127e08b28e"
      },
      "execution_count": 40,
      "outputs": [
        {
          "output_type": "stream",
          "name": "stdout",
          "text": [
            "Correct! You earned 3/3 points. You are a star!\n",
            "\n",
            "Your submission has been successfully recorded in the gradebook.\n"
          ]
        }
      ]
    },
    {
      "cell_type": "markdown",
      "metadata": {
        "id": "K-iqlFZacKO9"
      },
      "source": [
        "## **1.4** Modeling (sklearn)"
      ]
    },
    {
      "cell_type": "markdown",
      "source": [
        "### **1.4.1** Split Data into Train and Test\n",
        "\n",
        "Use scikit-learn's `train_test_split` function to split data for regression into train and test sets. The split should be 80-20 meaning 80% for training and rest for testing.\n",
        "\n",
        "Since this part concerns regression, you should carefully think about what should be our target variable: should it be `labels` or `prices`?\n",
        "\n",
        "**_IMPORTANT_: Please set the `random_state` parameter to `random_state = 42`** and store the resulting splits as `x_train, x_test, y_train,` and `y_test`."
      ],
      "metadata": {
        "id": "ZgPdmeQuditm"
      }
    },
    {
      "cell_type": "code",
      "source": [
        "from sklearn.model_selection import train_test_split\n",
        "\n",
        "# TO-DO: Conduct 80/20 train-test split with random_state = 42\n",
        "x_train, x_test, y_train, y_test = train_test_split(features, prices, test_size=0.2, random_state=42)"
      ],
      "metadata": {
        "id": "h1zUkUjYdnNO"
      },
      "execution_count": 41,
      "outputs": []
    },
    {
      "cell_type": "code",
      "source": [
        "# 4 points\n",
        "grader.grade(test_case_id = 'check_train_test_split', answer = (x_train.shape, x_test.shape, y_train.shape, y_test.shape, y_test[:100]))"
      ],
      "metadata": {
        "id": "2uin38Jx9Pnm",
        "colab": {
          "base_uri": "https://localhost:8080/"
        },
        "outputId": "5e56e7b7-d891-47e4-ca2d-f906e0cf29cc"
      },
      "execution_count": 42,
      "outputs": [
        {
          "output_type": "stream",
          "name": "stdout",
          "text": [
            "Correct! You earned 4/4 points. You are a star!\n",
            "\n",
            "Your submission has been successfully recorded in the gradebook.\n"
          ]
        }
      ]
    },
    {
      "cell_type": "markdown",
      "metadata": {
        "id": "NGlb6tnNcKO-"
      },
      "source": [
        "### **1.4.2** Regression Models"
      ]
    },
    {
      "cell_type": "markdown",
      "metadata": {
        "id": "cdbOofuUcKO_"
      },
      "source": [
        "#### (a) Linear Regression (Unregularized)\n",
        "\n",
        "Use the `LinearRegression` class in scikit-learn to perform Linear Regression. Initialize the model with default parameters, fit the model to the training set, and then make predictions on the testing set.\n",
        "\n",
        "Save your predictions in an array named `y_pred`, and report your R-squared score (saved it as a variable called `score`)."
      ]
    },
    {
      "cell_type": "code",
      "source": [
        "from sklearn.linear_model import LinearRegression\n",
        "\n",
        "# Your code here\n",
        "regr = LinearRegression()\n",
        "\n",
        "# Train the model using the training sets\n",
        "regr.fit(x_train, y_train)\n",
        "y_pred = regr.predict(x_test)\n",
        "score = regr.score(x_test, y_test)"
      ],
      "metadata": {
        "id": "vh0nlylinV1r"
      },
      "execution_count": 43,
      "outputs": []
    },
    {
      "cell_type": "code",
      "source": [
        "# 6 points\n",
        "grader.grade(test_case_id = 'check_linear_reg', answer = [y_pred, score])"
      ],
      "metadata": {
        "id": "s1rsdlEomDmZ",
        "colab": {
          "base_uri": "https://localhost:8080/"
        },
        "outputId": "997a3c76-1663-4da5-bed4-6d5044c2bc57"
      },
      "execution_count": 44,
      "outputs": [
        {
          "output_type": "stream",
          "name": "stdout",
          "text": [
            "Correct! You earned 6/6 points. You are a star!\n",
            "\n",
            "Your submission has been successfully recorded in the gradebook.\n"
          ]
        }
      ]
    },
    {
      "cell_type": "markdown",
      "metadata": {
        "id": "G7EV4dpDcKO_"
      },
      "source": [
        "#### (b) Ridge Regression\n",
        "\n",
        "Use the `Ridge` class in scikit-learn to perform $L_2$ Regularized Linear Regression. Initialize the model with regularization strength `alpha = 1.0`, fit the model to the training set, and then make predictions on the testing set.\n",
        "\n",
        "Report your $R^2$ score and save it as a variable called `ridge_score`."
      ]
    },
    {
      "cell_type": "code",
      "source": [
        "from sklearn.linear_model import Ridge\n",
        "\n",
        "# Your code here\n",
        "rdg = Ridge(alpha = 1.0)\n",
        "rdg.fit(x_train, y_train)\n",
        "y_pred = rdg.predict(x_test)\n",
        "ridge_score = rdg.score(x_test, y_test)\n"
      ],
      "metadata": {
        "id": "yDytBWJbn3EX"
      },
      "execution_count": 45,
      "outputs": []
    },
    {
      "cell_type": "code",
      "source": [
        "# 2 points\n",
        "grader.grade(test_case_id = 'check_ridge_reg', answer = ridge_score)"
      ],
      "metadata": {
        "id": "wSOPMz04VZMr",
        "colab": {
          "base_uri": "https://localhost:8080/"
        },
        "outputId": "02642e15-220e-49fb-dd25-3485392c3e93"
      },
      "execution_count": 46,
      "outputs": [
        {
          "output_type": "stream",
          "name": "stdout",
          "text": [
            "Correct! You earned 2/2 points. You are a star!\n",
            "\n",
            "Your submission has been successfully recorded in the gradebook.\n"
          ]
        }
      ]
    },
    {
      "cell_type": "markdown",
      "source": [
        "_**Exam-Style Practice Questions:**_\n",
        "\n",
        "_(While we will NOT grade this for the purpose of the HW, it is in your best interest to take just 30-60 seconds to think about this as I may very well put something similar in the final exam!_ 😉_)_\n",
        "\n",
        "- What do you notice about the $R^2$ scores of the Ridge and unregularized Linear Regression above?\n",
        "- If Ridge is supposed to \"improve\" Linear Regression, we may find it unusual if that is not happening here. Under what circumstances would we consider using Ridge over unregularized Linear Regression?\n",
        "- Would you expect different results if we made `alpha` bigger ($\\alpha \\rightarrow \\infty$)? smaller ($\\alpha \\rightarrow 0$)? Why or why not?"
      ],
      "metadata": {
        "id": "A1Cl9DePQzfq"
      }
    },
    {
      "cell_type": "code",
      "source": [],
      "metadata": {
        "id": "Zq7bg6l51OHW"
      },
      "execution_count": null,
      "outputs": []
    },
    {
      "cell_type": "markdown",
      "metadata": {
        "id": "EF3qpHRNcKPA"
      },
      "source": [
        "### **1.4.3** Classification Models"
      ]
    },
    {
      "cell_type": "markdown",
      "source": [
        "#### (a) Split Data into Train and Test\n",
        "\n",
        "Repeat 1.4.1 again but this time where our target variable is now `labels` (not \"prices\").\n",
        "\n",
        "Again, we will use scikit-learn's `train_test_split` function to split the data for the classification problem into train and test sets. The split should be 80-20 meaning 80% for training and the rest for testing.\n",
        "\n",
        "**_IMPORTANT_: Again, please set the `random_state` parameter to `random_state = 42`** and store the resulting splits as `x_train, x_test, y_train,` and `y_test`."
      ],
      "metadata": {
        "id": "OoRHu9Y-VuOP"
      }
    },
    {
      "cell_type": "code",
      "source": [
        "# TO-DO: Do a 80/20 train-test split with random_state = 42 but for labels as our target this time \n",
        "x_train, x_test, y_train, y_test = train_test_split(features, labels, test_size=0.2, random_state=42)"
      ],
      "metadata": {
        "id": "UuYm9t9FVyLi"
      },
      "execution_count": 47,
      "outputs": []
    },
    {
      "cell_type": "code",
      "source": [
        "# 4 points\n",
        "grader.grade(test_case_id = 'check_class_split', answer = (x_train.shape, x_test.shape, y_train.shape, y_test.shape, y_test[:100]))"
      ],
      "metadata": {
        "id": "UJWjP68VV3iA",
        "colab": {
          "base_uri": "https://localhost:8080/"
        },
        "outputId": "01f065e4-634f-4b8e-dfde-7ab01cd3490d"
      },
      "execution_count": 48,
      "outputs": [
        {
          "output_type": "stream",
          "name": "stdout",
          "text": [
            "Correct! You earned 4/4 points. You are a star!\n",
            "\n",
            "Your submission has been successfully recorded in the gradebook.\n"
          ]
        }
      ]
    },
    {
      "cell_type": "markdown",
      "metadata": {
        "id": "RMo898Q3cKPB"
      },
      "source": [
        "#### (b) PCA to Reduce Dimensionality\n",
        "\n",
        "The goal of Principal Component Analysis is to reduce number of dimensions of our features."
      ]
    },
    {
      "cell_type": "markdown",
      "source": [
        "_**Initial PCA**_\n",
        "\n",
        "As a first step instantiate and fit `PCA` from scikit-learn on your training set.\n",
        "\n",
        "Please remember that PCA is **not** scale-invariant! What does this imply you need to do first?"
      ],
      "metadata": {
        "id": "IibSssjHdxNI"
      }
    },
    {
      "cell_type": "code",
      "source": [
        "from sklearn.preprocessing import StandardScaler\n",
        "from sklearn.decomposition import PCA\n",
        "# TO-DO: Instantiate and Fit PCA\n",
        "X = StandardScaler().fit_transform(x_train)\n",
        "pca = PCA(n_components = 9)\n",
        "X2 = pca.fit_transform(X)"
      ],
      "metadata": {
        "id": "4w430CrIegJC"
      },
      "execution_count": 49,
      "outputs": []
    },
    {
      "cell_type": "markdown",
      "metadata": {
        "id": "t_zXoB2UNipf"
      },
      "source": [
        "_**Cumulative Explained Variance Ratios**_\n",
        "\n",
        "Create an array of explained variance ratios and store it into a variable called `explained_variance_ratios`. Also, calculate the _cumulative_ explained variance ratios and store that into another variable called `cum_evr`."
      ]
    },
    {
      "cell_type": "code",
      "execution_count": 50,
      "metadata": {
        "id": "vE7SYQRYNiph",
        "colab": {
          "base_uri": "https://localhost:8080/"
        },
        "outputId": "902197c7-8c09-472f-f570-96906060d977"
      },
      "outputs": [
        {
          "output_type": "execute_result",
          "data": {
            "text/plain": [
              "array([0.29682274, 0.44813846, 0.58560625, 0.69762948, 0.80133181,\n",
              "       0.8787401 , 0.95131596, 0.98425419, 1.        ])"
            ]
          },
          "metadata": {},
          "execution_count": 50
        }
      ],
      "source": [
        "# TO-DO: Save the explained variance ratios into variable called \"explained_variance_ratios\"\n",
        "np.set_printoptions(suppress=True)\n",
        "explained_variance_ratios = pca.explained_variance_ratio_\n",
        "# TO-DO: Save the CUMULATIVE explained variance ratios into variable called \"cum_evr\"\n",
        "cum_evr= np.cumsum(explained_variance_ratios)\n",
        "cum_evr"
      ]
    },
    {
      "cell_type": "markdown",
      "metadata": {
        "id": "qfK-XB7jNipj"
      },
      "source": [
        "Now plot the _cumulative_ `explained_variance_ratio` against the number of components to decide the number of components you should keep.\n",
        "\n",
        "As before, you should ensure that the plot follows the best practices you've developed over the past 2 plotting exercises in this HW. **This will be manually graded for 2 points**\n",
        "\n",
        "\n",
        "_**CAUTION:** Recall that Python starts counting from 0, but this would make it very intuitive when reading from your graph. We strongly recommend that you modify the x-axis of your graph so that the **number of components begins at 1**. Otherwise, you may risk making silly mistakes in the subsequent sections._"
      ]
    },
    {
      "cell_type": "code",
      "execution_count": 51,
      "metadata": {
        "id": "mtwJbU6CNipl",
        "colab": {
          "base_uri": "https://localhost:8080/",
          "height": 297
        },
        "outputId": "360552cf-7402-41ab-c0a7-626a03db79c0"
      },
      "outputs": [
        {
          "output_type": "display_data",
          "data": {
            "text/plain": [
              "<Figure size 432x288 with 1 Axes>"
            ],
            "image/png": "[encoded data removed]"
          },
          "metadata": {
            "needs_background": "light"
          }
        }
      ],
      "source": [
        "# TO-DO: find optimal num components to use (n) by plotting explained variance ratio (2 points)\n",
        "# n=5 since the cumulative explained variance ratios is around 0.8\n",
        "\n",
        "\n",
        "# Plot (1 point for correct shape)\n",
        "# Aesthetics (1 point for title AND both axes labels)\n",
        "plt.bar(range(1,len(explained_variance_ratios)+1), explained_variance_ratios, alpha=0.5, align='center', label='Individual explained variance')\n",
        "#plt.step(range(1,len(cum_evr)+1), cum_evr, where='mid',label='Cumulative explained variance')\n",
        "plt.plot(range(1,len(cum_evr)+1), cum_evr,label='Cumulative explained variance')\n",
        "plt.ylabel('Explained variance ratio')\n",
        "plt.xlabel('Principal component index')\n",
        "plt.legend(loc='best')\n",
        "plt.tight_layout()\n",
        "plt.show()\n",
        "\n"
      ]
    },
    {
      "cell_type": "code",
      "execution_count": 52,
      "metadata": {
        "id": "arm3a6__Nipn",
        "colab": {
          "base_uri": "https://localhost:8080/"
        },
        "outputId": "d3953062-4b79-4e0b-e968-0506b43241dd"
      },
      "outputs": [
        {
          "output_type": "stream",
          "name": "stdout",
          "text": [
            "Correct! You earned 2/2 points. You are a star!\n",
            "\n",
            "Your submission has been successfully recorded in the gradebook.\n"
          ]
        }
      ],
      "source": [
        "# 2 points\n",
        "grader.grade(test_case_id = 'check_pca_explained_variance', answer = explained_variance_ratios)"
      ]
    },
    {
      "cell_type": "markdown",
      "source": [
        "_**Final PCA**_\n",
        "\n",
        "Using your results above to help you decide the number of components to keep, choose a number (`n`) that explains **at least 80% of total variance** in the dataset. Then re-fit and transform your PCA on the training set using the number of components you decided.\n",
        "\n",
        "Remember that your PCA should be trained on the training set (`x_train`) but only transformed on the test set (`x_test`).\n",
        "\n",
        "Call your transformed set of principal components `x_test_pca` in order to submit it to the autograder."
      ],
      "metadata": {
        "id": "yE-BK7tHfHiN"
      }
    },
    {
      "cell_type": "code",
      "source": [
        "# TO-DO: Get transformed set of principal components on x_test\n",
        "#X = StandardScaler().fit_transform(x_train)\n",
        "X = StandardScaler().fit_transform(x_train)\n",
        "pca_best = PCA(n_components = 5)\n",
        "\n",
        "x_test1 = StandardScaler().fit_transform(x_test)\n",
        "x_test_pca = pca_best.fit_transform(x_test1)"
      ],
      "metadata": {
        "id": "s1XTsChOfGiZ"
      },
      "execution_count": 53,
      "outputs": []
    },
    {
      "cell_type": "code",
      "source": [
        "# 2 points\n",
        "grader.grade(test_case_id = 'check_fitted_pca', answer = (x_test_pca[:10,:]))"
      ],
      "metadata": {
        "id": "Gv2qiPNLWwOM",
        "colab": {
          "base_uri": "https://localhost:8080/"
        },
        "outputId": "cedb0227-153a-4259-d622-f27d8fd2fc87"
      },
      "execution_count": 54,
      "outputs": [
        {
          "output_type": "stream",
          "name": "stdout",
          "text": [
            "Correct! You earned 2/2 points. You are a star!\n",
            "\n",
            "Your submission has been successfully recorded in the gradebook.\n"
          ]
        }
      ]
    },
    {
      "cell_type": "markdown",
      "source": [
        "_**Visualizing Top 2 Principal Components**_\n",
        "\n",
        "Just to visualize what's going on (separate from what you just did), use PCA once more but this time to reduce the number dimensions to 2 and plot the first 5000 rows for each component. PCA should be applied to the training data in this case after the required transformations.\n",
        "\n",
        "**This will be manually graded** so as before, make sure you fully title and label your plot! We are specifically looking to see if you understand which component goes on the x-axis and which goes on the y-axis in this particular case."
      ],
      "metadata": {
        "id": "XZO3QajFftkz"
      }
    },
    {
      "cell_type": "code",
      "source": [
        "# TO-DO: Visualize 2 components of PCA when applied to the training data (2 points)\n",
        "X = StandardScaler().fit_transform(x_train)\n",
        "pca_t = PCA(n_components = 2)\n",
        "\n",
        "x_test_pca = pca_t.fit_transform(X)\n",
        "#X[:,0]\n",
        "plt.scatter(pd.DataFrame(x_test_pca)[0][:5000], pd.DataFrame(x_test_pca)[1][:5000], alpha = 1, edgecolors='b')\n",
        "plt.xlabel('component 1')\n",
        "plt.ylabel('component 2')"
      ],
      "metadata": {
        "id": "emGHsFyefnUw",
        "colab": {
          "base_uri": "https://localhost:8080/",
          "height": 297
        },
        "outputId": "f684ae34-95cb-4a13-b206-d69918166467"
      },
      "execution_count": 55,
      "outputs": [
        {
          "output_type": "execute_result",
          "data": {
            "text/plain": [
              "Text(0, 0.5, 'component 2')"
            ]
          },
          "metadata": {},
          "execution_count": 55
        },
        {
          "output_type": "display_data",
          "data": {
            "text/plain": [
              "<Figure size 432x288 with 1 Axes>"
            ],
            "image/png": "[encoded data removed]"
          },
          "metadata": {
            "needs_background": "light"
          }
        }
      ]
    },
    {
      "cell_type": "markdown",
      "metadata": {
        "id": "A2q2puz-cKPC"
      },
      "source": [
        "#### (c) Logistic Regression\n",
        "\n",
        "1. Fit the logistic regression (no regularization) on your Final Principal Components data using your optimal `n`.\n",
        "2. Make predictions on the test set.\n",
        "3. Report accuracy for the test set and call it `test_accuracy`"
      ]
    },
    {
      "cell_type": "code",
      "source": [
        "from sklearn.linear_model import LogisticRegression\n",
        "\n",
        "# TO-DO: Instantiate, fit, predict, and score logistic regression\n",
        "from sklearn.linear_model import LogisticRegression\n",
        "logisticRegr = LogisticRegression()\n",
        "logisticRegr.fit(x_train, y_train)\n",
        "predictions = logisticRegr.predict(x_test)\n",
        "test_accuracy = logisticRegr.score(x_test, y_test)"
      ],
      "metadata": {
        "id": "V0A32a6Agjn1",
        "colab": {
          "base_uri": "https://localhost:8080/"
        },
        "outputId": "cf3ec23e-a828-41eb-939d-5733e89b2cd7"
      },
      "execution_count": null,
      "outputs": [
        {
          "output_type": "stream",
          "name": "stderr",
          "text": [
            "/usr/local/lib/python3.7/dist-packages/sklearn/linear_model/_logistic.py:818: ConvergenceWarning: lbfgs failed to converge (status=1):\n",
            "STOP: TOTAL NO. of ITERATIONS REACHED LIMIT.\n",
            "\n",
            "Increase the number of iterations (max_iter) or scale the data as shown in:\n",
            "    https://scikit-learn.org/stable/modules/preprocessing.html\n",
            "Please also refer to the documentation for alternative solver options:\n",
            "    https://scikit-learn.org/stable/modules/linear_model.html#logistic-regression\n",
            "  extra_warning_msg=_LOGISTIC_SOLVER_CONVERGENCE_MSG,\n"
          ]
        }
      ]
    },
    {
      "cell_type": "code",
      "source": [
        "# 4 points\n",
        "grader.grade(test_case_id = 'check_lr', answer = test_accuracy)"
      ],
      "metadata": {
        "id": "-uUNm6fuZNm_",
        "colab": {
          "base_uri": "https://localhost:8080/"
        },
        "outputId": "5a461524-03fb-4941-fbfa-b05c1a46260a"
      },
      "execution_count": null,
      "outputs": [
        {
          "output_type": "stream",
          "name": "stdout",
          "text": [
            "Correct! You earned 4/4 points. You are a star!\n",
            "\n",
            "Your submission has been successfully recorded in the gradebook.\n"
          ]
        }
      ]
    },
    {
      "cell_type": "markdown",
      "metadata": {
        "id": "nyURjOkMcKPD"
      },
      "source": [
        "# **Part II:** Distributed Machine Learning with Spark (35 points)\n",
        "\n",
        "Apache Spark ML is a machine learning library that consists of common learning algorithms and utilities, including classification, regression, clustering, collaborative filtering, dimensionality reduction, and underlying optimization primitives.\n",
        "\n",
        "**Why Spark ML?**\n",
        "\n",
        "Moving to the Big Data Era requires heavy iterative computations on very large datasets. Standard implementations of machine learning algorithms require very powerful machines to be able to run. However, depending on high-end machines is not advantageous due to their high price and improper costs of scaling up. The idea of using distributed computing engines is to distribute the calculations to multiple low-end machines (commodity hardware) instead of a single high-end one. _This **definitely speeds up** the learning phase and allows us to create better models._\n",
        "\n",
        "Read more about it with the python documentation **[here](https://spark.apache.org/docs/latest/ml-guide.html)**.\n",
        "\n",
        "Run the code below to set up Spark."
      ]
    },
    {
      "cell_type": "code",
      "source": [
        "!apt install libkrb5-dev\n",
        "!wget https://downloads.apache.org/spark/spark-3.1.2/spark-3.1.2-bin-hadoop3.2.tgz\n",
        "!tar xf spark-3.1.2-bin-hadoop3.2.tgz\n",
        "!pip install findspark\n",
        "!pip install sparkmagic\n",
        "!pip install pyspark\n",
        "! pip install pyspark --user\n",
        "! pip install seaborn --user\n",
        "! pip install plotly --user\n",
        "! pip install imageio --user\n",
        "! pip install folium --user"
      ],
      "metadata": {
        "id": "AtR2QWmLe8ws",
        "colab": {
          "base_uri": "https://localhost:8080/"
        },
        "outputId": "547f98ca-55df-4383-f8cd-a675b7a61bb4"
      },
      "execution_count": null,
      "outputs": [
        {
          "output_type": "stream",
          "name": "stdout",
          "text": [
            "Reading package lists... Done\n",
            "Building dependency tree       \n",
            "Reading state information... Done\n",
            "libkrb5-dev is already the newest version (1.16-2ubuntu0.2).\n",
            "The following package was automatically installed and is no longer required:\n",
            "  libnvidia-common-460\n",
            "Use 'apt autoremove' to remove it.\n",
            "0 upgraded, 0 newly installed, 0 to remove and 28 not upgraded.\n",
            "--2022-11-07 00:30:02--  https://downloads.apache.org/spark/spark-3.1.2/spark-3.1.2-bin-hadoop3.2.tgz\n",
            "Resolving downloads.apache.org (downloads.apache.org)... 135.181.214.104, 88.99.95.219, 2a01:4f8:10a:201a::2, ...\n",
            "Connecting to downloads.apache.org (downloads.apache.org)|135.181.214.104|:443... connected.\n",
            "HTTP request sent, awaiting response... 404 Not Found\n",
            "2022-11-07 00:30:03 ERROR 404: Not Found.\n",
            "\n",
            "tar: spark-3.1.2-bin-hadoop3.2.tgz: Cannot open: No such file or directory\n",
            "tar: Error is not recoverable: exiting now\n",
            "Looking in indexes: https://pypi.org/simple, https://us-python.pkg.dev/colab-wheels/public/simple/\n",
            "Collecting findspark\n",
            "  Downloading findspark-2.0.1-py2.py3-none-any.whl (4.4 kB)\n",
            "Installing collected packages: findspark\n",
            "Successfully installed findspark-2.0.1\n",
            "Looking in indexes: https://pypi.org/simple, https://us-python.pkg.dev/colab-wheels/public/simple/\n",
            "Collecting sparkmagic\n",
            "  Downloading sparkmagic-0.20.0.tar.gz (44 kB)\n",
            "\u001b[K     |████████████████████████████████| 44 kB 2.1 MB/s \n",
            "\u001b[?25hCollecting hdijupyterutils>=0.6\n",
            "  Downloading hdijupyterutils-0.20.0.tar.gz (5.0 kB)\n",
            "Collecting autovizwidget>=0.6\n",
            "  Downloading autovizwidget-0.20.0.tar.gz (8.8 kB)\n",
            "Requirement already satisfied: ipython>=5 in /usr/local/lib/python3.7/dist-packages (from sparkmagic) (7.9.0)\n",
            "Collecting nose\n",
            "  Downloading nose-1.3.7-py3-none-any.whl (154 kB)\n",
            "\u001b[K     |████████████████████████████████| 154 kB 13.7 MB/s \n",
            "\u001b[?25hCollecting mock\n",
            "  Downloading mock-4.0.3-py3-none-any.whl (28 kB)\n",
            "Requirement already satisfied: pandas>=0.17.1 in /usr/local/lib/python3.7/dist-packages (from sparkmagic) (1.1.5)\n",
            "Requirement already satisfied: numpy in /usr/local/lib/python3.7/dist-packages (from sparkmagic) (1.21.6)\n",
            "Requirement already satisfied: requests in /usr/local/lib/python3.7/dist-packages (from sparkmagic) (2.23.0)\n",
            "Requirement already satisfied: ipykernel>=4.2.2 in /usr/local/lib/python3.7/dist-packages (from sparkmagic) (5.3.4)\n",
            "Requirement already satisfied: ipywidgets>5.0.0 in /usr/local/lib/python3.7/dist-packages (from sparkmagic) (7.7.1)\n",
            "Requirement already satisfied: notebook>=4.2 in /usr/local/lib/python3.7/dist-packages (from sparkmagic) (5.5.0)\n",
            "Requirement already satisfied: tornado>=4 in /usr/local/lib/python3.7/dist-packages (from sparkmagic) (5.1.1)\n",
            "Collecting requests_kerberos>=0.8.0\n",
            "  Downloading requests_kerberos-0.14.0-py2.py3-none-any.whl (11 kB)\n",
            "Collecting nest_asyncio==1.5.5\n",
            "  Downloading nest_asyncio-1.5.5-py3-none-any.whl (5.2 kB)\n",
            "Requirement already satisfied: plotly>=3 in /usr/local/lib/python3.7/dist-packages (from autovizwidget>=0.6->sparkmagic) (5.5.0)\n",
            "Collecting jupyter>=1\n",
            "  Downloading jupyter-1.0.0-py2.py3-none-any.whl (2.7 kB)\n",
            "Requirement already satisfied: traitlets>=4.1.0 in /usr/local/lib/python3.7/dist-packages (from ipykernel>=4.2.2->sparkmagic) (5.1.1)\n",
            "Requirement already satisfied: jupyter-client in /usr/local/lib/python3.7/dist-packages (from ipykernel>=4.2.2->sparkmagic) (6.1.12)\n",
            "Requirement already satisfied: decorator in /usr/local/lib/python3.7/dist-packages (from ipython>=5->sparkmagic) (4.4.2)\n",
            "Requirement already satisfied: pickleshare in /usr/local/lib/python3.7/dist-packages (from ipython>=5->sparkmagic) (0.7.5)\n",
            "Requirement already satisfied: pexpect in /usr/local/lib/python3.7/dist-packages (from ipython>=5->sparkmagic) (4.8.0)\n",
            "Collecting jedi>=0.10\n",
            "  Downloading jedi-0.18.1-py2.py3-none-any.whl (1.6 MB)\n",
            "\u001b[K     |████████████████████████████████| 1.6 MB 60.1 MB/s \n",
            "\u001b[?25hRequirement already satisfied: backcall in /usr/local/lib/python3.7/dist-packages (from ipython>=5->sparkmagic) (0.2.0)\n",
            "Requirement already satisfied: pygments in /usr/local/lib/python3.7/dist-packages (from ipython>=5->sparkmagic) (2.6.1)\n",
            "Requirement already satisfied: setuptools>=18.5 in /usr/local/lib/python3.7/dist-packages (from ipython>=5->sparkmagic) (57.4.0)\n",
            "Requirement already satisfied: prompt-toolkit<2.1.0,>=2.0.0 in /usr/local/lib/python3.7/dist-packages (from ipython>=5->sparkmagic) (2.0.10)\n",
            "Requirement already satisfied: ipython-genutils~=0.2.0 in /usr/local/lib/python3.7/dist-packages (from ipywidgets>5.0.0->sparkmagic) (0.2.0)\n",
            "Requirement already satisfied: widgetsnbextension~=3.6.0 in /usr/local/lib/python3.7/dist-packages (from ipywidgets>5.0.0->sparkmagic) (3.6.1)\n",
            "Requirement already satisfied: jupyterlab-widgets>=1.0.0 in /usr/local/lib/python3.7/dist-packages (from ipywidgets>5.0.0->sparkmagic) (3.0.3)\n",
            "Requirement already satisfied: parso<0.9.0,>=0.8.0 in /usr/local/lib/python3.7/dist-packages (from jedi>=0.10->ipython>=5->sparkmagic) (0.8.3)\n",
            "Collecting qtconsole\n",
            "  Downloading qtconsole-5.4.0-py3-none-any.whl (121 kB)\n",
            "\u001b[K     |████████████████████████████████| 121 kB 75.8 MB/s \n",
            "\u001b[?25hRequirement already satisfied: jupyter-console in /usr/local/lib/python3.7/dist-packages (from jupyter>=1->hdijupyterutils>=0.6->sparkmagic) (6.1.0)\n",
            "Requirement already satisfied: nbconvert in /usr/local/lib/python3.7/dist-packages (from jupyter>=1->hdijupyterutils>=0.6->sparkmagic) (5.6.1)\n",
            "Requirement already satisfied: jinja2 in /usr/local/lib/python3.7/dist-packages (from notebook>=4.2->sparkmagic) (2.11.3)\n",
            "Requirement already satisfied: pyzmq>=17 in /usr/local/lib/python3.7/dist-packages (from notebook>=4.2->sparkmagic) (23.2.1)\n",
            "Requirement already satisfied: terminado>=0.8.1 in /usr/local/lib/python3.7/dist-packages (from notebook>=4.2->sparkmagic) (0.13.3)\n",
            "Requirement already satisfied: Send2Trash in /usr/local/lib/python3.7/dist-packages (from notebook>=4.2->sparkmagic) (1.8.0)\n",
            "Requirement already satisfied: jupyter-core>=4.4.0 in /usr/local/lib/python3.7/dist-packages (from notebook>=4.2->sparkmagic) (4.11.2)\n",
            "Requirement already satisfied: nbformat in /usr/local/lib/python3.7/dist-packages (from notebook>=4.2->sparkmagic) (5.7.0)\n",
            "Requirement already satisfied: python-dateutil>=2.1 in /usr/local/lib/python3.7/dist-packages (from jupyter-client->ipykernel>=4.2.2->sparkmagic) (2.8.2)\n",
            "Requirement already satisfied: pytz>=2017.2 in /usr/local/lib/python3.7/dist-packages (from pandas>=0.17.1->sparkmagic) (2022.5)\n",
            "Requirement already satisfied: tenacity>=6.2.0 in /usr/local/lib/python3.7/dist-packages (from plotly>=3->autovizwidget>=0.6->sparkmagic) (8.1.0)\n",
            "Requirement already satisfied: six in /usr/local/lib/python3.7/dist-packages (from plotly>=3->autovizwidget>=0.6->sparkmagic) (1.15.0)\n",
            "Requirement already satisfied: wcwidth in /usr/local/lib/python3.7/dist-packages (from prompt-toolkit<2.1.0,>=2.0.0->ipython>=5->sparkmagic) (0.2.5)\n",
            "Collecting pyspnego[kerberos]\n",
            "  Downloading pyspnego-0.6.3-py3-none-any.whl (124 kB)\n",
            "\u001b[K     |████████████████████████████████| 124 kB 75.3 MB/s \n",
            "\u001b[?25hCollecting cryptography>=1.3\n",
            "  Downloading cryptography-38.0.3-cp36-abi3-manylinux_2_24_x86_64.whl (4.1 MB)\n",
            "\u001b[K     |████████████████████████████████| 4.1 MB 52.3 MB/s \n",
            "\u001b[?25hRequirement already satisfied: cffi>=1.12 in /usr/local/lib/python3.7/dist-packages (from cryptography>=1.3->requests_kerberos>=0.8.0->sparkmagic) (1.15.1)\n",
            "Requirement already satisfied: pycparser in /usr/local/lib/python3.7/dist-packages (from cffi>=1.12->cryptography>=1.3->requests_kerberos>=0.8.0->sparkmagic) (2.21)\n",
            "Requirement already satisfied: chardet<4,>=3.0.2 in /usr/local/lib/python3.7/dist-packages (from requests->sparkmagic) (3.0.4)\n",
            "Requirement already satisfied: certifi>=2017.4.17 in /usr/local/lib/python3.7/dist-packages (from requests->sparkmagic) (2022.9.24)\n",
            "Requirement already satisfied: idna<3,>=2.5 in /usr/local/lib/python3.7/dist-packages (from requests->sparkmagic) (2.10)\n",
            "Requirement already satisfied: urllib3!=1.25.0,!=1.25.1,<1.26,>=1.21.1 in /usr/local/lib/python3.7/dist-packages (from requests->sparkmagic) (1.24.3)\n",
            "Requirement already satisfied: ptyprocess in /usr/local/lib/python3.7/dist-packages (from terminado>=0.8.1->notebook>=4.2->sparkmagic) (0.7.0)\n",
            "Requirement already satisfied: MarkupSafe>=0.23 in /usr/local/lib/python3.7/dist-packages (from jinja2->notebook>=4.2->sparkmagic) (2.0.1)\n",
            "Requirement already satisfied: entrypoints>=0.2.2 in /usr/local/lib/python3.7/dist-packages (from nbconvert->jupyter>=1->hdijupyterutils>=0.6->sparkmagic) (0.4)\n",
            "Requirement already satisfied: mistune<2,>=0.8.1 in /usr/local/lib/python3.7/dist-packages (from nbconvert->jupyter>=1->hdijupyterutils>=0.6->sparkmagic) (0.8.4)\n",
            "Requirement already satisfied: bleach in /usr/local/lib/python3.7/dist-packages (from nbconvert->jupyter>=1->hdijupyterutils>=0.6->sparkmagic) (5.0.1)\n",
            "Requirement already satisfied: testpath in /usr/local/lib/python3.7/dist-packages (from nbconvert->jupyter>=1->hdijupyterutils>=0.6->sparkmagic) (0.6.0)\n",
            "Requirement already satisfied: pandocfilters>=1.4.1 in /usr/local/lib/python3.7/dist-packages (from nbconvert->jupyter>=1->hdijupyterutils>=0.6->sparkmagic) (1.5.0)\n",
            "Requirement already satisfied: defusedxml in /usr/local/lib/python3.7/dist-packages (from nbconvert->jupyter>=1->hdijupyterutils>=0.6->sparkmagic) (0.7.1)\n",
            "Requirement already satisfied: jsonschema>=2.6 in /usr/local/lib/python3.7/dist-packages (from nbformat->notebook>=4.2->sparkmagic) (4.3.3)\n",
            "Requirement already satisfied: importlib-metadata>=3.6 in /usr/local/lib/python3.7/dist-packages (from nbformat->notebook>=4.2->sparkmagic) (4.13.0)\n",
            "Requirement already satisfied: fastjsonschema in /usr/local/lib/python3.7/dist-packages (from nbformat->notebook>=4.2->sparkmagic) (2.16.2)\n",
            "Requirement already satisfied: zipp>=0.5 in /usr/local/lib/python3.7/dist-packages (from importlib-metadata>=3.6->nbformat->notebook>=4.2->sparkmagic) (3.10.0)\n",
            "Requirement already satisfied: typing-extensions>=3.6.4 in /usr/local/lib/python3.7/dist-packages (from importlib-metadata>=3.6->nbformat->notebook>=4.2->sparkmagic) (4.1.1)\n",
            "Requirement already satisfied: importlib-resources>=1.4.0 in /usr/local/lib/python3.7/dist-packages (from jsonschema>=2.6->nbformat->notebook>=4.2->sparkmagic) (5.10.0)\n",
            "Requirement already satisfied: pyrsistent!=0.17.0,!=0.17.1,!=0.17.2,>=0.14.0 in /usr/local/lib/python3.7/dist-packages (from jsonschema>=2.6->nbformat->notebook>=4.2->sparkmagic) (0.18.1)\n",
            "Requirement already satisfied: attrs>=17.4.0 in /usr/local/lib/python3.7/dist-packages (from jsonschema>=2.6->nbformat->notebook>=4.2->sparkmagic) (22.1.0)\n",
            "Requirement already satisfied: webencodings in /usr/local/lib/python3.7/dist-packages (from bleach->nbconvert->jupyter>=1->hdijupyterutils>=0.6->sparkmagic) (0.5.1)\n",
            "Collecting krb5>=0.3.0\n",
            "  Downloading krb5-0.4.1.tar.gz (218 kB)\n",
            "\u001b[K     |████████████████████████████████| 218 kB 75.9 MB/s \n",
            "\u001b[?25h  Installing build dependencies ... \u001b[?25l\u001b[?25hdone\n",
            "  Getting requirements to build wheel ... \u001b[?25l\u001b[?25hdone\n",
            "  Installing backend dependencies ... \u001b[?25l\u001b[?25hdone\n",
            "    Preparing wheel metadata ... \u001b[?25l\u001b[?25hdone\n",
            "\u001b[33m  WARNING: Generating metadata for package krb5 produced metadata for project name unknown. Fix your #egg=krb5 fragments.\u001b[0m\n",
            "\u001b[33mWARNING: Discarding https://files.pythonhosted.org/packages/56/f6/64874f52a47e652e37c8648665374e723500a62d82938ea2db842496d2ed/krb5-0.4.1.tar.gz#sha256=606059b9db52086f4e03e15b161d1d172ccc1172880e42fa5744f99a4407cf57 (from https://pypi.org/simple/krb5/) (requires-python:>=3.7). Requested unknown from https://files.pythonhosted.org/packages/56/f6/64874f52a47e652e37c8648665374e723500a62d82938ea2db842496d2ed/krb5-0.4.1.tar.gz#sha256=606059b9db52086f4e03e15b161d1d172ccc1172880e42fa5744f99a4407cf57 (from pyspnego[kerberos]->requests_kerberos>=0.8.0->sparkmagic) has inconsistent name: filename has 'krb5', but metadata has 'UNKNOWN'\u001b[0m\n",
            "  Downloading krb5-0.4.0.tar.gz (218 kB)\n",
            "\u001b[K     |████████████████████████████████| 218 kB 59.4 MB/s \n",
            "\u001b[?25h  Installing build dependencies ... \u001b[?25l\u001b[?25hdone\n",
            "  Getting requirements to build wheel ... \u001b[?25l\u001b[?25hdone\n",
            "  Installing backend dependencies ... \u001b[?25l\u001b[?25hdone\n",
            "    Preparing wheel metadata ... \u001b[?25l\u001b[?25hdone\n",
            "\u001b[33m  WARNING: Generating metadata for package krb5 produced metadata for project name unknown. Fix your #egg=krb5 fragments.\u001b[0m\n",
            "\u001b[33mWARNING: Discarding https://files.pythonhosted.org/packages/30/b2/fbafed4fe18a47bc3ffdd7a591bc02c4cf9e96d092793831cb98d596fa16/krb5-0.4.0.tar.gz#sha256=6eb0e91e044d37cb34c84b831310f4a48951f2902d4ebb65b97cbac5ff1b2264 (from https://pypi.org/simple/krb5/) (requires-python:>=3.7). Requested unknown from https://files.pythonhosted.org/packages/30/b2/fbafed4fe18a47bc3ffdd7a591bc02c4cf9e96d092793831cb98d596fa16/krb5-0.4.0.tar.gz#sha256=6eb0e91e044d37cb34c84b831310f4a48951f2902d4ebb65b97cbac5ff1b2264 (from pyspnego[kerberos]->requests_kerberos>=0.8.0->sparkmagic) has inconsistent name: filename has 'krb5', but metadata has 'UNKNOWN'\u001b[0m\n",
            "  Downloading krb5-0.3.0.tar.gz (1.7 MB)\n",
            "\u001b[K     |████████████████████████████████| 1.7 MB 40.0 MB/s \n",
            "\u001b[?25h  Installing build dependencies ... \u001b[?25l\u001b[?25hdone\n",
            "  Getting requirements to build wheel ... \u001b[?25l\u001b[?25hdone\n",
            "    Preparing wheel metadata ... \u001b[?25l\u001b[?25hdone\n",
            "Collecting gssapi>=1.6.0\n",
            "  Downloading gssapi-1.8.2.tar.gz (94 kB)\n",
            "\u001b[K     |████████████████████████████████| 94 kB 2.1 MB/s \n",
            "\u001b[?25h  Installing build dependencies ... \u001b[?25l\u001b[?25hdone\n",
            "  Getting requirements to build wheel ... \u001b[?25l\u001b[?25hdone\n",
            "  Installing backend dependencies ... \u001b[?25l\u001b[?25hdone\n",
            "    Preparing wheel metadata ... \u001b[?25l\u001b[?25hdone\n",
            "Collecting qtpy>=2.0.1\n",
            "  Downloading QtPy-2.2.1-py3-none-any.whl (82 kB)\n",
            "\u001b[K     |████████████████████████████████| 82 kB 922 kB/s \n",
            "\u001b[?25hRequirement already satisfied: packaging in /usr/local/lib/python3.7/dist-packages (from qtpy>=2.0.1->qtconsole->jupyter>=1->hdijupyterutils>=0.6->sparkmagic) (21.3)\n",
            "Requirement already satisfied: pyparsing!=3.0.5,>=2.0.2 in /usr/local/lib/python3.7/dist-packages (from packaging->qtpy>=2.0.1->qtconsole->jupyter>=1->hdijupyterutils>=0.6->sparkmagic) (3.0.9)\n",
            "Building wheels for collected packages: sparkmagic, autovizwidget, hdijupyterutils, gssapi, krb5\n",
            "  Building wheel for sparkmagic (setup.py) ... \u001b[?25l\u001b[?25hdone\n",
            "  Created wheel for sparkmagic: filename=sparkmagic-0.20.0-py3-none-any.whl size=66523 sha256=37d778dfea4bc268094e1558923749d2ec2d7c45f5402dd86f9a305b68b3e035\n",
            "  Stored in directory: /root/.cache/pip/wheels/3b/c8/8e/4f71d6a433ff3f41964583119c605d3d6bda4a43b4fd07c6e0\n",
            "  Building wheel for autovizwidget (setup.py) ... \u001b[?25l\u001b[?25hdone\n",
            "  Created wheel for autovizwidget: filename=autovizwidget-0.20.0-py3-none-any.whl size=14642 sha256=c9d704a79af65b082c1c78ce90d166af16af7538c43eba8594b8ea1b67753191\n",
            "  Stored in directory: /root/.cache/pip/wheels/a6/d1/e7/ff1252bfa2ff86f488c743b74a2e2e243e8e40aeb4ddeb1047\n",
            "  Building wheel for hdijupyterutils (setup.py) ... \u001b[?25l\u001b[?25hdone\n",
            "  Created wheel for hdijupyterutils: filename=hdijupyterutils-0.20.0-py3-none-any.whl size=7660 sha256=4f9fe075ef89aec05be4e19f2a38b22534ee4c6c05ba8a1e69c926ada74ad844\n",
            "  Stored in directory: /root/.cache/pip/wheels/ee/b9/c5/7b5cee27e18a2d7d380bc1538eead12e558ef6b60ea6870a99\n",
            "  Building wheel for gssapi (PEP 517) ... \u001b[?25l\u001b[?25hdone\n",
            "  Created wheel for gssapi: filename=gssapi-1.8.2-cp37-cp37m-linux_x86_64.whl size=2779559 sha256=c89e1a0c291cd3243e2cd5af1d4c0b323627ec94de1b1305eeac11802ba80261\n",
            "  Stored in directory: /root/.cache/pip/wheels/ea/19/45/5796e41bb54e7cf6334ca54e60a281b589a7e3318d05ba2d8a\n",
            "  Building wheel for krb5 (PEP 517) ... \u001b[?25l\u001b[?25hdone\n",
            "  Created wheel for krb5: filename=krb5-0.3.0-cp37-cp37m-linux_x86_64.whl size=3073548 sha256=cd21456b8e07c4673b05d12d35cbf5116d9413850bb12d25f575d9c53a23a7b0\n",
            "  Stored in directory: /root/.cache/pip/wheels/8d/9c/5b/c797df276a5e2d9fd6ffd544aade607a6edae4428c0b511093\n",
            "Successfully built sparkmagic autovizwidget hdijupyterutils gssapi krb5\n",
            "Installing collected packages: jedi, qtpy, qtconsole, cryptography, pyspnego, nose, mock, krb5, jupyter, gssapi, hdijupyterutils, requests-kerberos, nest-asyncio, autovizwidget, sparkmagic\n",
            "Successfully installed autovizwidget-0.20.0 cryptography-38.0.3 gssapi-1.8.2 hdijupyterutils-0.20.0 jedi-0.18.1 jupyter-1.0.0 krb5-0.3.0 mock-4.0.3 nest-asyncio-1.5.5 nose-1.3.7 pyspnego-0.6.3 qtconsole-5.4.0 qtpy-2.2.1 requests-kerberos-0.14.0 sparkmagic-0.20.0\n",
            "Looking in indexes: https://pypi.org/simple, https://us-python.pkg.dev/colab-wheels/public/simple/\n",
            "Collecting pyspark\n",
            "  Downloading pyspark-3.3.1.tar.gz (281.4 MB)\n",
            "\u001b[K     |████████████████████████████████| 281.4 MB 42 kB/s \n",
            "\u001b[?25hCollecting py4j==0.10.9.5\n",
            "  Downloading py4j-0.10.9.5-py2.py3-none-any.whl (199 kB)\n",
            "\u001b[K     |████████████████████████████████| 199 kB 54.3 MB/s \n",
            "\u001b[?25hBuilding wheels for collected packages: pyspark\n",
            "  Building wheel for pyspark (setup.py) ... \u001b[?25l\u001b[?25hdone\n",
            "  Created wheel for pyspark: filename=pyspark-3.3.1-py2.py3-none-any.whl size=281845513 sha256=fa15b088fe540bc8f72439438f10a1a3a6014c5796dd071c0e094aadeda708ae\n",
            "  Stored in directory: /root/.cache/pip/wheels/42/59/f5/79a5bf931714dcd201b26025347785f087370a10a3329a899c\n",
            "Successfully built pyspark\n",
            "Installing collected packages: py4j, pyspark\n",
            "Successfully installed py4j-0.10.9.5 pyspark-3.3.1\n",
            "Looking in indexes: https://pypi.org/simple, https://us-python.pkg.dev/colab-wheels/public/simple/\n",
            "Requirement already satisfied: pyspark in /usr/local/lib/python3.7/dist-packages (3.3.1)\n",
            "Requirement already satisfied: py4j==0.10.9.5 in /usr/local/lib/python3.7/dist-packages (from pyspark) (0.10.9.5)\n",
            "Looking in indexes: https://pypi.org/simple, https://us-python.pkg.dev/colab-wheels/public/simple/\n",
            "Requirement already satisfied: seaborn in /usr/local/lib/python3.7/dist-packages (0.11.2)\n",
            "Requirement already satisfied: scipy>=1.0 in /usr/local/lib/python3.7/dist-packages (from seaborn) (1.7.3)\n",
            "Requirement already satisfied: numpy>=1.15 in /usr/local/lib/python3.7/dist-packages (from seaborn) (1.21.6)\n",
            "Requirement already satisfied: pandas>=0.23 in /usr/local/lib/python3.7/dist-packages (from seaborn) (1.1.5)\n",
            "Requirement already satisfied: matplotlib>=2.2 in /usr/local/lib/python3.7/dist-packages (from seaborn) (3.2.2)\n",
            "Requirement already satisfied: kiwisolver>=1.0.1 in /usr/local/lib/python3.7/dist-packages (from matplotlib>=2.2->seaborn) (1.4.4)\n",
            "Requirement already satisfied: pyparsing!=2.0.4,!=2.1.2,!=2.1.6,>=2.0.1 in /usr/local/lib/python3.7/dist-packages (from matplotlib>=2.2->seaborn) (3.0.9)\n",
            "Requirement already satisfied: python-dateutil>=2.1 in /usr/local/lib/python3.7/dist-packages (from matplotlib>=2.2->seaborn) (2.8.2)\n",
            "Requirement already satisfied: cycler>=0.10 in /usr/local/lib/python3.7/dist-packages (from matplotlib>=2.2->seaborn) (0.11.0)\n",
            "Requirement already satisfied: typing-extensions in /usr/local/lib/python3.7/dist-packages (from kiwisolver>=1.0.1->matplotlib>=2.2->seaborn) (4.1.1)\n",
            "Requirement already satisfied: pytz>=2017.2 in /usr/local/lib/python3.7/dist-packages (from pandas>=0.23->seaborn) (2022.5)\n",
            "Requirement already satisfied: six>=1.5 in /usr/local/lib/python3.7/dist-packages (from python-dateutil>=2.1->matplotlib>=2.2->seaborn) (1.15.0)\n",
            "Looking in indexes: https://pypi.org/simple, https://us-python.pkg.dev/colab-wheels/public/simple/\n",
            "Requirement already satisfied: plotly in /usr/local/lib/python3.7/dist-packages (5.5.0)\n",
            "Requirement already satisfied: tenacity>=6.2.0 in /usr/local/lib/python3.7/dist-packages (from plotly) (8.1.0)\n",
            "Requirement already satisfied: six in /usr/local/lib/python3.7/dist-packages (from plotly) (1.15.0)\n",
            "Looking in indexes: https://pypi.org/simple, https://us-python.pkg.dev/colab-wheels/public/simple/\n",
            "Requirement already satisfied: imageio in /usr/local/lib/python3.7/dist-packages (2.9.0)\n",
            "Requirement already satisfied: pillow in /usr/local/lib/python3.7/dist-packages (from imageio) (7.1.2)\n",
            "Requirement already satisfied: numpy in /usr/local/lib/python3.7/dist-packages (from imageio) (1.21.6)\n",
            "Looking in indexes: https://pypi.org/simple, https://us-python.pkg.dev/colab-wheels/public/simple/\n",
            "Requirement already satisfied: folium in /usr/local/lib/python3.7/dist-packages (0.12.1.post1)\n",
            "Requirement already satisfied: jinja2>=2.9 in /usr/local/lib/python3.7/dist-packages (from folium) (2.11.3)\n",
            "Requirement already satisfied: branca>=0.3.0 in /usr/local/lib/python3.7/dist-packages (from folium) (0.5.0)\n",
            "Requirement already satisfied: numpy in /usr/local/lib/python3.7/dist-packages (from folium) (1.21.6)\n",
            "Requirement already satisfied: requests in /usr/local/lib/python3.7/dist-packages (from folium) (2.23.0)\n",
            "Requirement already satisfied: MarkupSafe>=0.23 in /usr/local/lib/python3.7/dist-packages (from jinja2>=2.9->folium) (2.0.1)\n",
            "Requirement already satisfied: idna<3,>=2.5 in /usr/local/lib/python3.7/dist-packages (from requests->folium) (2.10)\n",
            "Requirement already satisfied: chardet<4,>=3.0.2 in /usr/local/lib/python3.7/dist-packages (from requests->folium) (3.0.4)\n",
            "Requirement already satisfied: certifi>=2017.4.17 in /usr/local/lib/python3.7/dist-packages (from requests->folium) (2022.9.24)\n",
            "Requirement already satisfied: urllib3!=1.25.0,!=1.25.1,<1.26,>=1.21.1 in /usr/local/lib/python3.7/dist-packages (from requests->folium) (1.24.3)\n"
          ]
        }
      ]
    },
    {
      "cell_type": "code",
      "source": [
        "from pyspark.sql import SparkSession\n",
        "from pyspark.sql.types import *\n",
        "import pyspark.sql.functions as F\n",
        "\n",
        "import os\n",
        "\n",
        "spark = SparkSession.builder.appName('ml-hw4').getOrCreate()"
      ],
      "metadata": {
        "id": "Vsq0iyoge-PU"
      },
      "execution_count": null,
      "outputs": []
    },
    {
      "cell_type": "code",
      "source": [
        "%load_ext sparkmagic.magics"
      ],
      "metadata": {
        "id": "7_hUaF5nfFv6"
      },
      "execution_count": null,
      "outputs": []
    },
    {
      "cell_type": "code",
      "source": [
        "# Graph section\n",
        "import networkx as nx\n",
        "# SQLite RDBMS\n",
        "import sqlite3\n",
        "# Parallel processing\n",
        "# import swifter\n",
        "import pandas as pd\n",
        "# NoSQL DB\n",
        "from pymongo import MongoClient\n",
        "from pymongo.errors import DuplicateKeyError, OperationFailure\n",
        "\n",
        "import os\n",
        "os.environ['SPARK_HOME'] = '/content/spark-3.1.2-bin-hadoop3.2'\n",
        "os.environ[\"JAVA_HOME\"] = \"/usr/lib/jvm/java-8-openjdk-amd64\"\n",
        "import pyspark\n",
        "from pyspark.sql import SQLContext"
      ],
      "metadata": {
        "id": "kJOrCIYYfIXj"
      },
      "execution_count": null,
      "outputs": []
    },
    {
      "cell_type": "code",
      "source": [
        "try:\n",
        "    if(spark == None):\n",
        "        spark = SparkSession.builder.appName('Initial').getOrCreate()\n",
        "        sqlContext=SQLContext(spark)\n",
        "except NameError:\n",
        "    spark = SparkSession.builder.appName('Initial').getOrCreate()\n",
        "    sqlContext=SQLContext(spark)"
      ],
      "metadata": {
        "id": "rnUXhTeMfLFk"
      },
      "execution_count": null,
      "outputs": []
    },
    {
      "cell_type": "markdown",
      "source": [
        "#### **2.1** Initializing Spark Data\n",
        "\n",
        "We have the spark setup ready. Now we need the data for our ML algorithms. We will use the data you processed in Section 1 but in Spark. \n",
        "\n",
        "Read in the .csv that you created into a Spark dataframe (`sdf`). Make sure to set the inferSchema flag to True when you do this so that the columns are the correct datatypes and not all strings."
      ],
      "metadata": {
        "id": "vXIZt4pWfVdM"
      }
    },
    {
      "cell_type": "code",
      "source": [
        "# TO-DO: Read in the csv\n",
        "df1 = spark.read.csv(\"combined.csv\")\n",
        "df1.printSchema()"
      ],
      "metadata": {
        "id": "pWJrKACwfmwz",
        "colab": {
          "base_uri": "https://localhost:8080/"
        },
        "outputId": "60073ea3-7b0a-4a8c-f327-6d6a70ffd5e0"
      },
      "execution_count": null,
      "outputs": [
        {
          "output_type": "stream",
          "name": "stdout",
          "text": [
            "root\n",
            " |-- _c0: string (nullable = true)\n",
            " |-- _c1: string (nullable = true)\n",
            " |-- _c2: string (nullable = true)\n",
            " |-- _c3: string (nullable = true)\n",
            " |-- _c4: string (nullable = true)\n",
            " |-- _c5: string (nullable = true)\n",
            " |-- _c6: string (nullable = true)\n",
            " |-- _c7: string (nullable = true)\n",
            " |-- _c8: string (nullable = true)\n",
            " |-- _c9: string (nullable = true)\n",
            " |-- _c10: string (nullable = true)\n",
            " |-- _c11: string (nullable = true)\n",
            " |-- _c12: string (nullable = true)\n",
            " |-- _c13: string (nullable = true)\n",
            " |-- _c14: string (nullable = true)\n",
            " |-- _c15: string (nullable = true)\n",
            " |-- _c16: string (nullable = true)\n",
            " |-- _c17: string (nullable = true)\n",
            " |-- _c18: string (nullable = true)\n",
            " |-- _c19: string (nullable = true)\n",
            " |-- _c20: string (nullable = true)\n",
            " |-- _c21: string (nullable = true)\n",
            " |-- _c22: string (nullable = true)\n",
            " |-- _c23: string (nullable = true)\n",
            " |-- _c24: string (nullable = true)\n",
            "\n"
          ]
        }
      ]
    },
    {
      "cell_type": "markdown",
      "source": [
        "Print out the Dataframe Schema and verify the datatypes. If you did everything correctly so far, the schema should be:\n",
        "```\n",
        "root\n",
        " |-- _c0: integer (nullable = true)\n",
        " |-- date: string (nullable = true)\n",
        " |-- hour: integer (nullable = true)\n",
        " |-- min: integer (nullable = true)\n",
        " |-- sec: integer (nullable = true)\n",
        " |-- price: double (nullable = true)\n",
        " |-- weather_factor: integer (nullable = true)\n",
        " |-- source: string (nullable = true)\n",
        " |-- destination: string (nullable = true)\n",
        " |-- cab_type: string (nullable = true)\n",
        " |-- fare_type: string (nullable = true)\n",
        " |-- distance: double (nullable = true)\n",
        " |-- surge_multiplier: double (nullable = true)\n",
        " |-- latitude: double (nullable = true)\n",
        " |-- longitude: double (nullable = true)\n",
        " |-- temperature: double (nullable = true)\n",
        " |-- humidity: double (nullable = true)\n",
        " |-- windGust: double (nullable = true)\n",
        " |-- visibility: double (nullable = true)\n",
        " |-- uvIndex: integer (nullable = true)\n",
        " |-- precipIntensity: double (nullable = true)\n",
        " |-- precipProbability: double (nullable = true)\n",
        " |-- above_average: integer (nullable = true)\n",
        " |-- cab_type_label: integer (nullable = true)\n",
        " |-- fare_type_label: integer (nullable = true)\n",
        " ```"
      ],
      "metadata": {
        "id": "j49Ce4bCfwYh"
      }
    },
    {
      "cell_type": "code",
      "source": [
        "# TO-DO: Verify that the schema of your Spark dataframe matches the above\n",
        "schema1 = StructType([   StructField(\"_c0\", IntegerType(), nullable = True),\n",
        "                     StructField(\"date\", StringType(), nullable = True),\n",
        "                     StructField(\"hour\", IntegerType(), nullable = True),\n",
        "                     StructField(\"min\",IntegerType(), nullable = True),\n",
        "                     StructField(\"sec\", IntegerType(), nullable = True),\n",
        "                     StructField(\"price\", DoubleType(), nullable = True),\n",
        "                     StructField(\"weather_factor\", IntegerType(), nullable = True),\n",
        "                     StructField(\"source\", StringType(), nullable = True),\n",
        "                     StructField(\"destination\", StringType(), nullable = True),\n",
        "                     StructField(\"cab_type\", StringType(), nullable = True),\n",
        "                     StructField(\"fare_type\", StringType(), nullable = True),\n",
        "                     StructField(\"distance\", DoubleType(), nullable = True),\n",
        "                     StructField(\"surge_multiplier\", DoubleType(), nullable = True),\n",
        "                     StructField(\"latitude\", DoubleType(), nullable = True),\n",
        "                     StructField(\"longitude\", DoubleType(), nullable = True),\n",
        "                     StructField(\"temperature\", DoubleType(), nullable = True),\n",
        "                     StructField(\"humidity\", DoubleType(), nullable = True),\n",
        "                     StructField(\"windGust\", DoubleType(), nullable = True),\n",
        "                     StructField(\"visibility\", DoubleType(), nullable = True),\n",
        "                     StructField(\"uvIndex\", IntegerType(), nullable = True),\n",
        "                     StructField(\"precipIntensity\", DoubleType(), nullable = True),\n",
        "                     StructField(\"precipProbability\", DoubleType(), nullable = True),\n",
        "                     StructField(\"above_average\", IntegerType(), nullable = True),\n",
        "                     StructField(\"cab_type_label\", IntegerType(), nullable = True),\n",
        "                     StructField(\"fare_type_label\", IntegerType(), nullable = True),        \n",
        "                ])     \n",
        "data_sdf = spark.read.format(\"csv\").option(\"header\", \"true\").schema(schema1).load(\"combined.csv\")\n",
        "data_sdf.printSchema()\n",
        "\n",
        "data_sdf.createOrReplaceTempView(\"sdf\")\n",
        "\n",
        "# Declare SQL query to be excecuted\n",
        "query = '''SELECT * \n",
        "      FROM sdf'''\n",
        "\n",
        "# Save the output sdf of spark.sql() as answer_sdf and convert to Pandas\n",
        "sdf = spark.sql(query)\n",
        "\n",
        "\n"
      ],
      "metadata": {
        "id": "7dRic2gGfzA7",
        "colab": {
          "base_uri": "https://localhost:8080/"
        },
        "outputId": "77ebe3ab-e157-41cb-d056-450d18b26d03"
      },
      "execution_count": null,
      "outputs": [
        {
          "output_type": "stream",
          "name": "stdout",
          "text": [
            "root\n",
            " |-- _c0: integer (nullable = true)\n",
            " |-- date: string (nullable = true)\n",
            " |-- hour: integer (nullable = true)\n",
            " |-- min: integer (nullable = true)\n",
            " |-- sec: integer (nullable = true)\n",
            " |-- price: double (nullable = true)\n",
            " |-- weather_factor: integer (nullable = true)\n",
            " |-- source: string (nullable = true)\n",
            " |-- destination: string (nullable = true)\n",
            " |-- cab_type: string (nullable = true)\n",
            " |-- fare_type: string (nullable = true)\n",
            " |-- distance: double (nullable = true)\n",
            " |-- surge_multiplier: double (nullable = true)\n",
            " |-- latitude: double (nullable = true)\n",
            " |-- longitude: double (nullable = true)\n",
            " |-- temperature: double (nullable = true)\n",
            " |-- humidity: double (nullable = true)\n",
            " |-- windGust: double (nullable = true)\n",
            " |-- visibility: double (nullable = true)\n",
            " |-- uvIndex: integer (nullable = true)\n",
            " |-- precipIntensity: double (nullable = true)\n",
            " |-- precipProbability: double (nullable = true)\n",
            " |-- above_average: integer (nullable = true)\n",
            " |-- cab_type_label: integer (nullable = true)\n",
            " |-- fare_type_label: integer (nullable = true)\n",
            "\n"
          ]
        }
      ]
    },
    {
      "cell_type": "markdown",
      "source": [
        "Great job, we have the processed data now. For Spark ML, we need to create a feature column which has all features concatenated and a single column for labels, which we already have!\n",
        "We will use `VectorAssembler()` to create a feature vector from all categorical and numerical features and we call the final vector as “features”.\n",
        "First list all columns in the data and store it in a list named all_columns."
      ],
      "metadata": {
        "id": "lhG-g1t-f1YN"
      }
    },
    {
      "cell_type": "code",
      "source": [
        "from pyspark.ml.feature import StringIndexer, VectorAssembler\n",
        "\n",
        "# TO-DO: store all columns in the data and store it in a list called \"all_columns\"\n",
        "all_columns = ['_c0', 'date', 'hour', 'min', 'sec', 'price', 'weather_factor', 'source', 'destination', 'cab_type', 'fare_type', 'distance', 'surge_multiplier', 'latitude', 'longitude', 'temperature', 'humidity', 'windGust', 'visibility', 'uvIndex', 'precipIntensity', 'precipProbability', 'above_average', 'cab_type_label', 'fare_type_label']"
      ],
      "metadata": {
        "id": "yS6f7OqNf48w"
      },
      "execution_count": null,
      "outputs": []
    },
    {
      "cell_type": "markdown",
      "source": [
        "Create a list of columns which you don't want to include in your features (i.e. the original columns of labels and probably other columns which don't help the machine learning model). Name this list `drop_columns`."
      ],
      "metadata": {
        "id": "kFPm7jbAgCvt"
      }
    },
    {
      "cell_type": "code",
      "source": [
        "# TO-DO: Create drop_columns\n",
        "drop_columns = ['_c0', 'date', 'source', 'destination','cab_type', 'fare_type','price','above_average']\n"
      ],
      "metadata": {
        "id": "B7A2b_a1f7xP"
      },
      "execution_count": null,
      "outputs": []
    },
    {
      "cell_type": "markdown",
      "source": [
        "Now using `drop_columns` or otherwise, create a list called `columns_to_use` that contains the names of all surviving columns."
      ],
      "metadata": {
        "id": "DeFoYhpWvPRu"
      }
    },
    {
      "cell_type": "code",
      "source": [
        "# TO-DO: Create columns_to_use\n",
        "#sdf.drop(drop_columns).printSchema()\n",
        "#['_c0', 'date', 'hour', 'min', 'sec', 'price', 'weather_factor', 'source', 'destination', 'cab_type', 'fare_type', 'distance', 'surge_multiplier', 'latitude', 'longitude', 'temperature', 'humidity', 'windGust', 'visibility', 'uvIndex', 'precipIntensity', 'precipProbability', 'above_average', 'cab_type_label', 'fare_type_label']\n",
        "columns_to_use = [i for i in all_columns if i not in drop_columns]"
      ],
      "metadata": {
        "id": "yY3fz1irgDbb"
      },
      "execution_count": null,
      "outputs": []
    },
    {
      "cell_type": "code",
      "source": [
        "from numpy.ma.extras import column_stack\n",
        "# 3 points\n",
        "grader.grade(test_case_id = 'check_columns_to_use', answer = columns_to_use)"
      ],
      "metadata": {
        "id": "_hX_lApTgMeG",
        "colab": {
          "base_uri": "https://localhost:8080/"
        },
        "outputId": "3f8cede4-a8af-4f62-f47d-c0e679c8a2e0"
      },
      "execution_count": null,
      "outputs": [
        {
          "output_type": "stream",
          "name": "stdout",
          "text": [
            "Correct! You earned 3/3 points. You are a star!\n",
            "\n",
            "Your submission has been successfully recorded in the gradebook.\n"
          ]
        }
      ]
    },
    {
      "cell_type": "markdown",
      "source": [
        "Create a VectorAssembler object with columns you want to use. Name your output column as `features` (i.e. they are the features you wanna use later)."
      ],
      "metadata": {
        "id": "Sk7YM4O3gPiQ"
      }
    },
    {
      "cell_type": "code",
      "source": [
        "# TO-DO: Create VectorAssembler object (to be used later)\n",
        "\n",
        "vecAssembler = VectorAssembler(inputCols = columns_to_use, outputCol = 'features')"
      ],
      "metadata": {
        "id": "nP92xIhmgTU8"
      },
      "execution_count": null,
      "outputs": []
    },
    {
      "cell_type": "markdown",
      "source": [
        "## **2.2** Create Pipeline\n",
        "\n",
        "Now we will create a pipeline with many stages. For this data, we just need a single stage with the assembler, but you could have other stages before that where you perform operations on the data like converting categorical strings in the features to numeric values, or do feature scaling operations.\n",
        "\n",
        "In this step, we will create a pipeline with a single stage — the assembler. Fit the pipeline to your data and create the transformed dataframe and name it `modified_data_sdf`."
      ],
      "metadata": {
        "id": "mvzi9hTzsBv5"
      }
    },
    {
      "cell_type": "code",
      "source": [
        "from pyspark.ml import Pipeline\n",
        "\n",
        "# Your code goes here\n",
        "pipeline = Pipeline(stages=[vecAssembler])\n",
        "model = pipeline.fit(sdf)\n",
        "modified_data_sdf = model.transform(sdf)"
      ],
      "metadata": {
        "id": "y1d_nR6qsO2Z",
        "colab": {
          "base_uri": "https://localhost:8080/"
        },
        "outputId": "8c0970c9-f4d1-430e-fb28-12124d2fe8fd"
      },
      "execution_count": null,
      "outputs": [
        {
          "output_type": "stream",
          "name": "stdout",
          "text": [
            "+---+----------+----+---+---+-----+--------------+----------------+--------------------+--------+------------+--------+----------------+--------+---------+-----------+--------+--------+------------------+-------+---------------+-----------------+-------------+--------------+---------------+--------------------+\n",
            "|_c0|      date|hour|min|sec|price|weather_factor|          source|         destination|cab_type|   fare_type|distance|surge_multiplier|latitude|longitude|temperature|humidity|windGust|        visibility|uvIndex|precipIntensity|precipProbability|above_average|cab_type_label|fare_type_label|            features|\n",
            "+---+----------+----+---+---+-----+--------------+----------------+--------------------+--------+------------+--------+----------------+--------+---------+-----------+--------+--------+------------------+-------+---------------+-----------------+-------------+--------------+---------------+--------------------+\n",
            "|  0|2018-12-16|   9| 30|  7|  5.0|             2|Haymarket Square|       North Station|    Lyft|      Shared|    0.44|             1.0| 42.2148|  -71.033|      42.34|    0.68|    9.17|              10.0|      0|            0.0|              0.0|            0|             0|              7|[9.0,30.0,7.0,2.0...|\n",
            "|  1|2018-11-27|   2|  0| 23| 11.0|             7|Haymarket Square|       North Station|    Lyft|         Lux|    0.44|             1.0| 42.2148|  -71.033|      43.58|    0.94|   11.98|4.7860000000000005|      0|         0.1299|              1.0|            0|             0|              2|[2.0,0.0,23.0,7.0...|\n",
            "|  2|2018-11-28|   1|  0| 22|  7.0|             0|Haymarket Square|       North Station|    Lyft|        Lyft|    0.44|             1.0| 42.2148|  -71.033|      38.33|    0.75|    7.33|              10.0|      0|            0.0|              0.0|            0|             0|              5|[1.0,0.0,22.0,0.0...|\n",
            "|  3|2018-11-30|   4| 53|  2| 26.0|             0|Haymarket Square|       North Station|    Lyft|Lux Black XL|    0.44|             1.0| 42.2148|  -71.033|      34.38|    0.73|    5.28|              10.0|      0|            0.0|              0.0|            1|             0|              4|[4.0,53.0,2.0,0.0...|\n",
            "|  4|2018-11-29|   3| 49| 20|  9.0|             1|Haymarket Square|       North Station|    Lyft|     Lyft XL|    0.44|             1.0| 42.2148|  -71.033|      37.44|     0.7|    9.14|              10.0|      0|            0.0|              0.0|            0|             0|              6|[3.0,49.0,20.0,1....|\n",
            "|  5|2018-12-17|  18| 25| 12| 16.5|             3|Haymarket Square|       North Station|    Lyft|   Lux Black|    0.44|             1.0| 42.2148|  -71.033|      38.75|    0.84|    8.88|             8.325|      1|            0.0|              0.0|            0|             0|              3|[18.0,25.0,12.0,3...|\n",
            "|  6|2018-11-26|   5|  3|  0| 10.5|             3|        Back Bay|Northeastern Univ...|    Lyft|     Lyft XL|    1.08|             1.0| 42.3503|  -71.081|      41.99|    0.91|    0.88|             4.675|      0|            0.0|              0.0|            0|             0|              6|[5.0,3.0,0.0,3.0,...|\n",
            "|  7|2018-12-02|  19| 53|  4| 16.5|             6|        Back Bay|Northeastern Univ...|    Lyft|   Lux Black|    1.08|             1.0| 42.3503|  -71.081|      49.88|    0.93|    3.38|             3.052|      0|         0.0246|              1.0|            0|             0|              3|[19.0,53.0,4.0,6....|\n",
            "|  8|2018-12-03|   6| 28|  2|  3.0|             8|        Back Bay|Northeastern Univ...|    Lyft|      Shared|    1.08|             1.0| 42.3503|  -71.081|      45.58|    0.96|    2.09|             1.413|      0|            0.0|              0.0|            0|             0|              7|[6.0,28.0,2.0,8.0...|\n",
            "|  9|2018-11-27|  10| 45| 22| 27.5|             6|        Back Bay|Northeastern Univ...|    Lyft|Lux Black XL|    1.08|             1.0| 42.3503|  -71.081|      45.45|    0.93|    7.42|2.6860000000000004|      0|         0.0624|              1.0|            1|             0|              4|[10.0,45.0,22.0,6...|\n",
            "| 10|2018-11-30|  16| 13|  3| 13.5|             0|        Back Bay|Northeastern Univ...|    Lyft|         Lux|    1.08|             1.0| 42.3503|  -71.081|      40.13|    0.62|    4.47|              9.92|      2|            0.0|              0.0|            0|             0|              2|[16.0,13.0,3.0,0....|\n",
            "| 11|2018-11-28|  19| 23|  7|  7.0|             3|        Back Bay|Northeastern Univ...|    Lyft|        Lyft|    1.08|             1.0| 42.3503|  -71.081|      41.47|    0.63|   14.86|              10.0|      0|            0.0|              0.0|            0|             0|              5|[19.0,23.0,7.0,3....|\n",
            "| 12|2018-11-30|  22| 13|  1| 12.0|             3|       North End|            West End|    Uber|      UberXL|    1.11|             1.0| 42.3647| -71.0542|      40.13|     0.6|    3.99|             9.833|      0|            0.0|              0.0|            0|             1|             10|[22.0,13.0,1.0,3....|\n",
            "| 13|2018-12-13|  10| 50| 11| 16.0|             0|       North End|            West End|    Uber|       Black|    1.11|             1.0| 42.3647| -71.0542|      20.38|    0.66|    3.22|             9.831|      0|            0.0|              0.0|            1|             1|              0|[10.0,50.0,11.0,0...|\n",
            "| 14|2018-12-13|  19| 15|  3|  7.5|             2|       North End|            West End|    Uber|       UberX|    1.11|             1.0| 42.3647| -71.0542|      32.85|    0.56|    3.83|             9.959|      0|            0.0|              0.0|            0|             1|              9|[19.0,15.0,3.0,2....|\n",
            "| 15|2018-12-16|  23| 55| 11|  7.5|             6|       North End|            West End|    Uber|         WAV|    1.11|             1.0| 42.3647| -71.0542|      41.29|    0.86|     8.3| 4.053999999999999|      0|         0.0567|             0.94|            0|             1|             11|[23.0,55.0,11.0,6...|\n",
            "| 16|2018-12-14|   0| 40|  7| 26.0|             3|       North End|            West End|    Uber|   Black SUV|    1.11|             1.0| 42.3647| -71.0542|      31.25|    0.64|    3.54|              10.0|      0|            0.0|              0.0|            1|             1|              1|[0.0,40.0,7.0,3.0...|\n",
            "| 17|2018-11-29|  19| 18|  0|  5.5|             2|       North End|            West End|    Uber|    UberPool|    1.11|             1.0| 42.3647| -71.0542|      43.49|    0.52|   19.97|             9.796|      0|            0.0|              0.0|            0|             1|              8|[19.0,18.0,0.0,2....|\n",
            "| 19|2018-12-16|   6| 15| 11| 11.0|             0|   North Station|    Haymarket Square|    Lyft|     Lyft XL|    0.72|             1.0| 42.3661| -71.0631|      40.36|    0.69|    8.47|              10.0|      0|            0.0|              0.0|            0|             0|              6|[6.0,15.0,11.0,0....|\n",
            "| 20|2018-11-27|  19| 18| 22| 16.5|             2|   North Station|    Haymarket Square|    Lyft|   Lux Black|    0.72|             1.0| 42.3661| -71.0631|      42.95|    0.72|    13.8|              10.0|      0|            0.0|              0.0|            0|             0|              3|[19.0,18.0,22.0,2...|\n",
            "+---+----------+----+---+---+-----+--------------+----------------+--------------------+--------+------------+--------+----------------+--------+---------+-----------+--------+--------+------------------+-------+---------------+-----------------+-------------+--------------+---------------+--------------------+\n",
            "only showing top 20 rows\n",
            "\n"
          ]
        }
      ]
    },
    {
      "cell_type": "markdown",
      "source": [
        "Now that we have the data in the format we need, we will create our train and test sets.\n",
        "\n",
        "Conduct a train-test split where 80% of the data is assigned to the training set while the remaining 20% is assigned to the testing set.\n",
        "\n",
        "**Clarifications:**\n",
        "- Name these `train_sdf` and `test_sdf` respectively.\n",
        "- Add the argument `seed = 24` in the function to fix the random state in order to ensure consistency with our results."
      ],
      "metadata": {
        "id": "TMCLmsX2sWz_"
      }
    },
    {
      "cell_type": "code",
      "source": [
        "# TO-DO: Do 80/20 train-test split with seed = 24\n",
        "train_sdf, test_sdf = modified_data_sdf.randomSplit([0.8,0.2], seed = 24)"
      ],
      "metadata": {
        "id": "JBjj8o9vsaLg"
      },
      "execution_count": null,
      "outputs": []
    },
    {
      "cell_type": "code",
      "source": [
        "# 2 points\n",
        "grader.grade(test_case_id = 'check_train_test_split_spark', answer = (train_sdf.count(), test_sdf.count()))"
      ],
      "metadata": {
        "id": "C7M6aOTcsgGP",
        "colab": {
          "base_uri": "https://localhost:8080/"
        },
        "outputId": "493ef398-681b-47a4-e54d-47a081834fef"
      },
      "execution_count": null,
      "outputs": [
        {
          "output_type": "stream",
          "name": "stdout",
          "text": [
            "Correct! You earned 2/2 points. You are a star!\n",
            "\n",
            "Your submission has been successfully recorded in the gradebook.\n"
          ]
        }
      ]
    },
    {
      "cell_type": "markdown",
      "metadata": {
        "id": "a4U2k-r4cKPD"
      },
      "source": [
        "## **2.3** LASSO Regularized Logistic Regression"
      ]
    },
    {
      "cell_type": "markdown",
      "source": [
        "**Logistic Regression Using SparkML**\n",
        "\n",
        "Time to do the cool stuff! Let's train a Logistic Regression model to our data and try to predict whether a ride will be above the average price for that carrier/platform/cab_type again.\n",
        "\n",
        "This time, we will use \"Big\" data tools to help us build a Logistic Regression model for binary classification.\n",
        "\n",
        "Look up the documentation online and try to understand how to implement this.\n",
        "\n",
        "**Model 1: Train a Model without any Regularization.**"
      ],
      "metadata": {
        "id": "2FbFVHYaWr2V"
      }
    },
    {
      "cell_type": "code",
      "source": [
        "from pyspark.ml.classification import LogisticRegression\n",
        "\n",
        "# TO-DO: Instantiate and fit Logistic Regression model to training data\n",
        "lr = LogisticRegression(featuresCol='features', labelCol = 'above_average')\n",
        "clfModel= lr.fit(train_sdf)\n"
      ],
      "metadata": {
        "id": "isJEVu32Ws6D"
      },
      "execution_count": null,
      "outputs": []
    },
    {
      "cell_type": "code",
      "source": [
        "# TO-DO: Get training accuracy\n",
        "trainingSummary = clfModel.summary\n",
        "#training_accuracy = trainingSummary.accuracy"
      ],
      "metadata": {
        "id": "89SqvGHYWxsq"
      },
      "execution_count": null,
      "outputs": []
    },
    {
      "cell_type": "markdown",
      "source": [
        "Now, find out how good the model actually is and see if it overfits to the training data.\n",
        "\n",
        "Predict the label for `above_average` for your test data _(Hint: it is called 'transform' in Spark ML)_"
      ],
      "metadata": {
        "id": "h0CkqbjiWyM_"
      }
    },
    {
      "cell_type": "code",
      "source": [
        "# TO-DO: Make predictions on testing set\n",
        "prediction1 = clfModel.transform(test_sdf)"
      ],
      "metadata": {
        "id": "N0kDXvlbW09r"
      },
      "execution_count": null,
      "outputs": []
    },
    {
      "cell_type": "markdown",
      "source": [
        "Evaluate the performance using the area under the ROC curve using 'BinaryClassificationEvaluator' object in the Spark ML Regression library."
      ],
      "metadata": {
        "id": "P_Qe_O_HyYq8"
      }
    },
    {
      "cell_type": "code",
      "source": [
        "from pyspark.ml.evaluation import BinaryClassificationEvaluator\n",
        "evaluator = BinaryClassificationEvaluator(labelCol='above_average')\n",
        "# TO-DO: Get training accuracy and save to variable called \"training_accuracy\"\n",
        "training_accuracy = trainingSummary.accuracy\n",
        "\n",
        "# TO-DO: Get AUC ROC score and save to variable called \"test_predictions_log\"\n",
        "test_predictions_log = evaluator.evaluate(prediction1, {evaluator.metricName: \"areaUnderROC\"})\n"
      ],
      "metadata": {
        "id": "kvmteSpKXFMJ"
      },
      "execution_count": null,
      "outputs": []
    },
    {
      "cell_type": "code",
      "source": [
        "# 8 points\n",
        "grader.grade(test_case_id = 'check_logistic_without_reg', answer = (training_accuracy, test_predictions_log))"
      ],
      "metadata": {
        "id": "HA9xymKFXN0X",
        "colab": {
          "base_uri": "https://localhost:8080/"
        },
        "outputId": "1e016e12-f7a1-46e1-922c-10ae085c3c82"
      },
      "execution_count": null,
      "outputs": [
        {
          "output_type": "stream",
          "name": "stdout",
          "text": [
            "Correct! You earned 8/8 points. You are a star!\n",
            "\n",
            "Your submission has been successfully recorded in the gradebook.\n"
          ]
        }
      ]
    },
    {
      "cell_type": "markdown",
      "source": [
        "**Model 2: Train a Model with Regularization.**\n",
        "\n",
        "Now, we will add regularization to avoid overfitting. \n",
        "\n",
        "Play around with different regularization parameters - try out LASSO (L1), Ridge (L2) and elastic net (combination of L1 and L2) and different regularization hyperparameters when initializing 3 different regularized logistic regression models. \n",
        "\n",
        "Compare these with each other and the non regularized regression done above.\n",
        "\n",
        "Make sure to evaluate the performance on test data using the same metric as above(area under ROC curve)"
      ],
      "metadata": {
        "id": "gbdKAxIBXSbo"
      }
    },
    {
      "cell_type": "code",
      "source": [
        "from pyspark.ml.regression import LinearRegression\n",
        "# TO-DO: LASSO/L1 regularized model's AUC ROC score and save to \"test_area_l1\" \n",
        "a = LogisticRegression(featuresCol=\"features\", labelCol=\"above_average\", regParam=0, elasticNetParam=0.0, standardization = True)\n",
        "clfModel1= a.fit(train_sdf)\n",
        "test_1 = clfModel1.transform(test_sdf)\n",
        "test_area_l1 = evaluator.evaluate(test_1, {evaluator.metricName: \"areaUnderROC\"})\n",
        "# TO-DO: Ridge/L2 regularized model's AUC ROC score and save to \"test_area_l2\"\n",
        "b = LogisticRegression(featuresCol=\"features\", labelCol=\"above_average\", regParam=0.0, elasticNetParam=1, standardization = True)\n",
        "clfModel2= b.fit(train_sdf)\n",
        "test_2 = clfModel2.transform(test_sdf)\n",
        "test_area_l2 = evaluator.evaluate(test_2, {evaluator.metricName: \"areaUnderROC\"})\n",
        "\n",
        "# TO-DO: Your choice of Elastic Net model's AUC ROC score and save to \"test_area_elastic\"\n",
        "c = LogisticRegression(featuresCol=\"features\", labelCol=\"above_average\", regParam=0.0, elasticNetParam=0.5, standardization = True)\n",
        "clfModel3= c.fit(train_sdf)\n",
        "test_3 = clfModel3.transform(test_sdf)\n",
        "test_area_elastic = evaluator.evaluate(test_3, {evaluator.metricName: \"areaUnderROC\"})\n",
        "\n"
      ],
      "metadata": {
        "id": "8fNf9iAiXTfk"
      },
      "execution_count": null,
      "outputs": []
    },
    {
      "cell_type": "code",
      "source": [
        "# 6 points\n",
        "grader.grade(test_case_id = 'check_logistic_with_reg', answer = (test_area_l1, test_area_l2, test_area_elastic))"
      ],
      "metadata": {
        "id": "DurugFakXe-P",
        "colab": {
          "base_uri": "https://localhost:8080/"
        },
        "outputId": "ecd866cf-5e7f-417f-94ef-80146cf6c106"
      },
      "execution_count": null,
      "outputs": [
        {
          "output_type": "stream",
          "name": "stdout",
          "text": [
            "Correct! You earned 6/6 points. You are a star!\n",
            "\n",
            "Your submission has been successfully recorded in the gradebook.\n"
          ]
        }
      ]
    },
    {
      "cell_type": "markdown",
      "metadata": {
        "id": "EMfnmzDZcKPE"
      },
      "source": [
        "## **2.4** Random Forest\n",
        "\n",
        "If you are looking to win Kaggle competitions, you definitely must know about Random Forests, Boosted Trees, etc. These ensemble methods generalize and work surprisingly well for a lot of classification problems and sometimes for regression problems (though regression trees are not the focus of this course).\n",
        "\n",
        "Let's give it a go. Similar to what you did for the Logistic Regression model, create a Random Forest classifier model and fit it to the training data.\n",
        "\n",
        "**Note:**\n",
        "- Try different values for the parameters in Random Forest to find a model good enought to pass the autograder. Once you cover hyperparameter tuning in lecture, you can use those skills here.\n",
        "- Reduce the number of trees and `max_depth` if you have connection error/Timing out."
      ]
    },
    {
      "cell_type": "code",
      "execution_count": null,
      "metadata": {
        "id": "aq20dW0XcKPF"
      },
      "outputs": [],
      "source": [
        "from pyspark.ml.classification import RandomForestClassifier\n",
        "from pyspark.ml.feature import StringIndexer\n",
        "\n",
        "# TO-DO: Instantiate and fit RF Model to training data\n",
        "rf = RandomForestClassifier().setLabelCol(\"above_average\").setFeaturesCol(\"features\").setNumTrees(100).setMaxDepth(10)\n",
        "rfModel= rf.fit(train_sdf)"
      ]
    },
    {
      "cell_type": "markdown",
      "source": [
        "This time, get predictions on both the training and testing sets."
      ],
      "metadata": {
        "id": "smJ9cPBl2L8z"
      }
    },
    {
      "cell_type": "code",
      "source": [
        "# TO-DO: Get predictions and save to \"train_pred\" and \"test_pred\" respectively\n",
        "train_pred = rfModel.transform(train_sdf)\n",
        "test_pred = rfModel.transform(test_sdf)"
      ],
      "metadata": {
        "id": "yVUZZk0TntjC"
      },
      "execution_count": null,
      "outputs": []
    },
    {
      "cell_type": "markdown",
      "source": [
        "Evaluate only using the Area Under the ROC Curve (AUC ROC) metric this time."
      ],
      "metadata": {
        "id": "hYXCM7gG2ywa"
      }
    },
    {
      "cell_type": "code",
      "source": [
        "# TO-DO: Evaluate predictions using AUC ROC for both train and test\n",
        "#        and call these \"train_area\" and \"test_area\" respectively\n",
        "train_area = evaluator.evaluate(train_pred, {evaluator.metricName: \"areaUnderROC\"})\n",
        "test_area = evaluator.evaluate(test_pred, {evaluator.metricName: \"areaUnderROC\"})"
      ],
      "metadata": {
        "id": "ryve4Jrgny2p"
      },
      "execution_count": null,
      "outputs": []
    },
    {
      "cell_type": "code",
      "source": [
        "# 8 points\n",
        "grader.grade(test_case_id = 'check_random_forest', answer = (train_area, test_area))"
      ],
      "metadata": {
        "id": "7Imj7A8En4ny",
        "colab": {
          "base_uri": "https://localhost:8080/"
        },
        "outputId": "eeb31e5f-6557-4fbc-9b5c-c13f9103ee28"
      },
      "execution_count": null,
      "outputs": [
        {
          "output_type": "stream",
          "name": "stdout",
          "text": [
            "Correct! You earned 8/8 points. You are a star!\n",
            "\n",
            "Your submission has been successfully recorded in the gradebook.\n"
          ]
        }
      ]
    },
    {
      "cell_type": "markdown",
      "source": [
        "##**2.5** Dimensionality Reduction Using PCA\n",
        "\n",
        "We will again use the powerful PCA to reduce the dimensions and project the data onto a lower dimensional space and fit a logistic regression on the new projected data.\n",
        "\n",
        "You will need to choose a new appropriate value for the number of dimensions.\n",
        "\n",
        "_Steps for this section:_\n",
        "1.   Initialize a PCA model with the appropriate number of dimensions.\n",
        "2.   Fit the model using the training data\n",
        "3.   Get the PCA features from the trained model\n",
        "4.   Train a Logistic Regression model using the PCA features\n",
        "5.   Evaluate the performance on the test set using the Area Under the ROC Curve (AUC ROC) metric"
      ],
      "metadata": {
        "id": "Iveni93tn9hi"
      }
    },
    {
      "cell_type": "code",
      "source": [
        "from pyspark.ml.feature import PCA\n",
        "# TO-DO:\n",
        "p =PCA(k = 2, inputCol='features', outputCol = 'pca')\n",
        "pmodel= p.fit(train_sdf)\n",
        "transformed_train = pmodel.transform(train_sdf)\n",
        "pca_lr = LogisticRegression(featuresCol = 'features', labelCol = 'above_average')\n",
        "pca_lr_model = pca_lr.fit(transformed_train)"
      ],
      "metadata": {
        "id": "Td_SnRHYoKuO"
      },
      "execution_count": null,
      "outputs": []
    },
    {
      "cell_type": "code",
      "source": [
        "# TO-DO: Evaluate predictions on train and call this \"training_ROC_area_pca\"\n",
        "# TO-DO: Evaluate predictions on test and call this \"test_ROC_area_pca\"\n",
        "pca_pred_train = pca_lr_model.transform(transformed_train)\n",
        "training_ROC_area_pca = evaluator.evaluate(pca_pred_train, {evaluator.metricName: \"areaUnderPR\"})\n",
        "transfrom_test = pmodel.transform(test_sdf)\n",
        "pca_pred_test = pca_lr_model.transform(transfrom_test)\n",
        "test_ROC_area_pca = evaluator.evaluate(pca_pred_test, {evaluator.metricName: \"areaUnderPR\"})\n",
        "\n",
        "\n"
      ],
      "metadata": {
        "id": "AMv1Cw2Wo25C"
      },
      "execution_count": null,
      "outputs": []
    },
    {
      "cell_type": "code",
      "source": [
        "# 8 points\n",
        "grader.grade(test_case_id = 'check_pca', answer = (training_ROC_area_pca, test_ROC_area_pca))"
      ],
      "metadata": {
        "id": "Y4rkfgDzpIBz",
        "colab": {
          "base_uri": "https://localhost:8080/"
        },
        "outputId": "c0e1c847-270c-473d-d406-1aea43bb1edc"
      },
      "execution_count": null,
      "outputs": [
        {
          "output_type": "stream",
          "name": "stdout",
          "text": [
            "Correct! You earned 8/8 points. You are a star!\n",
            "\n",
            "Your submission has been successfully recorded in the gradebook.\n"
          ]
        }
      ]
    },
    {
      "cell_type": "markdown",
      "source": [
        "# Homework Submission\n",
        "\n",
        "Good job! You finished the homework :) The submission instructions are as follows:\n",
        "\n",
        "* **Double check** that you have the correct PennID (all numbers) in the autograder. \n",
        "\n",
        "* **Triple check** that you have all plots shown in this Colab notebook before submitting (otherwise subject to a **penalty of -3 points**)\n",
        "\n",
        "*  Go to the \"File\" tab at the top left, and click \"Download .ipynb\" and then \"Download .py\".  **Rename** the files to \"homework4.ipynb\" and \"homework4.py\" respectively and upload them to Gradescope.\n",
        "\n",
        "* You must submit your notebook to receive credit. Post any issues with submission on Ed Discussion and make sure to keep in mind the late day policy.\n",
        "\n",
        "* We will do a manual round of grading to sanity check that the stuff you have .\n"
      ],
      "metadata": {
        "id": "oQNYaTMspbWT"
      }
    }
  ],
  "metadata": {
    "kernelspec": {
      "display_name": "Python 3",
      "language": "python",
      "name": "python3"
    },
    "language_info": {
      "codemirror_mode": {
        "name": "ipython",
        "version": 3
      },
      "file_extension": ".py",
      "mimetype": "text/x-python",
      "name": "python",
      "nbconvert_exporter": "python",
      "pygments_lexer": "ipython3",
      "version": "3.7.1"
    },
    "colab": {
      "provenance": [],
      "collapsed_sections": []
    }
  },
  "nbformat": 4,
  "nbformat_minor": 0
}